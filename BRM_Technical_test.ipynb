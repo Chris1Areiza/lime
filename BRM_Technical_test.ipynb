{
  "nbformat": 4,
  "nbformat_minor": 0,
  "metadata": {
    "colab": {
      "provenance": [],
      "authorship_tag": "ABX9TyMkQuom3i5vp3CaykjACThL",
      "include_colab_link": true
    },
    "kernelspec": {
      "name": "python3",
      "display_name": "Python 3"
    },
    "language_info": {
      "name": "python"
    }
  },
  "cells": [
    {
      "cell_type": "markdown",
      "metadata": {
        "id": "view-in-github",
        "colab_type": "text"
      },
      "source": [
        "<a href=\"https://colab.research.google.com/github/Chris1Areiza/lime/blob/main/BRM_Technical_test.ipynb\" target=\"_parent\"><img src=\"https://colab.research.google.com/assets/colab-badge.svg\" alt=\"Open In Colab\"/></a>"
      ]
    },
    {
      "cell_type": "markdown",
      "source": [
        "#**Resolución de Prueba Técnica BRM**"
      ],
      "metadata": {
        "id": "oOzZUD-GNs5i"
      }
    },
    {
      "cell_type": "markdown",
      "source": [
        "##**Ejercicio 1**"
      ],
      "metadata": {
        "id": "worLXlusNj5a"
      }
    },
    {
      "cell_type": "markdown",
      "source": [
        "###**Descripción de variables**"
      ],
      "metadata": {
        "id": "O_qiB4jNmDRG"
      }
    },
    {
      "cell_type": "markdown",
      "source": [
        "Para tener un mayor entendimiento, vamos a describir las variables del dataset. Se tienen en total 13 variables.\n",
        "\n",
        "**Fecha:** Corresponde al día en que se realizó el registro. Se encuentra en formato DD/MM/YY.\n",
        "\n",
        "**Intervalo:** Corresponde a la hora\n",
        "\n",
        "**Inflow:** Esta variable hace referencia al número de interacciones o consultas recibidas en un determinado intervalo de tiempo. Puede referirse a llamadas telefónicas, correos electrónicos, mensajes de chat, entre otros, dependiendo del contexto de servicio al cliente o centro de llamadas.\n",
        "\n",
        "**CSAT:** CSAT es la abreviatura de Customer Satisfaction Score. Es una medición común de cómo un cliente califica su experiencia o satisfacción con un servicio o producto en una escala de 1 a 5. Normalmente, 1 significa muy insatisfecho y 5 muy satisfecho.\n",
        "\n",
        "**% Reopen:** Esta es la proporción o porcentaje de interacciones o casos que se han vuelto a abrir después de haber sido cerrados inicialmente. Un alto porcentaje de reapertura puede indicar problemas con la resolución de casos o la satisfacción del cliente.\n",
        "\n",
        "**RT (min):** RT es la abreviatura de Resolution Time, que es el tiempo total que se tarda en resolver una interacción desde que se recibe hasta que se cierra. Este tiempo se suele medir en minutos.\n",
        "\n",
        "**FRT (min):** FRT es el tiempo de respuesta promedio. Es el tiempo que se tarda en responder a un cliente desde que se recibe su interacción. Este tiempo se suele medir en minutos.\n",
        "\n",
        "**SLA:** SLA significa Service Level Agreement. Es un acuerdo entre un proveedor de servicio y un cliente que define el nivel de servicio esperado. Puede incluir varias métricas como el tiempo de respuesta, la resolución de problemas, la disponibilidad del servicio, entre otros.\n",
        "\n",
        "**PD:** Esta variable se refiere a la cantidad de casos que se cerraron en un determinado intervalo de tiempo. Cuanto mayor sea este número, más casos se resolvieron.\n",
        "\n",
        "**AHT (min):** AHT es la abreviatura de Average Handle Time. Es el tiempo medio que se tarda en gestionar una interacción desde que se inicia hasta que se cierra, incluyendo el tiempo de espera y cualquier seguimiento que pueda ser necesario.\n",
        "\n",
        "**Conectados:** Esta variable indica el número de agentes que estuvieron gestionando interacciones durante un determinado intervalo de tiempo. Este número puede ayudar a entender la capacidad de servicio en un momento dado.\n",
        "\n",
        "**Cierres:** Esta es la cantidad total de interacciones o casos que se cerraron en un determinado intervalo de tiempo.\n",
        "\n",
        "**Conexión intervalo (hrs):** Este es el tiempo total durante el cual los agentes estuvieron conectados y disponibles para gestionar interacciones durante un intervalo de tiempo determinado. Este tiempo se suele medir en horas."
      ],
      "metadata": {
        "id": "qYxbSA9fmIUe"
      }
    },
    {
      "cell_type": "markdown",
      "source": [
        "###**Entendimiento de la data**"
      ],
      "metadata": {
        "id": "apo3DBEd_e7r"
      }
    },
    {
      "cell_type": "code",
      "source": [
        "!pip install keras-tuner"
      ],
      "metadata": {
        "colab": {
          "base_uri": "https://localhost:8080/"
        },
        "id": "gSaaqvyJqmyL",
        "outputId": "38e07d4f-7043-4497-ea1a-a079d932f4a4"
      },
      "execution_count": 1,
      "outputs": [
        {
          "output_type": "stream",
          "name": "stdout",
          "text": [
            "Collecting keras-tuner\n",
            "  Downloading keras_tuner-1.3.5-py3-none-any.whl (176 kB)\n",
            "\u001b[2K     \u001b[90m━━━━━━━━━━━━━━━━━━━━━━━━━━━━━━━━━━━━━━━\u001b[0m \u001b[32m176.1/176.1 kB\u001b[0m \u001b[31m2.4 MB/s\u001b[0m eta \u001b[36m0:00:00\u001b[0m\n",
            "\u001b[?25hRequirement already satisfied: packaging in /usr/local/lib/python3.10/dist-packages (from keras-tuner) (23.1)\n",
            "Requirement already satisfied: requests in /usr/local/lib/python3.10/dist-packages (from keras-tuner) (2.27.1)\n",
            "Collecting kt-legacy (from keras-tuner)\n",
            "  Downloading kt_legacy-1.0.5-py3-none-any.whl (9.6 kB)\n",
            "Requirement already satisfied: urllib3<1.27,>=1.21.1 in /usr/local/lib/python3.10/dist-packages (from requests->keras-tuner) (1.26.16)\n",
            "Requirement already satisfied: certifi>=2017.4.17 in /usr/local/lib/python3.10/dist-packages (from requests->keras-tuner) (2023.7.22)\n",
            "Requirement already satisfied: charset-normalizer~=2.0.0 in /usr/local/lib/python3.10/dist-packages (from requests->keras-tuner) (2.0.12)\n",
            "Requirement already satisfied: idna<4,>=2.5 in /usr/local/lib/python3.10/dist-packages (from requests->keras-tuner) (3.4)\n",
            "Installing collected packages: kt-legacy, keras-tuner\n",
            "Successfully installed keras-tuner-1.3.5 kt-legacy-1.0.5\n"
          ]
        }
      ]
    },
    {
      "cell_type": "code",
      "execution_count": 2,
      "metadata": {
        "id": "-SR92yRKXzEc",
        "colab": {
          "base_uri": "https://localhost:8080/"
        },
        "outputId": "92d1786d-3830-4024-9c37-f73436e61077"
      },
      "outputs": [
        {
          "output_type": "stream",
          "name": "stderr",
          "text": [
            "<ipython-input-2-f4411bdc7ebd>:8: DeprecationWarning: `import kerastuner` is deprecated, please use `import keras_tuner`.\n",
            "  from kerastuner.tuners import RandomSearch\n"
          ]
        }
      ],
      "source": [
        "# Importar las librerías necesarias.\n",
        "import matplotlib.pyplot as plt # visualización\n",
        "import numpy as np # operaciones matemáticas\n",
        "import pandas as pd # análisis y manipulación de datos\n",
        "import seaborn as sns # visualización\n",
        "from google.colab import drive # llamar desde drive\n",
        "from keras.wrappers.scikit_learn import KerasRegressor\n",
        "from kerastuner.tuners import RandomSearch\n",
        "import matplotlib.pyplot as plt\n",
        "from sklearn.cluster import KMeans\n",
        "from sklearn.ensemble import RandomForestRegressor\n",
        "from sklearn.linear_model import Ridge\n",
        "from sklearn.metrics import mean_absolute_error, mean_squared_error, r2_score\n",
        "from sklearn.model_selection import GridSearchCV, train_test_split\n",
        "from sklearn.preprocessing import StandardScaler\n",
        "from sklearn.tree import DecisionTreeRegressor\n",
        "from tensorflow import keras\n",
        "from tensorflow.keras import layers\n",
        "import tensorflow as tf\n",
        "import warnings # ignorar los warnings\n",
        "\n",
        "sns.set_style('whitegrid') # set style para la visualización\n",
        "warnings.filterwarnings('ignore') # ignorar los warnings"
      ]
    },
    {
      "cell_type": "code",
      "source": [
        "#Leer los datos desde el csv file.\n",
        "drive.mount('/content/drive')\n",
        "data = pd.read_csv('drive/MyDrive/data_brm.csv', sep=';', encoding='ISO-8859-1', index_col=None)"
      ],
      "metadata": {
        "colab": {
          "base_uri": "https://localhost:8080/"
        },
        "id": "BTxvSsJrYjP-",
        "outputId": "3cb208bb-55b1-4ec1-d33c-2e295d725001"
      },
      "execution_count": 3,
      "outputs": [
        {
          "output_type": "stream",
          "name": "stdout",
          "text": [
            "Mounted at /content/drive\n"
          ]
        }
      ]
    },
    {
      "cell_type": "code",
      "source": [
        "# Imprimir la forma y los primeros registros del dataset.\n",
        "print(data.shape)\n",
        "data.head()"
      ],
      "metadata": {
        "colab": {
          "base_uri": "https://localhost:8080/",
          "height": 224
        },
        "id": "7ywZBh2EZUo8",
        "outputId": "32069852-d574-47c9-c5e4-5170e7a9ff92"
      },
      "execution_count": 33,
      "outputs": [
        {
          "output_type": "stream",
          "name": "stdout",
          "text": [
            "(4322, 13)\n"
          ]
        },
        {
          "output_type": "execute_result",
          "data": {
            "text/plain": [
              "       Fecha       Intervalo  Conectados  Inflow % Reopen    FRT (min)  \\\n",
              "0  1/01/2022  12:00:00 a. m.        10.0    91.0   15,38%       588,45   \n",
              "1  1/01/2022  12:30:00 a. m.        10.0    59.0   20,34%        568,3   \n",
              "2  1/01/2022   1:00:00 a. m.         6.0    31.0   12,90%  543,3833333   \n",
              "3  1/01/2022   1:30:00 a. m.         5.0    28.0   17,86%      514,525   \n",
              "4  1/01/2022   2:00:00 a. m.         2.0    23.0   21,74%       371,55   \n",
              "\n",
              "     AHT (min)     RT (min) % SLA  Cierres Conexión Intervalo (hrs)  \\\n",
              "0     9,181425     597,7713   62%     66.0              7,475555583   \n",
              "1  9,006758333  579,1451833   73%    100.0               7,76666665   \n",
              "2  6,140216667  550,3989167   68%     79.0              7,358333317   \n",
              "3  11,81930833     525,1912   82%     70.0              6,894722217   \n",
              "4  11,92571667  502,1804167   78%     52.0                   4,5225   \n",
              "\n",
              "            PD        CSAT   \n",
              "0  8,828775235  2,230769231  \n",
              "1  12,87553651          1,5  \n",
              "2  10,73612686          2,6  \n",
              "3  10,15269329  1,333333333  \n",
              "4  11,49806523  2,571428571  "
            ],
            "text/html": [
              "\n",
              "\n",
              "  <div id=\"df-cbb610e5-19e4-4bf3-8d81-2f2159a4cce7\">\n",
              "    <div class=\"colab-df-container\">\n",
              "      <div>\n",
              "<style scoped>\n",
              "    .dataframe tbody tr th:only-of-type {\n",
              "        vertical-align: middle;\n",
              "    }\n",
              "\n",
              "    .dataframe tbody tr th {\n",
              "        vertical-align: top;\n",
              "    }\n",
              "\n",
              "    .dataframe thead th {\n",
              "        text-align: right;\n",
              "    }\n",
              "</style>\n",
              "<table border=\"1\" class=\"dataframe\">\n",
              "  <thead>\n",
              "    <tr style=\"text-align: right;\">\n",
              "      <th></th>\n",
              "      <th>Fecha</th>\n",
              "      <th>Intervalo</th>\n",
              "      <th>Conectados</th>\n",
              "      <th>Inflow</th>\n",
              "      <th>% Reopen</th>\n",
              "      <th>FRT (min)</th>\n",
              "      <th>AHT (min)</th>\n",
              "      <th>RT (min)</th>\n",
              "      <th>% SLA</th>\n",
              "      <th>Cierres</th>\n",
              "      <th>Conexión Intervalo (hrs)</th>\n",
              "      <th>PD</th>\n",
              "      <th>CSAT</th>\n",
              "    </tr>\n",
              "  </thead>\n",
              "  <tbody>\n",
              "    <tr>\n",
              "      <th>0</th>\n",
              "      <td>1/01/2022</td>\n",
              "      <td>12:00:00 a. m.</td>\n",
              "      <td>10.0</td>\n",
              "      <td>91.0</td>\n",
              "      <td>15,38%</td>\n",
              "      <td>588,45</td>\n",
              "      <td>9,181425</td>\n",
              "      <td>597,7713</td>\n",
              "      <td>62%</td>\n",
              "      <td>66.0</td>\n",
              "      <td>7,475555583</td>\n",
              "      <td>8,828775235</td>\n",
              "      <td>2,230769231</td>\n",
              "    </tr>\n",
              "    <tr>\n",
              "      <th>1</th>\n",
              "      <td>1/01/2022</td>\n",
              "      <td>12:30:00 a. m.</td>\n",
              "      <td>10.0</td>\n",
              "      <td>59.0</td>\n",
              "      <td>20,34%</td>\n",
              "      <td>568,3</td>\n",
              "      <td>9,006758333</td>\n",
              "      <td>579,1451833</td>\n",
              "      <td>73%</td>\n",
              "      <td>100.0</td>\n",
              "      <td>7,76666665</td>\n",
              "      <td>12,87553651</td>\n",
              "      <td>1,5</td>\n",
              "    </tr>\n",
              "    <tr>\n",
              "      <th>2</th>\n",
              "      <td>1/01/2022</td>\n",
              "      <td>1:00:00 a. m.</td>\n",
              "      <td>6.0</td>\n",
              "      <td>31.0</td>\n",
              "      <td>12,90%</td>\n",
              "      <td>543,3833333</td>\n",
              "      <td>6,140216667</td>\n",
              "      <td>550,3989167</td>\n",
              "      <td>68%</td>\n",
              "      <td>79.0</td>\n",
              "      <td>7,358333317</td>\n",
              "      <td>10,73612686</td>\n",
              "      <td>2,6</td>\n",
              "    </tr>\n",
              "    <tr>\n",
              "      <th>3</th>\n",
              "      <td>1/01/2022</td>\n",
              "      <td>1:30:00 a. m.</td>\n",
              "      <td>5.0</td>\n",
              "      <td>28.0</td>\n",
              "      <td>17,86%</td>\n",
              "      <td>514,525</td>\n",
              "      <td>11,81930833</td>\n",
              "      <td>525,1912</td>\n",
              "      <td>82%</td>\n",
              "      <td>70.0</td>\n",
              "      <td>6,894722217</td>\n",
              "      <td>10,15269329</td>\n",
              "      <td>1,333333333</td>\n",
              "    </tr>\n",
              "    <tr>\n",
              "      <th>4</th>\n",
              "      <td>1/01/2022</td>\n",
              "      <td>2:00:00 a. m.</td>\n",
              "      <td>2.0</td>\n",
              "      <td>23.0</td>\n",
              "      <td>21,74%</td>\n",
              "      <td>371,55</td>\n",
              "      <td>11,92571667</td>\n",
              "      <td>502,1804167</td>\n",
              "      <td>78%</td>\n",
              "      <td>52.0</td>\n",
              "      <td>4,5225</td>\n",
              "      <td>11,49806523</td>\n",
              "      <td>2,571428571</td>\n",
              "    </tr>\n",
              "  </tbody>\n",
              "</table>\n",
              "</div>\n",
              "      <button class=\"colab-df-convert\" onclick=\"convertToInteractive('df-cbb610e5-19e4-4bf3-8d81-2f2159a4cce7')\"\n",
              "              title=\"Convert this dataframe to an interactive table.\"\n",
              "              style=\"display:none;\">\n",
              "\n",
              "  <svg xmlns=\"http://www.w3.org/2000/svg\" height=\"24px\"viewBox=\"0 0 24 24\"\n",
              "       width=\"24px\">\n",
              "    <path d=\"M0 0h24v24H0V0z\" fill=\"none\"/>\n",
              "    <path d=\"M18.56 5.44l.94 2.06.94-2.06 2.06-.94-2.06-.94-.94-2.06-.94 2.06-2.06.94zm-11 1L8.5 8.5l.94-2.06 2.06-.94-2.06-.94L8.5 2.5l-.94 2.06-2.06.94zm10 10l.94 2.06.94-2.06 2.06-.94-2.06-.94-.94-2.06-.94 2.06-2.06.94z\"/><path d=\"M17.41 7.96l-1.37-1.37c-.4-.4-.92-.59-1.43-.59-.52 0-1.04.2-1.43.59L10.3 9.45l-7.72 7.72c-.78.78-.78 2.05 0 2.83L4 21.41c.39.39.9.59 1.41.59.51 0 1.02-.2 1.41-.59l7.78-7.78 2.81-2.81c.8-.78.8-2.07 0-2.86zM5.41 20L4 18.59l7.72-7.72 1.47 1.35L5.41 20z\"/>\n",
              "  </svg>\n",
              "      </button>\n",
              "\n",
              "\n",
              "\n",
              "    <div id=\"df-3f142620-f5bf-4116-8fb9-b81c978649d2\">\n",
              "      <button class=\"colab-df-quickchart\" onclick=\"quickchart('df-3f142620-f5bf-4116-8fb9-b81c978649d2')\"\n",
              "              title=\"Suggest charts.\"\n",
              "              style=\"display:none;\">\n",
              "\n",
              "<svg xmlns=\"http://www.w3.org/2000/svg\" height=\"24px\"viewBox=\"0 0 24 24\"\n",
              "     width=\"24px\">\n",
              "    <g>\n",
              "        <path d=\"M19 3H5c-1.1 0-2 .9-2 2v14c0 1.1.9 2 2 2h14c1.1 0 2-.9 2-2V5c0-1.1-.9-2-2-2zM9 17H7v-7h2v7zm4 0h-2V7h2v10zm4 0h-2v-4h2v4z\"/>\n",
              "    </g>\n",
              "</svg>\n",
              "      </button>\n",
              "    </div>\n",
              "\n",
              "<style>\n",
              "  .colab-df-quickchart {\n",
              "    background-color: #E8F0FE;\n",
              "    border: none;\n",
              "    border-radius: 50%;\n",
              "    cursor: pointer;\n",
              "    display: none;\n",
              "    fill: #1967D2;\n",
              "    height: 32px;\n",
              "    padding: 0 0 0 0;\n",
              "    width: 32px;\n",
              "  }\n",
              "\n",
              "  .colab-df-quickchart:hover {\n",
              "    background-color: #E2EBFA;\n",
              "    box-shadow: 0px 1px 2px rgba(60, 64, 67, 0.3), 0px 1px 3px 1px rgba(60, 64, 67, 0.15);\n",
              "    fill: #174EA6;\n",
              "  }\n",
              "\n",
              "  [theme=dark] .colab-df-quickchart {\n",
              "    background-color: #3B4455;\n",
              "    fill: #D2E3FC;\n",
              "  }\n",
              "\n",
              "  [theme=dark] .colab-df-quickchart:hover {\n",
              "    background-color: #434B5C;\n",
              "    box-shadow: 0px 1px 3px 1px rgba(0, 0, 0, 0.15);\n",
              "    filter: drop-shadow(0px 1px 2px rgba(0, 0, 0, 0.3));\n",
              "    fill: #FFFFFF;\n",
              "  }\n",
              "</style>\n",
              "\n",
              "    <script>\n",
              "      async function quickchart(key) {\n",
              "        const containerElement = document.querySelector('#' + key);\n",
              "        const charts = await google.colab.kernel.invokeFunction(\n",
              "            'suggestCharts', [key], {});\n",
              "      }\n",
              "    </script>\n",
              "\n",
              "      <script>\n",
              "\n",
              "function displayQuickchartButton(domScope) {\n",
              "  let quickchartButtonEl =\n",
              "    domScope.querySelector('#df-3f142620-f5bf-4116-8fb9-b81c978649d2 button.colab-df-quickchart');\n",
              "  quickchartButtonEl.style.display =\n",
              "    google.colab.kernel.accessAllowed ? 'block' : 'none';\n",
              "}\n",
              "\n",
              "        displayQuickchartButton(document);\n",
              "      </script>\n",
              "      <style>\n",
              "    .colab-df-container {\n",
              "      display:flex;\n",
              "      flex-wrap:wrap;\n",
              "      gap: 12px;\n",
              "    }\n",
              "\n",
              "    .colab-df-convert {\n",
              "      background-color: #E8F0FE;\n",
              "      border: none;\n",
              "      border-radius: 50%;\n",
              "      cursor: pointer;\n",
              "      display: none;\n",
              "      fill: #1967D2;\n",
              "      height: 32px;\n",
              "      padding: 0 0 0 0;\n",
              "      width: 32px;\n",
              "    }\n",
              "\n",
              "    .colab-df-convert:hover {\n",
              "      background-color: #E2EBFA;\n",
              "      box-shadow: 0px 1px 2px rgba(60, 64, 67, 0.3), 0px 1px 3px 1px rgba(60, 64, 67, 0.15);\n",
              "      fill: #174EA6;\n",
              "    }\n",
              "\n",
              "    [theme=dark] .colab-df-convert {\n",
              "      background-color: #3B4455;\n",
              "      fill: #D2E3FC;\n",
              "    }\n",
              "\n",
              "    [theme=dark] .colab-df-convert:hover {\n",
              "      background-color: #434B5C;\n",
              "      box-shadow: 0px 1px 3px 1px rgba(0, 0, 0, 0.15);\n",
              "      filter: drop-shadow(0px 1px 2px rgba(0, 0, 0, 0.3));\n",
              "      fill: #FFFFFF;\n",
              "    }\n",
              "  </style>\n",
              "\n",
              "      <script>\n",
              "        const buttonEl =\n",
              "          document.querySelector('#df-cbb610e5-19e4-4bf3-8d81-2f2159a4cce7 button.colab-df-convert');\n",
              "        buttonEl.style.display =\n",
              "          google.colab.kernel.accessAllowed ? 'block' : 'none';\n",
              "\n",
              "        async function convertToInteractive(key) {\n",
              "          const element = document.querySelector('#df-cbb610e5-19e4-4bf3-8d81-2f2159a4cce7');\n",
              "          const dataTable =\n",
              "            await google.colab.kernel.invokeFunction('convertToInteractive',\n",
              "                                                     [key], {});\n",
              "          if (!dataTable) return;\n",
              "\n",
              "          const docLinkHtml = 'Like what you see? Visit the ' +\n",
              "            '<a target=\"_blank\" href=https://colab.research.google.com/notebooks/data_table.ipynb>data table notebook</a>'\n",
              "            + ' to learn more about interactive tables.';\n",
              "          element.innerHTML = '';\n",
              "          dataTable['output_type'] = 'display_data';\n",
              "          await google.colab.output.renderOutput(dataTable, element);\n",
              "          const docLink = document.createElement('div');\n",
              "          docLink.innerHTML = docLinkHtml;\n",
              "          element.appendChild(docLink);\n",
              "        }\n",
              "      </script>\n",
              "    </div>\n",
              "  </div>\n"
            ]
          },
          "metadata": {},
          "execution_count": 33
        }
      ]
    },
    {
      "cell_type": "markdown",
      "source": [
        "El dataset contiene 4322 registros y 13 columnas entre variables explicativas y respuesta que sería la última."
      ],
      "metadata": {
        "id": "I0sno3G6UX8B"
      }
    },
    {
      "cell_type": "code",
      "source": [
        "# Obtener información de los datos.\n",
        "data.info()"
      ],
      "metadata": {
        "colab": {
          "base_uri": "https://localhost:8080/"
        },
        "id": "ITi4ln0BHQ4V",
        "outputId": "f37b93cd-6bcb-4675-f04c-ff32c941dffa"
      },
      "execution_count": 47,
      "outputs": [
        {
          "output_type": "stream",
          "name": "stdout",
          "text": [
            "<class 'pandas.core.frame.DataFrame'>\n",
            "RangeIndex: 4322 entries, 0 to 4321\n",
            "Data columns (total 13 columns):\n",
            " #   Column                    Non-Null Count  Dtype  \n",
            "---  ------                    --------------  -----  \n",
            " 0   Fecha                     4322 non-null   object \n",
            " 1   Intervalo                 4322 non-null   object \n",
            " 2   Conectados                3673 non-null   float64\n",
            " 3   Inflow                    4319 non-null   float64\n",
            " 4   % Reopen                  4243 non-null   object \n",
            " 5   FRT (min)                 4315 non-null   object \n",
            " 6   AHT (min)                 4312 non-null   object \n",
            " 7   RT (min)                  4315 non-null   object \n",
            " 8   % SLA                     4319 non-null   object \n",
            " 9   Cierres                   4319 non-null   float64\n",
            " 10  Conexión Intervalo (hrs)  4315 non-null   object \n",
            " 11  PD                        4314 non-null   object \n",
            " 12  CSAT                      4255 non-null   object \n",
            "dtypes: float64(3), object(10)\n",
            "memory usage: 439.1+ KB\n"
          ]
        }
      ]
    },
    {
      "cell_type": "markdown",
      "source": [
        "Se tienen missing values en las variables PD, Conexión intervalo, Cierres, SLA, RT, AHT, FRT, Inflow de entre el 0,1% y el 0,2% de los registros, en CSAT y Reopen se tiene en promedio 1,7% de missing values y la variable Conectados tiene 15% de missing values lo que es bastante considerable y puede afectar el desempeño de un modelo de aprendizaje automático.\n",
        "\n",
        "Antes de realizar análisis sobre los datos es necesario solucionar los problemas de tipos de datos en el dataframe pues existen varias columnas tipo object que deberían ser numéricas."
      ],
      "metadata": {
        "id": "4rM-p3EdUe3k"
      }
    },
    {
      "cell_type": "code",
      "source": [
        "#Corrección de tipo de datos\n",
        "data['Fecha'] = pd.to_datetime(data['Fecha'], dayfirst=True)\n",
        "\n",
        "# Lista de columnas a convertir\n",
        "columns_to_convert = ['% Reopen', 'FRT (min)', 'AHT (min)', 'RT (min)', '% SLA', 'Conexión Intervalo (hrs)', 'PD', 'CSAT ']\n",
        "\n",
        "# Lista de columnas que tienen el símbolo '%'\n",
        "columns_with_percent = ['% Reopen', '% SLA']\n",
        "\n",
        "# Convertir cada columna\n",
        "for column in columns_to_convert:\n",
        "    # Reemplaza las comas por puntos\n",
        "    data[column] = data[column].str.replace(',', '.')\n",
        "\n",
        "# Elimina el símbolo '%' en las columnas correspondientes\n",
        "for column in columns_with_percent:\n",
        "    data[column] = data[column].str.replace('%', '')\n",
        "\n",
        "# Convierte todas las columnas a numérico\n",
        "for column in columns_to_convert:\n",
        "    data[column] = data[column].astype(float)\n",
        "\n",
        "# Verifica la conversión\n",
        "print(data.info())\n"
      ],
      "metadata": {
        "colab": {
          "base_uri": "https://localhost:8080/"
        },
        "id": "dBIp8DQzooCD",
        "outputId": "9e1111a4-bbac-4fcb-b97e-5e23a7dcefb1"
      },
      "execution_count": 4,
      "outputs": [
        {
          "output_type": "stream",
          "name": "stdout",
          "text": [
            "<class 'pandas.core.frame.DataFrame'>\n",
            "RangeIndex: 4322 entries, 0 to 4321\n",
            "Data columns (total 13 columns):\n",
            " #   Column                    Non-Null Count  Dtype         \n",
            "---  ------                    --------------  -----         \n",
            " 0   Fecha                     4322 non-null   datetime64[ns]\n",
            " 1   Intervalo                 4322 non-null   object        \n",
            " 2   Conectados                3673 non-null   float64       \n",
            " 3   Inflow                    4319 non-null   float64       \n",
            " 4   % Reopen                  4243 non-null   float64       \n",
            " 5   FRT (min)                 4315 non-null   float64       \n",
            " 6   AHT (min)                 4312 non-null   float64       \n",
            " 7   RT (min)                  4315 non-null   float64       \n",
            " 8   % SLA                     4319 non-null   float64       \n",
            " 9   Cierres                   4319 non-null   float64       \n",
            " 10  Conexión Intervalo (hrs)  4315 non-null   float64       \n",
            " 11  PD                        4314 non-null   float64       \n",
            " 12  CSAT                      4255 non-null   float64       \n",
            "dtypes: datetime64[ns](1), float64(11), object(1)\n",
            "memory usage: 439.1+ KB\n",
            "None\n"
          ]
        }
      ]
    },
    {
      "cell_type": "markdown",
      "source": [
        "Se observa que ahora todas las variables que deberían ser numéricas lo son ahora y que Fecha es datetime, sin embargo, Intervalo sigue como objeto, le daremos un tratamiento especial buscando que quede en formato de 24 horas del día."
      ],
      "metadata": {
        "id": "tn9lDUtyvY08"
      }
    },
    {
      "cell_type": "code",
      "source": [
        "# Primero, removemos la cadena ' a. m.' y ' p. m.' y lo reemplazamos por 'AM' y 'PM' respectivamente\n",
        "data['Intervalo'] = data['Intervalo'].str.replace('\\s*a\\.\\sm\\.', 'AM', regex=True)\n",
        "data['Intervalo'] = data['Intervalo'].str.replace('\\s*p\\.\\sm\\.', 'PM', regex=True)\n",
        "\n",
        "# Segundo, convertimos la cadena a un formato datetime\n",
        "data['Intervalo'] = pd.to_datetime(data['Intervalo'], format='%I:%M:%S%p')\n",
        "\n",
        "# Tercero, convertimos datetime a timedelta\n",
        "data['Intervalo'] = data['Intervalo'].dt.time\n",
        "\n",
        "# Verificamos los cambios\n",
        "print(data['Intervalo'])\n"
      ],
      "metadata": {
        "colab": {
          "base_uri": "https://localhost:8080/"
        },
        "id": "6Y4Y1QTjt4Bg",
        "outputId": "61f6973d-7bda-490b-c687-869696b90fed"
      },
      "execution_count": 5,
      "outputs": [
        {
          "output_type": "stream",
          "name": "stdout",
          "text": [
            "0       00:00:00\n",
            "1       00:30:00\n",
            "2       01:00:00\n",
            "3       01:30:00\n",
            "4       02:00:00\n",
            "          ...   \n",
            "4317    21:30:00\n",
            "4318    22:00:00\n",
            "4319    22:30:00\n",
            "4320    23:00:00\n",
            "4321    23:30:00\n",
            "Name: Intervalo, Length: 4322, dtype: object\n"
          ]
        }
      ]
    },
    {
      "cell_type": "markdown",
      "source": [
        "Y visualizamos el dataframe con los cambios realizados:"
      ],
      "metadata": {
        "id": "k3kFRNmgukFd"
      }
    },
    {
      "cell_type": "code",
      "source": [
        "data.head()"
      ],
      "metadata": {
        "colab": {
          "base_uri": "https://localhost:8080/",
          "height": 206
        },
        "id": "di9wKKXqtenk",
        "outputId": "f91f0a6b-9dcf-4461-a3dd-552eaa697d97"
      },
      "execution_count": 22,
      "outputs": [
        {
          "output_type": "execute_result",
          "data": {
            "text/plain": [
              "       Fecha Intervalo  Conectados  Inflow  % Reopen   FRT (min)  AHT (min)  \\\n",
              "0 2022-01-01  00:00:00        10.0    91.0     15.38  588.450000   9.181425   \n",
              "1 2022-01-01  00:30:00        10.0    59.0     20.34  568.300000   9.006758   \n",
              "2 2022-01-01  01:00:00         6.0    31.0     12.90  543.383333   6.140217   \n",
              "3 2022-01-01  01:30:00         5.0    28.0     17.86  514.525000  11.819308   \n",
              "4 2022-01-01  02:00:00         2.0    23.0     21.74  371.550000  11.925717   \n",
              "\n",
              "     RT (min)  % SLA  Cierres  Conexión Intervalo (hrs)         PD     CSAT   \n",
              "0  597.771300   62.0     66.0                  7.475556   8.828775  2.230769  \n",
              "1  579.145183   73.0    100.0                  7.766667  12.875537  1.500000  \n",
              "2  550.398917   68.0     79.0                  7.358333  10.736127  2.600000  \n",
              "3  525.191200   82.0     70.0                  6.894722  10.152693  1.333333  \n",
              "4  502.180417   78.0     52.0                  4.522500  11.498065  2.571429  "
            ],
            "text/html": [
              "\n",
              "\n",
              "  <div id=\"df-89f80699-2649-4b7a-8174-4889f9154836\">\n",
              "    <div class=\"colab-df-container\">\n",
              "      <div>\n",
              "<style scoped>\n",
              "    .dataframe tbody tr th:only-of-type {\n",
              "        vertical-align: middle;\n",
              "    }\n",
              "\n",
              "    .dataframe tbody tr th {\n",
              "        vertical-align: top;\n",
              "    }\n",
              "\n",
              "    .dataframe thead th {\n",
              "        text-align: right;\n",
              "    }\n",
              "</style>\n",
              "<table border=\"1\" class=\"dataframe\">\n",
              "  <thead>\n",
              "    <tr style=\"text-align: right;\">\n",
              "      <th></th>\n",
              "      <th>Fecha</th>\n",
              "      <th>Intervalo</th>\n",
              "      <th>Conectados</th>\n",
              "      <th>Inflow</th>\n",
              "      <th>% Reopen</th>\n",
              "      <th>FRT (min)</th>\n",
              "      <th>AHT (min)</th>\n",
              "      <th>RT (min)</th>\n",
              "      <th>% SLA</th>\n",
              "      <th>Cierres</th>\n",
              "      <th>Conexión Intervalo (hrs)</th>\n",
              "      <th>PD</th>\n",
              "      <th>CSAT</th>\n",
              "    </tr>\n",
              "  </thead>\n",
              "  <tbody>\n",
              "    <tr>\n",
              "      <th>0</th>\n",
              "      <td>2022-01-01</td>\n",
              "      <td>00:00:00</td>\n",
              "      <td>10.0</td>\n",
              "      <td>91.0</td>\n",
              "      <td>15.38</td>\n",
              "      <td>588.450000</td>\n",
              "      <td>9.181425</td>\n",
              "      <td>597.771300</td>\n",
              "      <td>62.0</td>\n",
              "      <td>66.0</td>\n",
              "      <td>7.475556</td>\n",
              "      <td>8.828775</td>\n",
              "      <td>2.230769</td>\n",
              "    </tr>\n",
              "    <tr>\n",
              "      <th>1</th>\n",
              "      <td>2022-01-01</td>\n",
              "      <td>00:30:00</td>\n",
              "      <td>10.0</td>\n",
              "      <td>59.0</td>\n",
              "      <td>20.34</td>\n",
              "      <td>568.300000</td>\n",
              "      <td>9.006758</td>\n",
              "      <td>579.145183</td>\n",
              "      <td>73.0</td>\n",
              "      <td>100.0</td>\n",
              "      <td>7.766667</td>\n",
              "      <td>12.875537</td>\n",
              "      <td>1.500000</td>\n",
              "    </tr>\n",
              "    <tr>\n",
              "      <th>2</th>\n",
              "      <td>2022-01-01</td>\n",
              "      <td>01:00:00</td>\n",
              "      <td>6.0</td>\n",
              "      <td>31.0</td>\n",
              "      <td>12.90</td>\n",
              "      <td>543.383333</td>\n",
              "      <td>6.140217</td>\n",
              "      <td>550.398917</td>\n",
              "      <td>68.0</td>\n",
              "      <td>79.0</td>\n",
              "      <td>7.358333</td>\n",
              "      <td>10.736127</td>\n",
              "      <td>2.600000</td>\n",
              "    </tr>\n",
              "    <tr>\n",
              "      <th>3</th>\n",
              "      <td>2022-01-01</td>\n",
              "      <td>01:30:00</td>\n",
              "      <td>5.0</td>\n",
              "      <td>28.0</td>\n",
              "      <td>17.86</td>\n",
              "      <td>514.525000</td>\n",
              "      <td>11.819308</td>\n",
              "      <td>525.191200</td>\n",
              "      <td>82.0</td>\n",
              "      <td>70.0</td>\n",
              "      <td>6.894722</td>\n",
              "      <td>10.152693</td>\n",
              "      <td>1.333333</td>\n",
              "    </tr>\n",
              "    <tr>\n",
              "      <th>4</th>\n",
              "      <td>2022-01-01</td>\n",
              "      <td>02:00:00</td>\n",
              "      <td>2.0</td>\n",
              "      <td>23.0</td>\n",
              "      <td>21.74</td>\n",
              "      <td>371.550000</td>\n",
              "      <td>11.925717</td>\n",
              "      <td>502.180417</td>\n",
              "      <td>78.0</td>\n",
              "      <td>52.0</td>\n",
              "      <td>4.522500</td>\n",
              "      <td>11.498065</td>\n",
              "      <td>2.571429</td>\n",
              "    </tr>\n",
              "  </tbody>\n",
              "</table>\n",
              "</div>\n",
              "      <button class=\"colab-df-convert\" onclick=\"convertToInteractive('df-89f80699-2649-4b7a-8174-4889f9154836')\"\n",
              "              title=\"Convert this dataframe to an interactive table.\"\n",
              "              style=\"display:none;\">\n",
              "\n",
              "  <svg xmlns=\"http://www.w3.org/2000/svg\" height=\"24px\"viewBox=\"0 0 24 24\"\n",
              "       width=\"24px\">\n",
              "    <path d=\"M0 0h24v24H0V0z\" fill=\"none\"/>\n",
              "    <path d=\"M18.56 5.44l.94 2.06.94-2.06 2.06-.94-2.06-.94-.94-2.06-.94 2.06-2.06.94zm-11 1L8.5 8.5l.94-2.06 2.06-.94-2.06-.94L8.5 2.5l-.94 2.06-2.06.94zm10 10l.94 2.06.94-2.06 2.06-.94-2.06-.94-.94-2.06-.94 2.06-2.06.94z\"/><path d=\"M17.41 7.96l-1.37-1.37c-.4-.4-.92-.59-1.43-.59-.52 0-1.04.2-1.43.59L10.3 9.45l-7.72 7.72c-.78.78-.78 2.05 0 2.83L4 21.41c.39.39.9.59 1.41.59.51 0 1.02-.2 1.41-.59l7.78-7.78 2.81-2.81c.8-.78.8-2.07 0-2.86zM5.41 20L4 18.59l7.72-7.72 1.47 1.35L5.41 20z\"/>\n",
              "  </svg>\n",
              "      </button>\n",
              "\n",
              "\n",
              "\n",
              "    <div id=\"df-fec66719-3449-4f88-bf23-e437d30c872a\">\n",
              "      <button class=\"colab-df-quickchart\" onclick=\"quickchart('df-fec66719-3449-4f88-bf23-e437d30c872a')\"\n",
              "              title=\"Suggest charts.\"\n",
              "              style=\"display:none;\">\n",
              "\n",
              "<svg xmlns=\"http://www.w3.org/2000/svg\" height=\"24px\"viewBox=\"0 0 24 24\"\n",
              "     width=\"24px\">\n",
              "    <g>\n",
              "        <path d=\"M19 3H5c-1.1 0-2 .9-2 2v14c0 1.1.9 2 2 2h14c1.1 0 2-.9 2-2V5c0-1.1-.9-2-2-2zM9 17H7v-7h2v7zm4 0h-2V7h2v10zm4 0h-2v-4h2v4z\"/>\n",
              "    </g>\n",
              "</svg>\n",
              "      </button>\n",
              "    </div>\n",
              "\n",
              "<style>\n",
              "  .colab-df-quickchart {\n",
              "    background-color: #E8F0FE;\n",
              "    border: none;\n",
              "    border-radius: 50%;\n",
              "    cursor: pointer;\n",
              "    display: none;\n",
              "    fill: #1967D2;\n",
              "    height: 32px;\n",
              "    padding: 0 0 0 0;\n",
              "    width: 32px;\n",
              "  }\n",
              "\n",
              "  .colab-df-quickchart:hover {\n",
              "    background-color: #E2EBFA;\n",
              "    box-shadow: 0px 1px 2px rgba(60, 64, 67, 0.3), 0px 1px 3px 1px rgba(60, 64, 67, 0.15);\n",
              "    fill: #174EA6;\n",
              "  }\n",
              "\n",
              "  [theme=dark] .colab-df-quickchart {\n",
              "    background-color: #3B4455;\n",
              "    fill: #D2E3FC;\n",
              "  }\n",
              "\n",
              "  [theme=dark] .colab-df-quickchart:hover {\n",
              "    background-color: #434B5C;\n",
              "    box-shadow: 0px 1px 3px 1px rgba(0, 0, 0, 0.15);\n",
              "    filter: drop-shadow(0px 1px 2px rgba(0, 0, 0, 0.3));\n",
              "    fill: #FFFFFF;\n",
              "  }\n",
              "</style>\n",
              "\n",
              "    <script>\n",
              "      async function quickchart(key) {\n",
              "        const containerElement = document.querySelector('#' + key);\n",
              "        const charts = await google.colab.kernel.invokeFunction(\n",
              "            'suggestCharts', [key], {});\n",
              "      }\n",
              "    </script>\n",
              "\n",
              "      <script>\n",
              "\n",
              "function displayQuickchartButton(domScope) {\n",
              "  let quickchartButtonEl =\n",
              "    domScope.querySelector('#df-fec66719-3449-4f88-bf23-e437d30c872a button.colab-df-quickchart');\n",
              "  quickchartButtonEl.style.display =\n",
              "    google.colab.kernel.accessAllowed ? 'block' : 'none';\n",
              "}\n",
              "\n",
              "        displayQuickchartButton(document);\n",
              "      </script>\n",
              "      <style>\n",
              "    .colab-df-container {\n",
              "      display:flex;\n",
              "      flex-wrap:wrap;\n",
              "      gap: 12px;\n",
              "    }\n",
              "\n",
              "    .colab-df-convert {\n",
              "      background-color: #E8F0FE;\n",
              "      border: none;\n",
              "      border-radius: 50%;\n",
              "      cursor: pointer;\n",
              "      display: none;\n",
              "      fill: #1967D2;\n",
              "      height: 32px;\n",
              "      padding: 0 0 0 0;\n",
              "      width: 32px;\n",
              "    }\n",
              "\n",
              "    .colab-df-convert:hover {\n",
              "      background-color: #E2EBFA;\n",
              "      box-shadow: 0px 1px 2px rgba(60, 64, 67, 0.3), 0px 1px 3px 1px rgba(60, 64, 67, 0.15);\n",
              "      fill: #174EA6;\n",
              "    }\n",
              "\n",
              "    [theme=dark] .colab-df-convert {\n",
              "      background-color: #3B4455;\n",
              "      fill: #D2E3FC;\n",
              "    }\n",
              "\n",
              "    [theme=dark] .colab-df-convert:hover {\n",
              "      background-color: #434B5C;\n",
              "      box-shadow: 0px 1px 3px 1px rgba(0, 0, 0, 0.15);\n",
              "      filter: drop-shadow(0px 1px 2px rgba(0, 0, 0, 0.3));\n",
              "      fill: #FFFFFF;\n",
              "    }\n",
              "  </style>\n",
              "\n",
              "      <script>\n",
              "        const buttonEl =\n",
              "          document.querySelector('#df-89f80699-2649-4b7a-8174-4889f9154836 button.colab-df-convert');\n",
              "        buttonEl.style.display =\n",
              "          google.colab.kernel.accessAllowed ? 'block' : 'none';\n",
              "\n",
              "        async function convertToInteractive(key) {\n",
              "          const element = document.querySelector('#df-89f80699-2649-4b7a-8174-4889f9154836');\n",
              "          const dataTable =\n",
              "            await google.colab.kernel.invokeFunction('convertToInteractive',\n",
              "                                                     [key], {});\n",
              "          if (!dataTable) return;\n",
              "\n",
              "          const docLinkHtml = 'Like what you see? Visit the ' +\n",
              "            '<a target=\"_blank\" href=https://colab.research.google.com/notebooks/data_table.ipynb>data table notebook</a>'\n",
              "            + ' to learn more about interactive tables.';\n",
              "          element.innerHTML = '';\n",
              "          dataTable['output_type'] = 'display_data';\n",
              "          await google.colab.output.renderOutput(dataTable, element);\n",
              "          const docLink = document.createElement('div');\n",
              "          docLink.innerHTML = docLinkHtml;\n",
              "          element.appendChild(docLink);\n",
              "        }\n",
              "      </script>\n",
              "    </div>\n",
              "  </div>\n"
            ]
          },
          "metadata": {},
          "execution_count": 22
        }
      ]
    },
    {
      "cell_type": "code",
      "source": [
        "# Estadística descriptiva de los datos numéricos\n",
        "data.describe()"
      ],
      "metadata": {
        "colab": {
          "base_uri": "https://localhost:8080/",
          "height": 300
        },
        "id": "h_o9QUpID0q7",
        "outputId": "425cb5c7-a15e-4f8a-87da-fc5f1d4db000"
      },
      "execution_count": 8,
      "outputs": [
        {
          "output_type": "execute_result",
          "data": {
            "text/plain": [
              "        Conectados       Inflow     % Reopen    FRT (min)    AHT (min)  \\\n",
              "count  3673.000000  4319.000000  4243.000000  4315.000000  4312.000000   \n",
              "mean     61.551593   195.910859    14.463788    86.279529    11.082665   \n",
              "std      34.821716   147.647459    11.375414   141.897373    15.425739   \n",
              "min       0.000000     2.000000     0.032258     0.800000     0.040000   \n",
              "25%      35.000000    39.000000     0.240660     2.366667     9.178365   \n",
              "50%      68.000000   213.000000    18.250000    10.008333    10.510108   \n",
              "75%      89.000000   316.000000    22.490000   115.550000    11.753508   \n",
              "max     148.000000   831.000000    61.540000   656.683333   546.224008   \n",
              "\n",
              "          RT (min)        % SLA      Cierres  Conexión Intervalo (hrs)  \\\n",
              "count  4315.000000  4319.000000  4319.000000               4315.000000   \n",
              "mean    100.529081    88.495948   194.701320                 23.442829   \n",
              "std     143.844883     7.213987   122.906984                 14.218990   \n",
              "min       0.155567    36.000000     2.000000                  0.722500   \n",
              "25%      15.077392    84.000000    74.000000                  9.049167   \n",
              "50%      25.354367    89.000000   212.000000                 24.863333   \n",
              "75%     130.913908    94.000000   299.000000                 35.543056   \n",
              "max     748.539667   100.000000   554.000000                 61.891111   \n",
              "\n",
              "                PD        CSAT   \n",
              "count  4314.000000  4255.000000  \n",
              "mean      8.221889     2.532453  \n",
              "std       2.738307     0.636992  \n",
              "min       0.499445     1.000000  \n",
              "25%       6.912472     2.262626  \n",
              "50%       8.550470     2.494949  \n",
              "75%       9.687971     2.750000  \n",
              "max      24.000000     5.000000  "
            ],
            "text/html": [
              "\n",
              "\n",
              "  <div id=\"df-21c95771-4d14-42c9-92c5-e73548e83c2e\">\n",
              "    <div class=\"colab-df-container\">\n",
              "      <div>\n",
              "<style scoped>\n",
              "    .dataframe tbody tr th:only-of-type {\n",
              "        vertical-align: middle;\n",
              "    }\n",
              "\n",
              "    .dataframe tbody tr th {\n",
              "        vertical-align: top;\n",
              "    }\n",
              "\n",
              "    .dataframe thead th {\n",
              "        text-align: right;\n",
              "    }\n",
              "</style>\n",
              "<table border=\"1\" class=\"dataframe\">\n",
              "  <thead>\n",
              "    <tr style=\"text-align: right;\">\n",
              "      <th></th>\n",
              "      <th>Conectados</th>\n",
              "      <th>Inflow</th>\n",
              "      <th>% Reopen</th>\n",
              "      <th>FRT (min)</th>\n",
              "      <th>AHT (min)</th>\n",
              "      <th>RT (min)</th>\n",
              "      <th>% SLA</th>\n",
              "      <th>Cierres</th>\n",
              "      <th>Conexión Intervalo (hrs)</th>\n",
              "      <th>PD</th>\n",
              "      <th>CSAT</th>\n",
              "    </tr>\n",
              "  </thead>\n",
              "  <tbody>\n",
              "    <tr>\n",
              "      <th>count</th>\n",
              "      <td>3673.000000</td>\n",
              "      <td>4319.000000</td>\n",
              "      <td>4243.000000</td>\n",
              "      <td>4315.000000</td>\n",
              "      <td>4312.000000</td>\n",
              "      <td>4315.000000</td>\n",
              "      <td>4319.000000</td>\n",
              "      <td>4319.000000</td>\n",
              "      <td>4315.000000</td>\n",
              "      <td>4314.000000</td>\n",
              "      <td>4255.000000</td>\n",
              "    </tr>\n",
              "    <tr>\n",
              "      <th>mean</th>\n",
              "      <td>61.551593</td>\n",
              "      <td>195.910859</td>\n",
              "      <td>14.463788</td>\n",
              "      <td>86.279529</td>\n",
              "      <td>11.082665</td>\n",
              "      <td>100.529081</td>\n",
              "      <td>88.495948</td>\n",
              "      <td>194.701320</td>\n",
              "      <td>23.442829</td>\n",
              "      <td>8.221889</td>\n",
              "      <td>2.532453</td>\n",
              "    </tr>\n",
              "    <tr>\n",
              "      <th>std</th>\n",
              "      <td>34.821716</td>\n",
              "      <td>147.647459</td>\n",
              "      <td>11.375414</td>\n",
              "      <td>141.897373</td>\n",
              "      <td>15.425739</td>\n",
              "      <td>143.844883</td>\n",
              "      <td>7.213987</td>\n",
              "      <td>122.906984</td>\n",
              "      <td>14.218990</td>\n",
              "      <td>2.738307</td>\n",
              "      <td>0.636992</td>\n",
              "    </tr>\n",
              "    <tr>\n",
              "      <th>min</th>\n",
              "      <td>0.000000</td>\n",
              "      <td>2.000000</td>\n",
              "      <td>0.032258</td>\n",
              "      <td>0.800000</td>\n",
              "      <td>0.040000</td>\n",
              "      <td>0.155567</td>\n",
              "      <td>36.000000</td>\n",
              "      <td>2.000000</td>\n",
              "      <td>0.722500</td>\n",
              "      <td>0.499445</td>\n",
              "      <td>1.000000</td>\n",
              "    </tr>\n",
              "    <tr>\n",
              "      <th>25%</th>\n",
              "      <td>35.000000</td>\n",
              "      <td>39.000000</td>\n",
              "      <td>0.240660</td>\n",
              "      <td>2.366667</td>\n",
              "      <td>9.178365</td>\n",
              "      <td>15.077392</td>\n",
              "      <td>84.000000</td>\n",
              "      <td>74.000000</td>\n",
              "      <td>9.049167</td>\n",
              "      <td>6.912472</td>\n",
              "      <td>2.262626</td>\n",
              "    </tr>\n",
              "    <tr>\n",
              "      <th>50%</th>\n",
              "      <td>68.000000</td>\n",
              "      <td>213.000000</td>\n",
              "      <td>18.250000</td>\n",
              "      <td>10.008333</td>\n",
              "      <td>10.510108</td>\n",
              "      <td>25.354367</td>\n",
              "      <td>89.000000</td>\n",
              "      <td>212.000000</td>\n",
              "      <td>24.863333</td>\n",
              "      <td>8.550470</td>\n",
              "      <td>2.494949</td>\n",
              "    </tr>\n",
              "    <tr>\n",
              "      <th>75%</th>\n",
              "      <td>89.000000</td>\n",
              "      <td>316.000000</td>\n",
              "      <td>22.490000</td>\n",
              "      <td>115.550000</td>\n",
              "      <td>11.753508</td>\n",
              "      <td>130.913908</td>\n",
              "      <td>94.000000</td>\n",
              "      <td>299.000000</td>\n",
              "      <td>35.543056</td>\n",
              "      <td>9.687971</td>\n",
              "      <td>2.750000</td>\n",
              "    </tr>\n",
              "    <tr>\n",
              "      <th>max</th>\n",
              "      <td>148.000000</td>\n",
              "      <td>831.000000</td>\n",
              "      <td>61.540000</td>\n",
              "      <td>656.683333</td>\n",
              "      <td>546.224008</td>\n",
              "      <td>748.539667</td>\n",
              "      <td>100.000000</td>\n",
              "      <td>554.000000</td>\n",
              "      <td>61.891111</td>\n",
              "      <td>24.000000</td>\n",
              "      <td>5.000000</td>\n",
              "    </tr>\n",
              "  </tbody>\n",
              "</table>\n",
              "</div>\n",
              "      <button class=\"colab-df-convert\" onclick=\"convertToInteractive('df-21c95771-4d14-42c9-92c5-e73548e83c2e')\"\n",
              "              title=\"Convert this dataframe to an interactive table.\"\n",
              "              style=\"display:none;\">\n",
              "\n",
              "  <svg xmlns=\"http://www.w3.org/2000/svg\" height=\"24px\"viewBox=\"0 0 24 24\"\n",
              "       width=\"24px\">\n",
              "    <path d=\"M0 0h24v24H0V0z\" fill=\"none\"/>\n",
              "    <path d=\"M18.56 5.44l.94 2.06.94-2.06 2.06-.94-2.06-.94-.94-2.06-.94 2.06-2.06.94zm-11 1L8.5 8.5l.94-2.06 2.06-.94-2.06-.94L8.5 2.5l-.94 2.06-2.06.94zm10 10l.94 2.06.94-2.06 2.06-.94-2.06-.94-.94-2.06-.94 2.06-2.06.94z\"/><path d=\"M17.41 7.96l-1.37-1.37c-.4-.4-.92-.59-1.43-.59-.52 0-1.04.2-1.43.59L10.3 9.45l-7.72 7.72c-.78.78-.78 2.05 0 2.83L4 21.41c.39.39.9.59 1.41.59.51 0 1.02-.2 1.41-.59l7.78-7.78 2.81-2.81c.8-.78.8-2.07 0-2.86zM5.41 20L4 18.59l7.72-7.72 1.47 1.35L5.41 20z\"/>\n",
              "  </svg>\n",
              "      </button>\n",
              "\n",
              "\n",
              "\n",
              "    <div id=\"df-ac33f553-2327-44ed-84ca-b70020df41a1\">\n",
              "      <button class=\"colab-df-quickchart\" onclick=\"quickchart('df-ac33f553-2327-44ed-84ca-b70020df41a1')\"\n",
              "              title=\"Suggest charts.\"\n",
              "              style=\"display:none;\">\n",
              "\n",
              "<svg xmlns=\"http://www.w3.org/2000/svg\" height=\"24px\"viewBox=\"0 0 24 24\"\n",
              "     width=\"24px\">\n",
              "    <g>\n",
              "        <path d=\"M19 3H5c-1.1 0-2 .9-2 2v14c0 1.1.9 2 2 2h14c1.1 0 2-.9 2-2V5c0-1.1-.9-2-2-2zM9 17H7v-7h2v7zm4 0h-2V7h2v10zm4 0h-2v-4h2v4z\"/>\n",
              "    </g>\n",
              "</svg>\n",
              "      </button>\n",
              "    </div>\n",
              "\n",
              "<style>\n",
              "  .colab-df-quickchart {\n",
              "    background-color: #E8F0FE;\n",
              "    border: none;\n",
              "    border-radius: 50%;\n",
              "    cursor: pointer;\n",
              "    display: none;\n",
              "    fill: #1967D2;\n",
              "    height: 32px;\n",
              "    padding: 0 0 0 0;\n",
              "    width: 32px;\n",
              "  }\n",
              "\n",
              "  .colab-df-quickchart:hover {\n",
              "    background-color: #E2EBFA;\n",
              "    box-shadow: 0px 1px 2px rgba(60, 64, 67, 0.3), 0px 1px 3px 1px rgba(60, 64, 67, 0.15);\n",
              "    fill: #174EA6;\n",
              "  }\n",
              "\n",
              "  [theme=dark] .colab-df-quickchart {\n",
              "    background-color: #3B4455;\n",
              "    fill: #D2E3FC;\n",
              "  }\n",
              "\n",
              "  [theme=dark] .colab-df-quickchart:hover {\n",
              "    background-color: #434B5C;\n",
              "    box-shadow: 0px 1px 3px 1px rgba(0, 0, 0, 0.15);\n",
              "    filter: drop-shadow(0px 1px 2px rgba(0, 0, 0, 0.3));\n",
              "    fill: #FFFFFF;\n",
              "  }\n",
              "</style>\n",
              "\n",
              "    <script>\n",
              "      async function quickchart(key) {\n",
              "        const containerElement = document.querySelector('#' + key);\n",
              "        const charts = await google.colab.kernel.invokeFunction(\n",
              "            'suggestCharts', [key], {});\n",
              "      }\n",
              "    </script>\n",
              "\n",
              "      <script>\n",
              "\n",
              "function displayQuickchartButton(domScope) {\n",
              "  let quickchartButtonEl =\n",
              "    domScope.querySelector('#df-ac33f553-2327-44ed-84ca-b70020df41a1 button.colab-df-quickchart');\n",
              "  quickchartButtonEl.style.display =\n",
              "    google.colab.kernel.accessAllowed ? 'block' : 'none';\n",
              "}\n",
              "\n",
              "        displayQuickchartButton(document);\n",
              "      </script>\n",
              "      <style>\n",
              "    .colab-df-container {\n",
              "      display:flex;\n",
              "      flex-wrap:wrap;\n",
              "      gap: 12px;\n",
              "    }\n",
              "\n",
              "    .colab-df-convert {\n",
              "      background-color: #E8F0FE;\n",
              "      border: none;\n",
              "      border-radius: 50%;\n",
              "      cursor: pointer;\n",
              "      display: none;\n",
              "      fill: #1967D2;\n",
              "      height: 32px;\n",
              "      padding: 0 0 0 0;\n",
              "      width: 32px;\n",
              "    }\n",
              "\n",
              "    .colab-df-convert:hover {\n",
              "      background-color: #E2EBFA;\n",
              "      box-shadow: 0px 1px 2px rgba(60, 64, 67, 0.3), 0px 1px 3px 1px rgba(60, 64, 67, 0.15);\n",
              "      fill: #174EA6;\n",
              "    }\n",
              "\n",
              "    [theme=dark] .colab-df-convert {\n",
              "      background-color: #3B4455;\n",
              "      fill: #D2E3FC;\n",
              "    }\n",
              "\n",
              "    [theme=dark] .colab-df-convert:hover {\n",
              "      background-color: #434B5C;\n",
              "      box-shadow: 0px 1px 3px 1px rgba(0, 0, 0, 0.15);\n",
              "      filter: drop-shadow(0px 1px 2px rgba(0, 0, 0, 0.3));\n",
              "      fill: #FFFFFF;\n",
              "    }\n",
              "  </style>\n",
              "\n",
              "      <script>\n",
              "        const buttonEl =\n",
              "          document.querySelector('#df-21c95771-4d14-42c9-92c5-e73548e83c2e button.colab-df-convert');\n",
              "        buttonEl.style.display =\n",
              "          google.colab.kernel.accessAllowed ? 'block' : 'none';\n",
              "\n",
              "        async function convertToInteractive(key) {\n",
              "          const element = document.querySelector('#df-21c95771-4d14-42c9-92c5-e73548e83c2e');\n",
              "          const dataTable =\n",
              "            await google.colab.kernel.invokeFunction('convertToInteractive',\n",
              "                                                     [key], {});\n",
              "          if (!dataTable) return;\n",
              "\n",
              "          const docLinkHtml = 'Like what you see? Visit the ' +\n",
              "            '<a target=\"_blank\" href=https://colab.research.google.com/notebooks/data_table.ipynb>data table notebook</a>'\n",
              "            + ' to learn more about interactive tables.';\n",
              "          element.innerHTML = '';\n",
              "          dataTable['output_type'] = 'display_data';\n",
              "          await google.colab.output.renderOutput(dataTable, element);\n",
              "          const docLink = document.createElement('div');\n",
              "          docLink.innerHTML = docLinkHtml;\n",
              "          element.appendChild(docLink);\n",
              "        }\n",
              "      </script>\n",
              "    </div>\n",
              "  </div>\n"
            ]
          },
          "metadata": {},
          "execution_count": 8
        }
      ]
    },
    {
      "cell_type": "markdown",
      "source": [
        "Conectados: El número de agentes conectados oscila entre 0 y 148, con una media de 61.55 y una desviación estándar de 34.82, lo que indica una variación moderada-alta en el número de personas conectadas. En el 25% de los intervalos con menor cantidad de agentes conectados hubo como máximo 35 agentes y en el 25% de los intervalos con mayor cantidad de agentes conectados hubo como mínimo 89. Como la mediana es 68, un poco superior a la media se puede decir que la distribución de la cantidad de agentes conectados está ligeramente sesgada a la izquierda.\n",
        "\n",
        "Inflow: El número de interacciones o consultas oscila entre 2 y 831 por intervalo, con una media de 195.91 y una desviación estándar de 147.65, lo que sugiere que la variabilidad es bastante alta. La mediana (213) es mayor que la media, lo que sugiere una distribución ligeramente sesgada hacia la izquierda. En el 25% de los intervalos con menor cantidad de interacciones hubo como máximo 39 interacciones y en el 25% de los intervalos con mayor cantidad de interacciones hubo como mínimo 316.\n",
        "\n",
        "% Reopen: La proporción o porcentaje de interacciones o casos que se han vuelto a abrir después de haber sido cerrados inicialmente varía de 0.03% a 61.54%, con una media de 14.46% y una desviación estándar de 11.38%, lo que indica una variabilidad alta, además, en el 25% de los intervalos con menor proporción de interacciones reabiertas se dio como máximo un 0.24% y en el 25% de los intervalos con mayor proporción de interacciones reabiertas se dio como mínimo un 22.49%\n",
        "\n",
        "FRT (min): El tiempo de respuesta promedio, en minutos, oscila entre 0.8 y 656.68 minutos, con una media de 86.28 minutos. La alta desviación estándar (141.89 minutos) sugiere que hay un alto grado de variabilidad en este tiempo de respuesta promedio ya que la desviación estándar es por mucho, superior a la media. En el 25% de los intervalos con menor tiempo de respuesta medio se dio como máximo en 2.37 minutos y en el 25% de los intervalos con mayor tiempo de respuesta medio se dio como mínimo en 115.55 minutos.\n",
        "\n",
        "AHT (min): El tiempo medio operativo, en minutos, varía de 0.04 a 546.22, con una media de 11.08 y una desviación estándar de 15.43, lo que indica una alta variabilidad. En el 25% de los intervalos con menor tiempo medio operativo se dio como máximo en 9.18 minutos y en el 25% de los intervalos con mayor tiempo medio operativo se dio como mínimo en 11.75 minutos.\n",
        "\n",
        "RT (min): El tiempo total de resolución de una interacción, en minutos, oscila entre 0.16 y 748.54, con una media de 100.53. La alta desviación estándar (143.84) sugiere una alta variabilidad pues evidentemente el coeficiente de variación es superior a 1. En el 25% de los intervalos con menor tiempo de resolución se dio como máximo en 15.08 minutos y en el 25% de los intervalos con mayor tiempo medio operativo se dio como mínimo en 130.91 minutos.\n",
        "\n",
        "% SLA: La medición del nivel del servicio varía de 36% a 100%, con una media de 88.50% y una desviación estándar de 7.21%, lo que sugiere que la mayoría de las observaciones están bastante cerca de la media, es decir, hay una baja variabilidad y en general la medición es positiva. En el 25% de los intervalos con menor medición del nivel de servicio se obtuvo como máximo 84% y en el 25% de los intervalos con mayor medición del nivel de servicio se obtuvo como mínimo 94%.\n",
        "\n",
        "Cierres: El número de cierres oscila entre 2 y 554 por intervalo, con una media de 194.70 y una desviación estándar de 122.91, lo que indica una alta variabilidad en la cantidad de cierres por intervalo. En el 25% de los intervalos con menor cantidad de cierres por intervalo hubo como máximo 74 y en el 25% de los intervalos con mayor cantidad de cierres por intervalo hubo como mínimo 299.\n",
        "\n",
        "Conexión Intervalo (hrs): El intervalo de conexión en horas oscila entre 0.72 y 61.89, con una media de 23.44 y una desviación estándar de 14.22, lo que indica una variabilidad moderada-alta. En el 25% de los intervalos con menor cantidad de horas de conexión por intervalo los agentes estuvieron como máximo 9.05 horas y en el 25% de los intervalos con mayor cantidad de horas de conexión por intervalo los agentes estuvieron como mínimo 35.54 horas.\n",
        "\n",
        "PD: La cantidad de casos cerrados por intervalo oscila desde 0.50 a 24.00, con una media de 8.22 y una desviación estándar de 2.74, lo que sugiere una variabilidad moderada. En el 25% de los intervalos con menor cantidad de casos cerrados por intervalo hubo como máximo 6.91 y en el 25% de los intervalos con mayor cantidad de casos cerrados por intervalo hubo como mínimo 9.68.\n",
        "\n",
        "CSAT: La puntuación de satisfacción del cliente (CSAT) varía de 1 a 5, con una media de 2.53 y una desviación estándar de 0.64. Esto sugiere que la mayoría de las puntuaciones están relativamente cerca de la media, sin embargo, la calificación media se puede considerar insuficiente, ahora, la mediana es 2.59, por lo que no hay cambios significativos, se hace necesario mejorar. En el 25% de los intervalos con menor puntuación de satisfacción del cliente por intervalo hubo se dio como máximo 2.26 y en el 25% de los intervalos con mayor puntuación de satisfacción del cliente por intervalo hubo se dio como mínimo 2.75 lo que sigue representando una calificación baja asignada por la mayoría de clientes.\n"
      ],
      "metadata": {
        "id": "iBnBQcUrG--c"
      }
    },
    {
      "cell_type": "code",
      "source": [
        "# Estadística descriptiva de los datos categóricos\n",
        "data.describe(include='O')"
      ],
      "metadata": {
        "colab": {
          "base_uri": "https://localhost:8080/",
          "height": 175
        },
        "id": "OLtSxkJGHLuQ",
        "outputId": "a32c5ab3-fd24-402a-e633-1f804eeff8cf"
      },
      "execution_count": 9,
      "outputs": [
        {
          "output_type": "execute_result",
          "data": {
            "text/plain": [
              "       Intervalo\n",
              "count       4322\n",
              "unique        48\n",
              "top     17:00:00\n",
              "freq          92"
            ],
            "text/html": [
              "\n",
              "\n",
              "  <div id=\"df-512cada9-bd4e-4a33-8de6-b691ce501116\">\n",
              "    <div class=\"colab-df-container\">\n",
              "      <div>\n",
              "<style scoped>\n",
              "    .dataframe tbody tr th:only-of-type {\n",
              "        vertical-align: middle;\n",
              "    }\n",
              "\n",
              "    .dataframe tbody tr th {\n",
              "        vertical-align: top;\n",
              "    }\n",
              "\n",
              "    .dataframe thead th {\n",
              "        text-align: right;\n",
              "    }\n",
              "</style>\n",
              "<table border=\"1\" class=\"dataframe\">\n",
              "  <thead>\n",
              "    <tr style=\"text-align: right;\">\n",
              "      <th></th>\n",
              "      <th>Intervalo</th>\n",
              "    </tr>\n",
              "  </thead>\n",
              "  <tbody>\n",
              "    <tr>\n",
              "      <th>count</th>\n",
              "      <td>4322</td>\n",
              "    </tr>\n",
              "    <tr>\n",
              "      <th>unique</th>\n",
              "      <td>48</td>\n",
              "    </tr>\n",
              "    <tr>\n",
              "      <th>top</th>\n",
              "      <td>17:00:00</td>\n",
              "    </tr>\n",
              "    <tr>\n",
              "      <th>freq</th>\n",
              "      <td>92</td>\n",
              "    </tr>\n",
              "  </tbody>\n",
              "</table>\n",
              "</div>\n",
              "      <button class=\"colab-df-convert\" onclick=\"convertToInteractive('df-512cada9-bd4e-4a33-8de6-b691ce501116')\"\n",
              "              title=\"Convert this dataframe to an interactive table.\"\n",
              "              style=\"display:none;\">\n",
              "\n",
              "  <svg xmlns=\"http://www.w3.org/2000/svg\" height=\"24px\"viewBox=\"0 0 24 24\"\n",
              "       width=\"24px\">\n",
              "    <path d=\"M0 0h24v24H0V0z\" fill=\"none\"/>\n",
              "    <path d=\"M18.56 5.44l.94 2.06.94-2.06 2.06-.94-2.06-.94-.94-2.06-.94 2.06-2.06.94zm-11 1L8.5 8.5l.94-2.06 2.06-.94-2.06-.94L8.5 2.5l-.94 2.06-2.06.94zm10 10l.94 2.06.94-2.06 2.06-.94-2.06-.94-.94-2.06-.94 2.06-2.06.94z\"/><path d=\"M17.41 7.96l-1.37-1.37c-.4-.4-.92-.59-1.43-.59-.52 0-1.04.2-1.43.59L10.3 9.45l-7.72 7.72c-.78.78-.78 2.05 0 2.83L4 21.41c.39.39.9.59 1.41.59.51 0 1.02-.2 1.41-.59l7.78-7.78 2.81-2.81c.8-.78.8-2.07 0-2.86zM5.41 20L4 18.59l7.72-7.72 1.47 1.35L5.41 20z\"/>\n",
              "  </svg>\n",
              "      </button>\n",
              "\n",
              "\n",
              "\n",
              "    <div id=\"df-3f12b2b7-07fa-4749-8547-f264035f4327\">\n",
              "      <button class=\"colab-df-quickchart\" onclick=\"quickchart('df-3f12b2b7-07fa-4749-8547-f264035f4327')\"\n",
              "              title=\"Suggest charts.\"\n",
              "              style=\"display:none;\">\n",
              "\n",
              "<svg xmlns=\"http://www.w3.org/2000/svg\" height=\"24px\"viewBox=\"0 0 24 24\"\n",
              "     width=\"24px\">\n",
              "    <g>\n",
              "        <path d=\"M19 3H5c-1.1 0-2 .9-2 2v14c0 1.1.9 2 2 2h14c1.1 0 2-.9 2-2V5c0-1.1-.9-2-2-2zM9 17H7v-7h2v7zm4 0h-2V7h2v10zm4 0h-2v-4h2v4z\"/>\n",
              "    </g>\n",
              "</svg>\n",
              "      </button>\n",
              "    </div>\n",
              "\n",
              "<style>\n",
              "  .colab-df-quickchart {\n",
              "    background-color: #E8F0FE;\n",
              "    border: none;\n",
              "    border-radius: 50%;\n",
              "    cursor: pointer;\n",
              "    display: none;\n",
              "    fill: #1967D2;\n",
              "    height: 32px;\n",
              "    padding: 0 0 0 0;\n",
              "    width: 32px;\n",
              "  }\n",
              "\n",
              "  .colab-df-quickchart:hover {\n",
              "    background-color: #E2EBFA;\n",
              "    box-shadow: 0px 1px 2px rgba(60, 64, 67, 0.3), 0px 1px 3px 1px rgba(60, 64, 67, 0.15);\n",
              "    fill: #174EA6;\n",
              "  }\n",
              "\n",
              "  [theme=dark] .colab-df-quickchart {\n",
              "    background-color: #3B4455;\n",
              "    fill: #D2E3FC;\n",
              "  }\n",
              "\n",
              "  [theme=dark] .colab-df-quickchart:hover {\n",
              "    background-color: #434B5C;\n",
              "    box-shadow: 0px 1px 3px 1px rgba(0, 0, 0, 0.15);\n",
              "    filter: drop-shadow(0px 1px 2px rgba(0, 0, 0, 0.3));\n",
              "    fill: #FFFFFF;\n",
              "  }\n",
              "</style>\n",
              "\n",
              "    <script>\n",
              "      async function quickchart(key) {\n",
              "        const containerElement = document.querySelector('#' + key);\n",
              "        const charts = await google.colab.kernel.invokeFunction(\n",
              "            'suggestCharts', [key], {});\n",
              "      }\n",
              "    </script>\n",
              "\n",
              "      <script>\n",
              "\n",
              "function displayQuickchartButton(domScope) {\n",
              "  let quickchartButtonEl =\n",
              "    domScope.querySelector('#df-3f12b2b7-07fa-4749-8547-f264035f4327 button.colab-df-quickchart');\n",
              "  quickchartButtonEl.style.display =\n",
              "    google.colab.kernel.accessAllowed ? 'block' : 'none';\n",
              "}\n",
              "\n",
              "        displayQuickchartButton(document);\n",
              "      </script>\n",
              "      <style>\n",
              "    .colab-df-container {\n",
              "      display:flex;\n",
              "      flex-wrap:wrap;\n",
              "      gap: 12px;\n",
              "    }\n",
              "\n",
              "    .colab-df-convert {\n",
              "      background-color: #E8F0FE;\n",
              "      border: none;\n",
              "      border-radius: 50%;\n",
              "      cursor: pointer;\n",
              "      display: none;\n",
              "      fill: #1967D2;\n",
              "      height: 32px;\n",
              "      padding: 0 0 0 0;\n",
              "      width: 32px;\n",
              "    }\n",
              "\n",
              "    .colab-df-convert:hover {\n",
              "      background-color: #E2EBFA;\n",
              "      box-shadow: 0px 1px 2px rgba(60, 64, 67, 0.3), 0px 1px 3px 1px rgba(60, 64, 67, 0.15);\n",
              "      fill: #174EA6;\n",
              "    }\n",
              "\n",
              "    [theme=dark] .colab-df-convert {\n",
              "      background-color: #3B4455;\n",
              "      fill: #D2E3FC;\n",
              "    }\n",
              "\n",
              "    [theme=dark] .colab-df-convert:hover {\n",
              "      background-color: #434B5C;\n",
              "      box-shadow: 0px 1px 3px 1px rgba(0, 0, 0, 0.15);\n",
              "      filter: drop-shadow(0px 1px 2px rgba(0, 0, 0, 0.3));\n",
              "      fill: #FFFFFF;\n",
              "    }\n",
              "  </style>\n",
              "\n",
              "      <script>\n",
              "        const buttonEl =\n",
              "          document.querySelector('#df-512cada9-bd4e-4a33-8de6-b691ce501116 button.colab-df-convert');\n",
              "        buttonEl.style.display =\n",
              "          google.colab.kernel.accessAllowed ? 'block' : 'none';\n",
              "\n",
              "        async function convertToInteractive(key) {\n",
              "          const element = document.querySelector('#df-512cada9-bd4e-4a33-8de6-b691ce501116');\n",
              "          const dataTable =\n",
              "            await google.colab.kernel.invokeFunction('convertToInteractive',\n",
              "                                                     [key], {});\n",
              "          if (!dataTable) return;\n",
              "\n",
              "          const docLinkHtml = 'Like what you see? Visit the ' +\n",
              "            '<a target=\"_blank\" href=https://colab.research.google.com/notebooks/data_table.ipynb>data table notebook</a>'\n",
              "            + ' to learn more about interactive tables.';\n",
              "          element.innerHTML = '';\n",
              "          dataTable['output_type'] = 'display_data';\n",
              "          await google.colab.output.renderOutput(dataTable, element);\n",
              "          const docLink = document.createElement('div');\n",
              "          docLink.innerHTML = docLinkHtml;\n",
              "          element.appendChild(docLink);\n",
              "        }\n",
              "      </script>\n",
              "    </div>\n",
              "  </div>\n"
            ]
          },
          "metadata": {},
          "execution_count": 9
        }
      ]
    },
    {
      "cell_type": "markdown",
      "source": [
        "El intervalo más frecuente fue el de las 17:00:00 - 17:30:00."
      ],
      "metadata": {
        "id": "_VjMtloHKmdC"
      }
    },
    {
      "cell_type": "markdown",
      "source": [
        "###**Análisis multivariado o modelo de correlación**"
      ],
      "metadata": {
        "id": "as_Migg6pOqL"
      }
    },
    {
      "cell_type": "markdown",
      "source": [
        "Aún no vamos a realizar imputación y en general limpieza de datos porque se quiere observar el efecto de los datos crudos sobre si mismos, por lo que se calcula la matriz de correlación."
      ],
      "metadata": {
        "id": "mu2wmW97_neh"
      }
    },
    {
      "cell_type": "code",
      "source": [
        "plt.figure(figsize=(10, 6))\n",
        "sns.heatmap(data.corr(), annot=True, square=True, cmap='RdBu', vmax=1, vmin=-1, annot_kws={\"size\": 6})\n",
        "plt.title('Correlations Between Variables', size=18)\n",
        "plt.xticks(fontsize=6)\n",
        "plt.yticks(fontsize=6)\n",
        "plt.show()"
      ],
      "metadata": {
        "colab": {
          "base_uri": "https://localhost:8080/",
          "height": 637
        },
        "id": "pZ3klzjpgR73",
        "outputId": "e34e7858-a7b4-46ac-beb3-e20f039c8304"
      },
      "execution_count": 10,
      "outputs": [
        {
          "output_type": "display_data",
          "data": {
            "text/plain": [
              "<Figure size 1000x600 with 2 Axes>"
            ],
            "image/png": "[encoded data removed]"
          },
          "metadata": {}
        }
      ]
    },
    {
      "cell_type": "markdown",
      "source": [
        "Existe una elevada correlación entre las variables Conectados e Inflow que es de 0.88, por su parte, la correlación entre las variables Cierres y Conectados es de 0.91, la correlación entre las variables Conexión Intervalo (hrs) y Conectados es 0.98, la correlación entre las variables Cierres e Inflow es 0.92, la correlación entre las variables Conexión Intervalo (hrs) e Inflow es 0.9, la correlación entre las variables RT (min) y FRT (min) es 0.99, la correlación entre Conexión Intervalo (hrs) y Cierres es 0.94. Esas son las correlaciones más fuertes positivas.\n",
        "Ahora, las correlaciones más fuertes negativas son: la correlación entre Conectados y RT (min) es -0.36, la correlación entre Conectados y FRT (min) es -0.36 (lo que era de esperar dada la alta correlación entre RT (min) y FRT (min)), la correlación entre FTM (min) y Conexión Intervalo (hrs) es -0.36, la correlación entre RT (min) y Conectados es -0.36, la correlación entre RT (min) y Conexión Intervalo (hrs) es -0.37, la correlación entre % SLA  y PD es -0.33.\n",
        "\n",
        "Es necesario considerar que analizar la correlación entre las variables en un conjunto de datos nos puede proporcionar una comprensión intuitiva de las relaciones entre las diferentes medidas. Sin embargo, es importante recordar que la correlación no implica causalidad.\n",
        "\n",
        "Conectados e Inflow (0.88): Esto indica que a medida que aumenta el número de agentes conectados, también aumenta el inflow de interacciones. Esto tiene sentido ya que más agentes pueden manejar un mayor volumen de interacciones entrantes.\n",
        "\n",
        "Cierres y Conectados (0.91): Similarmente, una mayor cantidad de agentes conectados permite cerrar un mayor número de casos. Esto es de esperarse ya que más agentes disponibles pueden gestionar más casos.\n",
        "\n",
        "Conexión Intervalo (hrs) y Conectados (0.98): Esta correlación alta es lógica, ya que cuanto más tiempo estén conectados los agentes, más agentes se considerarán conectados.\n",
        "\n",
        "Cierres e Inflow (0.92): Un mayor número de interacciones entrantes generalmente conduce a un mayor número de casos cerrados, siempre que los recursos sean suficientes para manejar el inflow.\n",
        "\n",
        "Conexión Intervalo (hrs) e Inflow (0.9): Si los agentes están disponibles durante más horas, pueden manejar un mayor inflow de interacciones.\n",
        "\n",
        "RT (min) y FRT (min) (0.99): Estos dos tiempos suelen estar altamente correlacionados ya que, en general, cuanto más tiempo se tarda en responder por primera vez a una interacción, más tiempo se tardará en resolverla.\n",
        "\n",
        "Conexión Intervalo (hrs) y Cierres (0.94): Más tiempo de conexión permite cerrar más casos, ya que hay más tiempo para tratar con los clientes.\n",
        "\n",
        "Por su parte, las correlaciones negativas se podrían interpretar así:\n",
        "\n",
        "Conectados y RT (min) (-0.36), Conectados y FRT (min) (-0.36), Conexión Intervalo (hrs) y RT (min) (-0.37): Estas correlaciones sugieren que tener más agentes conectados o tener un mayor tiempo de conexión reduce el tiempo necesario para responder y resolver interacciones. Esto es razonable ya que más recursos disponibles pueden disminuir los tiempos de espera y resolución.\n",
        "\n",
        "% SLA y PD (-0.33): Esto podría sugerir que un mayor porcentaje de acuerdos de nivel de servicio (SLA) cumplidos está asociado con menos casos cerrados en un intervalo de tiempo determinado. Esto podría ser debido a que cumplir con los SLAs requiere tiempo y esfuerzo, lo que podría reducir la cantidad de casos que se pueden cerrar en un periodo dado.\n"
      ],
      "metadata": {
        "id": "3JrnRqVDsm9w"
      }
    },
    {
      "cell_type": "markdown",
      "source": [
        "###**Estrategias para mejorar los indicadores**"
      ],
      "metadata": {
        "id": "KEBAXuU6hlHK"
      }
    },
    {
      "cell_type": "markdown",
      "source": [
        "Uno de los mayores impulsores de la satisfacción del cliente (CSAT) es la habilidad del agente para resolver consultas de manera eficiente y efectiva. Se podría mejorar CSAT invirtiendo en capacitación para los agentes, enfocándose en habilidades clave como la comunicación, la resolución de problemas y el conocimiento del producto o servicio. Esto también podría reducir el tiempo de resolución (RT) y el tiempo medio operativo (AHT), ya que los agentes mejor capacitados podrían resolver consultas más rápidamente.\n",
        "\n",
        "Se observa que hay una alta correlación entre el tiempo de respuesta promedio (FRT) y el tiempo de resolución (RT). Por lo tanto, reducir el FRT podría conducir a una disminución en RT. Esto se puede lograr a través de la implementación de herramientas de automatización que proporcionen respuestas inmediatas a consultas frecuentes o mediante la implementación de chatbots para manejar consultas de más bajo nivel.\n",
        "\n",
        "El tiempo que los agentes pasan conectados (Conexión Intervalo) está positivamente correlacionado con el número de cierres. Maximizar este tiempo puede permitir que más casos se resuelvan. Sin embargo, es importante equilibrar esto con la necesidad de evitar el agotamiento del agente y mantener un alto nivel de calidad del servicio. Esto se puede hacer a través de horarios de trabajo flexibles, turnos rotativos, o incluso la contratación de más personal si es necesario.\n",
        "\n",
        "\n"
      ],
      "metadata": {
        "id": "AfcZT8zYhsKx"
      }
    },
    {
      "cell_type": "markdown",
      "source": [
        "Antes de evaluar el modelo, quisiera revisar la relación entre las horas y algunas variables que considero importantes."
      ],
      "metadata": {
        "id": "f1EfSntM1brA"
      }
    },
    {
      "cell_type": "code",
      "source": [
        "fig, axs = plt.subplots(3, 2, figsize=(14, 10))\n",
        "\n",
        "# Agrupar los datos por la hora del día y obtener el promedio de cada variable\n",
        "data_grouped_by_hour_Conectados = data.groupby('Intervalo')['Conectados'].mean()\n",
        "data_grouped_by_hour_RT = data.groupby('Intervalo')['RT (min)'].mean()\n",
        "data_grouped_by_hour_Conexion = data.groupby('Intervalo')['Conexión Intervalo (hrs)'].mean()\n",
        "data_grouped_by_hour_SLA = data.groupby('Intervalo')['% SLA'].mean()\n",
        "data_grouped_by_hour_PD = data.groupby('Intervalo')['PD'].mean()\n",
        "data_grouped_by_hour_CSAT = data.groupby('Intervalo')['CSAT '].mean()\n",
        "\n",
        "# Agregar los gráficos a la malla de gráficos\n",
        "data_grouped_by_hour_Conectados.plot(ax=axs[0, 0], kind='line')\n",
        "axs[0, 0].set_title('Conectados')\n",
        "data_grouped_by_hour_RT.plot(ax=axs[0, 1], kind='line')\n",
        "axs[0, 1].set_title('RT (min)')\n",
        "data_grouped_by_hour_Conexion.plot(ax=axs[1, 0], kind='line')\n",
        "axs[1, 0].set_title('Conexión Intervalo (hrs)')\n",
        "data_grouped_by_hour_SLA.plot(ax=axs[1, 1], kind='line')\n",
        "axs[1, 1].set_title('% SLA')\n",
        "data_grouped_by_hour_PD.plot(ax=axs[2, 0], kind='line')\n",
        "axs[2, 0].set_title('PD')\n",
        "data_grouped_by_hour_CSAT.plot(ax=axs[2, 1], kind='line')\n",
        "axs[2, 1].set_title('CSAT ')\n",
        "\n",
        "# Ajustar el espacio entre los gráficos\n",
        "plt.tight_layout()\n",
        "plt.show()\n"
      ],
      "metadata": {
        "colab": {
          "base_uri": "https://localhost:8080/",
          "height": 1000
        },
        "id": "9Q0r633h63yD",
        "outputId": "7e33d41d-3764-4c81-cf26-125748fe7e81"
      },
      "execution_count": 11,
      "outputs": [
        {
          "output_type": "display_data",
          "data": {
            "text/plain": [
              "<Figure size 1400x1000 with 6 Axes>"
            ],
            "image/png": "[encoded data removed]"
          },
          "metadata": {}
        }
      ]
    },
    {
      "cell_type": "markdown",
      "source": [
        "Recordemos que existe una correlación negativa entre Conectados y RT (min), la cual se puede observar en la gráfica. Se observa que entre 7:22 am y las 11:06 am se da un crecimiento exponencial en el número de Conectados llegando a su pico máximo cerca de las 2:00 pm. Comportamiento similar tiene la variable Conexión Intervalo (hrs) dada su elevada correlación. Por su parte, se observa que el tiempo de resolución en minutos cae drásticamente a medida que aumenta la cantidad de conectados llegando a niveles valle entre las 9:14 pm y las 6:34 pm, quizás por la mayor disponibilidad de agentes conectados. La cantidad de casos que se cierran por intervalo tiende a crecer con la mayor disponibilidad de agentes, sin embargo, es curioso que aún a altas horas de la noche cuando la cantidad de conectados es menor, la cantidad de casos cerrados siga siendo tan elevada. El comportamiento de la CSAT es un poco más caótico pues no tiene una tendencia estable sin embargo, se observa que decrece levemente entre las 6:14 am hasta las 10:13 pm y repunta hacia la media noche."
      ],
      "metadata": {
        "id": "qzgD3z-7JCNp"
      }
    },
    {
      "cell_type": "markdown",
      "source": [
        "Antes de empezar a realizar los modelos es necesario puntualizar algo. Para el día 1 se pide la predicción del CSAT dadas las variables SLA, Reopen, FRT, RT, PD y AHT, para el Día 2 se pide predecir el CSAT dadas las variables SLA, Reopen, FRT, Cierres y AHT, se pide además en estos días encontrar los valores que hacen máximo el CSAT. Por su parte, para el día 3 se pide predecir el SLA dados el Inflow, FRT, AHT y CSAT. Como son subconjuntos de variables diferentes para cada día entonces para cada día se elaborará un modelo diferente. Para el día 1 se realizará el modelo con mucho detalle y el ganador de los cuatro modelos para el día 1 se utilizará para los días 2 y 3 con las respectivas variables."
      ],
      "metadata": {
        "id": "1ZerbyxxXMM0"
      }
    },
    {
      "cell_type": "markdown",
      "source": [
        "##**Modelo - Día 1**"
      ],
      "metadata": {
        "id": "ru2WHRutqnRh"
      }
    },
    {
      "cell_type": "markdown",
      "source": [
        "Para el modelo se utilizaran las variables SLA, Reopen, FRT, RT, PD y AHT como variables independientes y la variable respuesta será CSAT. Enfocaremos entonces el análisis en un nuevo dataframe conformado por dichas variables."
      ],
      "metadata": {
        "id": "OMn5TvPgJaH_"
      }
    },
    {
      "cell_type": "code",
      "source": [
        "# Seleccione las columnas que desea en su nuevo dataframe\n",
        "selected_columns = ['% Reopen', 'FRT (min)', 'RT (min)', '% SLA', 'PD', 'AHT (min)', 'CSAT ']\n",
        "\n",
        "# Crea el nuevo dataframe\n",
        "new_data = data[selected_columns]\n",
        "\n",
        "# Imprime el nuevo dataframe para verificar que se ha creado correctamente\n",
        "print(new_data.head())\n"
      ],
      "metadata": {
        "colab": {
          "base_uri": "https://localhost:8080/"
        },
        "id": "XIwP7CSmKKuR",
        "outputId": "fbbc5c89-d264-4fae-a894-93e29193b253"
      },
      "execution_count": 12,
      "outputs": [
        {
          "output_type": "stream",
          "name": "stdout",
          "text": [
            "   % Reopen   FRT (min)    RT (min)  % SLA         PD  AHT (min)     CSAT \n",
            "0     15.38  588.450000  597.771300   62.0   8.828775   9.181425  2.230769\n",
            "1     20.34  568.300000  579.145183   73.0  12.875537   9.006758  1.500000\n",
            "2     12.90  543.383333  550.398917   68.0  10.736127   6.140217  2.600000\n",
            "3     17.86  514.525000  525.191200   82.0  10.152693  11.819308  1.333333\n",
            "4     21.74  371.550000  502.180417   78.0  11.498065  11.925717  2.571429\n"
          ]
        }
      ]
    },
    {
      "cell_type": "markdown",
      "source": [
        "Obtenemos información de ese dataframe."
      ],
      "metadata": {
        "id": "lH67weLxKWYw"
      }
    },
    {
      "cell_type": "code",
      "source": [
        "# Obtener información de los datos.\n",
        "new_data.info()"
      ],
      "metadata": {
        "colab": {
          "base_uri": "https://localhost:8080/"
        },
        "id": "wPPhl1ywKYvv",
        "outputId": "fb3e11cc-9fea-4c21-e084-e535a0269b7b"
      },
      "execution_count": 13,
      "outputs": [
        {
          "output_type": "stream",
          "name": "stdout",
          "text": [
            "<class 'pandas.core.frame.DataFrame'>\n",
            "RangeIndex: 4322 entries, 0 to 4321\n",
            "Data columns (total 7 columns):\n",
            " #   Column     Non-Null Count  Dtype  \n",
            "---  ------     --------------  -----  \n",
            " 0   % Reopen   4243 non-null   float64\n",
            " 1   FRT (min)  4315 non-null   float64\n",
            " 2   RT (min)   4315 non-null   float64\n",
            " 3   % SLA      4319 non-null   float64\n",
            " 4   PD         4314 non-null   float64\n",
            " 5   AHT (min)  4312 non-null   float64\n",
            " 6   CSAT       4255 non-null   float64\n",
            "dtypes: float64(7)\n",
            "memory usage: 236.5 KB\n"
          ]
        }
      ]
    },
    {
      "cell_type": "markdown",
      "source": [
        "Para las variables FRT, RT, SLA, PD, AHT la cantidad de missing values es de 0.15% en promedio lo que podría considerarse irrelevante para la pérdida de datos, por su parte Reopen y CSAT tienen en promedio 1,7% de missing values que también podría considerarse una proporción no significativa, por tanto, en vez de realizar imputación de datos utilizando mediana o interpolación, se eliminan todos aquellos registros que no estén completos."
      ],
      "metadata": {
        "id": "fR29xPcZLGkn"
      }
    },
    {
      "cell_type": "code",
      "source": [
        "# Elimina filas con valores NaN\n",
        "new_data = new_data.dropna()\n",
        "\n",
        "# Obtener información de los datos.\n",
        "new_data.info()"
      ],
      "metadata": {
        "colab": {
          "base_uri": "https://localhost:8080/"
        },
        "id": "sq0uoUfdL3zp",
        "outputId": "c7bec33f-b336-4573-cb70-13731aed1095"
      },
      "execution_count": 14,
      "outputs": [
        {
          "output_type": "stream",
          "name": "stdout",
          "text": [
            "<class 'pandas.core.frame.DataFrame'>\n",
            "Int64Index: 4171 entries, 0 to 4321\n",
            "Data columns (total 7 columns):\n",
            " #   Column     Non-Null Count  Dtype  \n",
            "---  ------     --------------  -----  \n",
            " 0   % Reopen   4171 non-null   float64\n",
            " 1   FRT (min)  4171 non-null   float64\n",
            " 2   RT (min)   4171 non-null   float64\n",
            " 3   % SLA      4171 non-null   float64\n",
            " 4   PD         4171 non-null   float64\n",
            " 5   AHT (min)  4171 non-null   float64\n",
            " 6   CSAT       4171 non-null   float64\n",
            "dtypes: float64(7)\n",
            "memory usage: 260.7 KB\n"
          ]
        }
      ]
    },
    {
      "cell_type": "markdown",
      "source": [
        "Queda un nuevo dataframe con 4171 registros."
      ],
      "metadata": {
        "id": "OlNxsqE0UuI3"
      }
    },
    {
      "cell_type": "markdown",
      "source": [
        "###**Preparación de datos**"
      ],
      "metadata": {
        "id": "LEKBdaNavdqg"
      }
    },
    {
      "cell_type": "markdown",
      "source": [
        "En la limpieza de datos ya se hicieron algunos ajustes al dataset para no tener inconveniente al momento de utilizar algún modelo predictivo, sin embargo, vamos a revisar los valores atípicos."
      ],
      "metadata": {
        "id": "QAPpzaHTxDkH"
      }
    },
    {
      "cell_type": "code",
      "source": [
        "# Crear un diccionario vacío para almacenar el conteo de outliers por columna\n",
        "outliers_dict = {}\n",
        "\n",
        "# Iterar a través de cada columna del dataframe\n",
        "for col in new_data.columns:\n",
        "\n",
        "    # Calcular Q1, Q3 y el IQR\n",
        "    Q1 = new_data[col].quantile(0.25)\n",
        "    Q3 = new_data[col].quantile(0.75)\n",
        "    IQR = Q3 - Q1\n",
        "\n",
        "    # Definir los límites para los valores atípicos\n",
        "    lower_bound = Q1 - 1.5 * IQR\n",
        "    upper_bound = Q3 + 1.5 * IQR\n",
        "\n",
        "    # Identificar los valores atípicos\n",
        "    outliers = new_data[(new_data[col] < lower_bound) | (new_data[col] > upper_bound)]\n",
        "\n",
        "    # Agregar la cuenta de outliers al diccionario\n",
        "    outliers_dict[col] = len(outliers)\n",
        "\n",
        "# Imprimir el conteo de outliers por cada columna\n",
        "print(outliers_dict)\n"
      ],
      "metadata": {
        "colab": {
          "base_uri": "https://localhost:8080/"
        },
        "id": "lXwCd5lqSQiE",
        "outputId": "39730786-89a7-4ce8-91e5-0ca1e97d2655"
      },
      "execution_count": 15,
      "outputs": [
        {
          "output_type": "stream",
          "name": "stdout",
          "text": [
            "{'% Reopen': 8, 'FRT (min)': 464, 'RT (min)': 461, '% SLA': 38, 'PD': 278, 'AHT (min)': 130, 'CSAT ': 414}\n"
          ]
        }
      ]
    },
    {
      "cell_type": "markdown",
      "source": [
        "Si se miran los porcentajes de outliers en cada variable con respecto al total de los registros, vemos que:\n",
        "\n",
        "% Reopen: 8 / 4171 = 0.19%\n",
        "\n",
        "FRT (min): 464 / 4171 = 11.1%\n",
        "\n",
        "RT (min): 461 / 4171 = 11.05%\n",
        "\n",
        "% SLA: 38 / 4171 = 0.91%\n",
        "\n",
        "PD: 278 / 4171 = 6.66%\n",
        "\n",
        "AHT (min): 130 / 4171 = 3.11%\n",
        "\n",
        "CSAT: 414 / 4171 = 9.92%\n",
        "\n",
        "El porcentaje de outliers para '% Reopen' y '% SLA' es bajo, por lo que no deberían representar un gran problema.\n",
        "\n",
        "En cambio, para 'FRT (min)', 'RT (min)', 'PD', 'AHT (min)' y 'CSAT', los porcentajes son mayores. Esto podría ser indicativo de que existen efectivamente algunos registros que se desvían considerablemente de la norma. Sin embargo, antes de tomar una decisión de eliminar estos registros, sería importante investigar un poco más para entender por qué están presentes estos outliers. ¿Es posible que estos registros representen situaciones o casos extremos pero legítimos en los datos? Si ese es el caso, puede ser que eliminemos estos registros, ya que podrían contener información valiosa.\n",
        "\n",
        "Para esto vamos a evaluar los boxplot de las variables con mayor cantidad de outliers:"
      ],
      "metadata": {
        "id": "rxGt6G7cUnHu"
      }
    },
    {
      "cell_type": "code",
      "source": [
        "# Lista de las columnas que queremos visualizar\n",
        "cols = ['% SLA', 'FRT (min)', 'RT (min)', 'PD', 'AHT (min)', 'CSAT ']\n",
        "\n",
        "# Crear una nueva figura y un conjunto de subtramas\n",
        "fig, ax = plt.subplots(nrows=2, ncols=3, figsize=(15, 10))\n",
        "\n",
        "# Ajustar automáticamente el espaciado de subparcela\n",
        "plt.tight_layout(pad=5.0)\n",
        "\n",
        "# Para cada subparcela, crear un boxplot de una columna\n",
        "for i in range(2):\n",
        "    for j in range(3):\n",
        "        ax[i, j].boxplot(new_data[cols[i*3 + j]].dropna())\n",
        "        ax[i, j].set_title(cols[i*3 + j])\n",
        "\n",
        "# Mostrar la figura\n",
        "plt.show()\n"
      ],
      "metadata": {
        "colab": {
          "base_uri": "https://localhost:8080/",
          "height": 914
        },
        "id": "-tNImeDKT4oD",
        "outputId": "d8f49b35-eb61-488b-cf67-406760f1ee80"
      },
      "execution_count": 16,
      "outputs": [
        {
          "output_type": "display_data",
          "data": {
            "text/plain": [
              "<Figure size 1500x1000 with 6 Axes>"
            ],
            "image/png": "[encoded data removed]"
          },
          "metadata": {}
        }
      ]
    },
    {
      "cell_type": "markdown",
      "source": [
        "Se observa que efectivamente existe una buena cantidad de outliers en FRT (min) y RT (min) además de CSAT. Desde el inicio se observó alta variabilidad en el tiempo de resolución y el tiempo de respuesta medio, la presencia de outliers de estas dos variables se puede explicar por que algunas consultas de los clientes pueden ser más complejas que otras y, por lo tanto, tomar más tiempo para resolver. Por ejemplo, un problema de facturación podría ser más rápido de resolver que un problema técnico. Por lo tanto, la variabilidad en la complejidad de las consultas puede dar lugar a una gran cantidad de valores atípicos. O si hay ineficiencias en los procesos de resolución de consultas, esto podría resultar en tiempos de resolución y respuesta más largos. Por ejemplo, si los agentes tienen que pasar por varios pasos innecesarios para resolver una consulta, esto podría resultar en un aumento del tiempo de resolución y por lo tanto en valores atípicos. También puede ser que los agentes pueden tener diferentes niveles de habilidades y experiencia. Los agentes más experimentados pueden ser capaces de resolver consultas más rápidamente, mientras que los agentes menos experimentados pueden tardar más tiempo. Y desde el punto de vista estadístico, dado el sesgo en la distribución de las medidas de tiempo, es decir, con una cola larga hacia la derecha. En este caso, es común que haya valores muy altos que se consideran atípicos.\n",
        "\n",
        "Por su parte, en la puntuación de satisfacción del cliente (CSAT) puede existir la presencia de outliers debido a que algunos clientes pueden haber tenido experiencias extremadamente positivas o negativas con el servicio al cliente. Esto puede hacer que proporcionen puntuaciones de CSAT que se desvíen significativamente, entre otras razones.\n",
        "\n",
        "Por lo expuesto anteriormente se creería que los valores atípicos de las variables tienen significancia de negocio por lo que aportarían información valiosa a la hora de realizar un modelo y se busca que éste capture dicha información, sin embargo, al momento de realizar el ajuste, estos outliers jugaron en contra debido a que los resultados de las métricas de error fueron elevados y el ajuste bajo, por tanto, más adelante se eliminan los registros que tienen outliers."
      ],
      "metadata": {
        "id": "Kb42TSDZVL4P"
      }
    },
    {
      "cell_type": "markdown",
      "source": [
        "###**Reducción de dimensionalidad**"
      ],
      "metadata": {
        "id": "xRn7nmUW9Eae"
      }
    },
    {
      "cell_type": "markdown",
      "source": [
        "Dado que la cantidad de variables no es muy grande, no usaremos PCA, ni LDA, ni otras técnicas para reducir la dimensionalidad, en cambio, recordemos que RT (min) y FRT (min) tienen una elevada correlación por lo que existe multicolinealidad que debe ser eliminada para el modelo de regresión. Por tanto se elimina la variable FRT (min)."
      ],
      "metadata": {
        "id": "diPYlgy9aDQ_"
      }
    },
    {
      "cell_type": "code",
      "source": [
        "# Selecciona las columnas que desea el nuevo dataframe\n",
        "selected_columns = ['% Reopen', 'RT (min)', '% SLA', 'PD', 'AHT (min)', 'CSAT ']\n",
        "\n",
        "# Crea el nuevo dataframe\n",
        "reduced_data = new_data[selected_columns]\n",
        "\n",
        "# Imprime el nuevo dataframe para verificar que se ha creado correctamente\n",
        "print(reduced_data.head())"
      ],
      "metadata": {
        "colab": {
          "base_uri": "https://localhost:8080/"
        },
        "id": "G0F_qn6UaxTG",
        "outputId": "a77126bf-9f5c-4989-ebd1-cf865ed4538d"
      },
      "execution_count": 17,
      "outputs": [
        {
          "output_type": "stream",
          "name": "stdout",
          "text": [
            "   % Reopen    RT (min)  % SLA         PD  AHT (min)     CSAT \n",
            "0     15.38  597.771300   62.0   8.828775   9.181425  2.230769\n",
            "1     20.34  579.145183   73.0  12.875537   9.006758  1.500000\n",
            "2     12.90  550.398917   68.0  10.736127   6.140217  2.600000\n",
            "3     17.86  525.191200   82.0  10.152693  11.819308  1.333333\n",
            "4     21.74  502.180417   78.0  11.498065  11.925717  2.571429\n"
          ]
        }
      ]
    },
    {
      "cell_type": "markdown",
      "source": [
        "Luego de retirar la variable FRT (min), se procede a retirar los outliers por demostrarse que interfieren negativamente en las métricas de evaluación de la regresión."
      ],
      "metadata": {
        "id": "75FkG2NGPBHB"
      }
    },
    {
      "cell_type": "code",
      "source": [
        "# Función para identificar outliers usando IQR\n",
        "def identify_outliers(df, column):\n",
        "    Q1 = df[column].quantile(0.25)\n",
        "    Q3 = df[column].quantile(0.75)\n",
        "    IQR = Q3 - Q1\n",
        "    lower_bound = Q1 - 1.5 * IQR\n",
        "    upper_bound = Q3 + 1.5 * IQR\n",
        "    return (df[column] < lower_bound) | (df[column] > upper_bound)\n",
        "\n",
        "# Iniciar una serie de pandas con valores False\n",
        "outliers = pd.Series(data=False, index=reduced_data.index)\n",
        "\n",
        "# Identificar outliers en cada columna y actualizar la serie de pandas\n",
        "for column in selected_columns:\n",
        "    outliers = outliers | identify_outliers(reduced_data, column)\n",
        "\n",
        "# Eliminar los registros con outliers\n",
        "reduced_data = reduced_data[~outliers]\n",
        "\n",
        "reduced_data.info()"
      ],
      "metadata": {
        "colab": {
          "base_uri": "https://localhost:8080/"
        },
        "id": "bMs6ZUBkPLI3",
        "outputId": "a1cd4bd9-0711-4938-cb14-1cdaccaf8ead"
      },
      "execution_count": 18,
      "outputs": [
        {
          "output_type": "stream",
          "name": "stdout",
          "text": [
            "<class 'pandas.core.frame.DataFrame'>\n",
            "Int64Index: 4171 entries, 0 to 4321\n",
            "Data columns (total 7 columns):\n",
            " #   Column     Non-Null Count  Dtype  \n",
            "---  ------     --------------  -----  \n",
            " 0   % Reopen   4171 non-null   float64\n",
            " 1   FRT (min)  4171 non-null   float64\n",
            " 2   RT (min)   4171 non-null   float64\n",
            " 3   % SLA      4171 non-null   float64\n",
            " 4   PD         4171 non-null   float64\n",
            " 5   AHT (min)  4171 non-null   float64\n",
            " 6   CSAT       4171 non-null   float64\n",
            "dtypes: float64(7)\n",
            "memory usage: 260.7 KB\n"
          ]
        }
      ]
    },
    {
      "cell_type": "markdown",
      "source": [
        "###**Modelos**\n",
        "\n",
        "Se decide ajustar cuatro modelos para evaluar cual es mejor, inicialmente una regresión lineal, luego decision tree para regresión, random forest para regresion y una red neuronal."
      ],
      "metadata": {
        "id": "Bn7lPhq2J_j2"
      }
    },
    {
      "cell_type": "markdown",
      "source": [
        "####**Regresión rigde**\n",
        "\n",
        "Primero, se definen las columnas que se utilizarán como características para predecir la variable objetivo 'CSAT '. Luego, los datos se dividen en conjuntos de entrenamiento y prueba. A continuación, se crea un modelo Ridge inicial, que es una versión regularizada del modelo de regresión lineal. Se define una cuadrícula de parámetros para el hiperparámetro 'alpha' del modelo Ridge, y se realiza una búsqueda de cuadrícula con validación cruzada para encontrar el valor óptimo de 'alpha' que minimiza el error cuadrático medio. Una vez encontrado el mejor parámetro, se vuelve a entrenar el modelo con este y se hacen predicciones en el conjunto de prueba. Finalmente, se calculan y se muestran varias métricas de error para evaluar el rendimiento del modelo en el conjunto de prueba."
      ],
      "metadata": {
        "id": "sJqhkloSJCwd"
      }
    },
    {
      "cell_type": "code",
      "source": [
        "# Lista de columnas de características\n",
        "feature_columns = ['% Reopen', 'RT (min)', '% SLA', 'PD', 'AHT (min)']\n",
        "\n",
        "# Dividir los datos en conjuntos de entrenamiento y prueba\n",
        "X = reduced_data[feature_columns]\n",
        "y = reduced_data['CSAT ']\n",
        "\n",
        "X_train, X_test, y_train, y_test = train_test_split(X, y, test_size=0.2, random_state=42)\n",
        "\n",
        "# Crear el modelo\n",
        "model = Ridge()\n",
        "\n",
        "# Definir la grilla de parámetros para buscar\n",
        "parameters = {'alpha': [1e-15, 1e-10, 1e-8, 1e-4, 1e-3, 1e-2, 1, 5, 10, 20]}\n",
        "\n",
        "# Configurar la búsqueda de la grilla\n",
        "grid_search = GridSearchCV(model, parameters, scoring='neg_mean_squared_error', cv=5)\n",
        "\n",
        "# Realizar la búsqueda de la grilla\n",
        "grid_search.fit(X_train, y_train)\n",
        "\n",
        "# Imprimir el mejor parámetro\n",
        "print(f'Best parameter: {grid_search.best_params_}')\n",
        "\n",
        "# Crear y entrenar el modelo con el mejor parámetro\n",
        "best_model = Ridge(alpha=grid_search.best_params_['alpha'])\n",
        "best_model.fit(X_train, y_train)\n",
        "\n",
        "# Realizar predicciones\n",
        "y_pred = best_model.predict(X_test)\n",
        "\n",
        "# Calcular y mostrar las métricas de error\n",
        "mse = mean_squared_error(y_test, y_pred)\n",
        "mae = mean_absolute_error(y_test, y_pred)\n",
        "r2 = r2_score(y_test, y_pred)\n",
        "\n",
        "print(f'MSE: {mse}')\n",
        "print(f'MAE: {mae}')\n",
        "print(f'R^2: {r2}')\n"
      ],
      "metadata": {
        "colab": {
          "base_uri": "https://localhost:8080/"
        },
        "id": "c-5lau-XfMkC",
        "outputId": "33ae0d2d-143e-49fa-99c9-223649c75715"
      },
      "execution_count": 19,
      "outputs": [
        {
          "output_type": "stream",
          "name": "stdout",
          "text": [
            "Best parameter: {'alpha': 20}\n",
            "MSE: 0.08757422362463749\n",
            "MAE: 0.22967994609152526\n",
            "R^2: 0.10111721949520913\n"
          ]
        }
      ]
    },
    {
      "cell_type": "markdown",
      "source": [
        "Best parameter: {'alpha': 20}: Durante la optimización de hiperparámetros utilizando la búsqueda de cuadrícula, el mejor valor para el hiperparámetro de regularización \"alpha\" en el modelo de regresión Ridge resultó ser 20. Esto significa que este es el valor que minimiza el error cuadrático medio en el conjunto de validación cruzada.\n",
        "\n",
        "MSE: 0.08757422362463749: El Error Cuadrático Medio o MSE, entre las predicciones del modelo y los valores verdaderos en el conjunto de prueba es aproximadamente 0.088.\n",
        "\n",
        "MAE: 0.22967994609152526: El Error Absoluto Medio (MAE) entre las predicciones del modelo y los valores verdaderos en el conjunto de prueba es aproximadamente 0.230.\n",
        "\n",
        "R^2: 0.10111721949520913: El coeficiente de determinación R^2 del modelo en el conjunto de prueba es aproximadamente 0.101. Este valor indica que el modelo explica aproximadamente el 10.1% de la variabilidad en la variable objetivo, que en este caso es 'CSAT '. Aunque esta medida puede variar entre 0 y 1, y un valor más cercano a 1 indica un mejor ajuste del modelo, un R^2 de 0.101 es bastante bajo, lo que sugiere que el modelo no se ajusta muy bien a los datos."
      ],
      "metadata": {
        "id": "WuTC4c18JAMg"
      }
    },
    {
      "cell_type": "markdown",
      "source": [
        "####**Arból de decisión**\n",
        "\n",
        "Se implementa un Árbol de Decisión para regresión, optimizado a través de una búsqueda de cuadrícula (grid search) para encontrar los mejores hiperparámetros. Primero, selecciona un conjunto de características y divide los datos en conjuntos de entrenamiento y prueba. Luego, se crea una instancia del modelo de Árbol de Decisión. Se define un conjunto de parámetros para la búsqueda de cuadrícula, específicamente, diferentes valores para la profundidad máxima del árbol (\"max_depth\") y el número mínimo de muestras requeridas para dividir un nodo interno (\"min_samples_split\"). Utiliza la búsqueda de cuadrícula para encontrar la combinación de parámetros que minimiza el error cuadrático medio (MSE) en validación cruzada. Entrena un nuevo Árbol de Decisión con los mejores parámetros encontrados, y finalmente, evalúa el rendimiento del modelo en el conjunto de prueba, calculando el MSE, el error absoluto medio (MAE), y el coeficiente de determinación R^2."
      ],
      "metadata": {
        "id": "ILZD9hJxJoee"
      }
    },
    {
      "cell_type": "code",
      "source": [
        "# Lista de columnas de características\n",
        "feature_columns = ['% Reopen', 'RT (min)', '% SLA', 'PD', 'AHT (min)']\n",
        "\n",
        "# Dividir los datos en conjuntos de entrenamiento y prueba\n",
        "X = reduced_data[feature_columns]\n",
        "y = reduced_data['CSAT ']\n",
        "\n",
        "X_train, X_test, y_train, y_test = train_test_split(X, y, test_size=0.2, random_state=42)\n",
        "\n",
        "# Crear el modelo\n",
        "model = DecisionTreeRegressor(random_state=42)\n",
        "\n",
        "# Definir la grilla de parámetros para buscar\n",
        "parameters = {'max_depth': range(1, 11), 'min_samples_split': range(2, 11)}\n",
        "\n",
        "# Configurar la búsqueda de la grilla\n",
        "grid_search = GridSearchCV(model, parameters, scoring='neg_mean_squared_error', cv=5)\n",
        "\n",
        "# Realizar la búsqueda de la grilla\n",
        "grid_search.fit(X_train, y_train)\n",
        "\n",
        "# Imprimir los mejores parámetros\n",
        "print(f'Best parameters: {grid_search.best_params_}')\n",
        "\n",
        "# Crear y entrenar el modelo con los mejores parámetros\n",
        "best_model = DecisionTreeRegressor(max_depth=grid_search.best_params_['max_depth'],\n",
        "                                   min_samples_split=grid_search.best_params_['min_samples_split'],\n",
        "                                   random_state=42)\n",
        "best_model.fit(X_train, y_train)\n",
        "\n",
        "# Realizar predicciones\n",
        "y_pred = best_model.predict(X_test)\n",
        "\n",
        "# Calcular y mostrar las métricas de error\n",
        "mse = mean_squared_error(y_test, y_pred)\n",
        "mae = mean_absolute_error(y_test, y_pred)\n",
        "r2 = r2_score(y_test, y_pred)\n",
        "\n",
        "print(f'MSE: {mse}')\n",
        "print(f'MAE: {mae}')\n",
        "print(f'R^2: {r2}')\n"
      ],
      "metadata": {
        "colab": {
          "base_uri": "https://localhost:8080/"
        },
        "id": "zh8Mo6ZYffW4",
        "outputId": "81e8004a-52dd-48a3-8d5a-a7489a09c7a8"
      },
      "execution_count": 25,
      "outputs": [
        {
          "output_type": "stream",
          "name": "stdout",
          "text": [
            "Best parameters: {'max_depth': 10, 'min_samples_split': 2}\n",
            "MSE: 0.05222926045511462\n",
            "MAE: 0.15839783973392005\n",
            "R^2: 0.46390637657455236\n"
          ]
        }
      ]
    },
    {
      "cell_type": "markdown",
      "source": [
        "Los resultados indican que el mejor modelo de Árbol de Decisión encontrado por la búsqueda de cuadrícula tiene una profundidad máxima ('max_depth') de 10 y requiere al menos 2 muestras para dividir un nodo interno ('min_samples_split').\n",
        "\n",
        "Se obtiene un MSE de 0.0522 y un MAE de 0.1584 lo que indica un mejor desempeño que el modelo de regresión. El coeficiente de determinación (R^2) es 0.4639. Este valor indica la proporción de la varianza en la variable dependiente que es predecible a partir de las variables independientes. Un R^2 de 1 indica que el modelo puede explicar toda la variabilidad de la variable de respuesta en torno a su media. Un R^2 de 0.4639 sugiere que el modelo puede explicar alrededor del 46.39% de la variabilidad en 'CSAT', lo que indica un rendimiento moderado."
      ],
      "metadata": {
        "id": "mJwk6iBqKcAc"
      }
    },
    {
      "cell_type": "markdown",
      "source": [
        "Como este modelo resulto siendo el mejor vamos a predecir el día 1 con los valores indicados."
      ],
      "metadata": {
        "id": "jS0cWjofbP0H"
      }
    },
    {
      "cell_type": "code",
      "source": [
        "# Los valores para predecir\n",
        "test_values = [[10, 8.5, 80, 7, 8]]\n",
        "\n",
        "# Realizar la predicción con los valores de prueba\n",
        "prediction = best_model.predict(test_values)\n",
        "\n",
        "print(f'La predicción del modelo para los valores de entrada es: {prediction[0]}')\n"
      ],
      "metadata": {
        "colab": {
          "base_uri": "https://localhost:8080/"
        },
        "id": "IKMUUo9-S7ox",
        "outputId": "1962c455-ca14-47bc-fcff-d113fb05c5fe"
      },
      "execution_count": 26,
      "outputs": [
        {
          "output_type": "stream",
          "name": "stdout",
          "text": [
            "La predicción del modelo para los valores de entrada es: 2.5\n"
          ]
        }
      ]
    },
    {
      "cell_type": "markdown",
      "source": [
        "Ahora, con este modelo, encontraremos los valores de las variables que permiten obtener el máximo CSAT."
      ],
      "metadata": {
        "id": "UQ3gV8aMbWBd"
      }
    },
    {
      "cell_type": "code",
      "source": [
        "# Definir los rangos de cada variable de entrada\n",
        "ranges = {\n",
        "    '% Reopen': (0, 62),\n",
        "    'RT (min)': (0, 750),\n",
        "    '% SLA': (36, 100),\n",
        "    'PD': (0, 24),\n",
        "    'AHT (min)': (0, 550)\n",
        "}\n",
        "\n",
        "# Generar 1,000,000 de muestras aleatorias dentro de los rangos definidos\n",
        "samples = pd.DataFrame({k: np.random.uniform(low=low, high=high, size=1000000) for k, (low, high) in ranges.items()})\n",
        "\n",
        "# Hacer la predicción para cada muestra\n",
        "predictions = best_model.predict(samples)\n",
        "\n",
        "# Encontrar la muestra que da la predicción más alta\n",
        "best_index = np.argmax(predictions)\n",
        "best_sample = samples.iloc[best_index]\n",
        "best_CSAT = predictions[best_index]\n",
        "\n",
        "print(f'Los valores de las variables que maximizan CSAT son:\\n{best_sample}')\n",
        "print(f'El valor máximo de CSAT es: {best_CSAT}')\n"
      ],
      "metadata": {
        "colab": {
          "base_uri": "https://localhost:8080/"
        },
        "id": "SHwlMMLTTBTR",
        "outputId": "8adf120f-3ac7-483f-9755-9f89dd28bacf"
      },
      "execution_count": 28,
      "outputs": [
        {
          "output_type": "stream",
          "name": "stdout",
          "text": [
            "Los valores de las variables que maximizan CSAT son:\n",
            "% Reopen      35.246266\n",
            "RT (min)     257.945210\n",
            "% SLA         85.383905\n",
            "PD            17.282599\n",
            "AHT (min)      1.228346\n",
            "Name: 242, dtype: float64\n",
            "El valor máximo de CSAT es: 3.444444444\n"
          ]
        }
      ]
    },
    {
      "cell_type": "markdown",
      "source": [
        "####**Random forest**\n",
        "\n",
        "Se entrena y evalúa un modelo de regresión utilizando el algoritmo de Bosques Aleatorios (Random Forest). Primero, selecciona un conjunto de características y el objetivo a predecir. Luego, divide los datos en conjuntos de entrenamiento y prueba.\n",
        "Se crea un objeto del modelo RandomForestRegressor y se configura una búsqueda de cuadrícula (GridSearchCV) para optimizar los parámetros del modelo. Los parámetros a optimizar son el número de árboles en el bosque (n_estimators), la profundidad máxima de los árboles (max_depth) y el número mínimo de muestras requerido para dividir un nodo interno (min_samples_split). Para acelerar el proceso de búsqueda de cuadrícula, se reducen los rangos de estos parámetros.\n",
        "Después de encontrar los mejores parámetros con la búsqueda de cuadrícula, se entrena un nuevo modelo de Bosques Aleatorios con estos parámetros en el conjunto de entrenamiento."
      ],
      "metadata": {
        "id": "flmCY0Y4K7tA"
      }
    },
    {
      "cell_type": "code",
      "source": [
        "# Lista de columnas de características\n",
        "feature_columns = ['% Reopen', 'RT (min)', '% SLA', 'PD', 'AHT (min)']\n",
        "\n",
        "# Dividir los datos en conjuntos de entrenamiento y prueba\n",
        "X = reduced_data[feature_columns]\n",
        "y = reduced_data['CSAT ']\n",
        "\n",
        "X_train, X_test, y_train, y_test = train_test_split(X, y, test_size=0.2, random_state=42)\n",
        "\n",
        "# Crear el modelo\n",
        "model = RandomForestRegressor(random_state=42)\n",
        "\n",
        "# Definir la grilla de parámetros para buscar\n",
        "parameters = {'n_estimators': [100, 200],  # Reducir el número de estimadores\n",
        "              'max_depth': range(1, 6),  # Reducir la profundidad máxima\n",
        "              'min_samples_split': range(2, 6)}  # Reducir el rango de min_samples_split\n",
        "\n",
        "# Configurar la búsqueda de la grilla\n",
        "grid_search = GridSearchCV(model, parameters, scoring='neg_mean_squared_error', cv=5, n_jobs=-1)\n",
        "\n",
        "# Realizar la búsqueda de la grilla\n",
        "grid_search.fit(X_train, y_train)\n",
        "\n",
        "# Imprimir los mejores parámetros\n",
        "print(f'Best parameters: {grid_search.best_params_}')\n",
        "\n",
        "# Crear y entrenar el modelo con los mejores parámetros\n",
        "best_model = RandomForestRegressor(n_estimators=grid_search.best_params_['n_estimators'],\n",
        "                                   max_depth=grid_search.best_params_['max_depth'],\n",
        "                                   min_samples_split=grid_search.best_params_['min_samples_split'],\n",
        "                                   random_state=42)\n",
        "best_model.fit(X_train, y_train)\n",
        "\n",
        "# Realizar predicciones\n",
        "y_pred = best_model.predict(X_test)\n",
        "\n",
        "# Calcular y mostrar las métricas de error\n",
        "mse = mean_squared_error(y_test, y_pred)\n",
        "mae = mean_absolute_error(y_test, y_pred)\n",
        "r2 = r2_score(y_test, y_pred)\n",
        "\n",
        "print(f'MSE: {mse}')\n",
        "print(f'MAE: {mae}')\n",
        "print(f'R^2: {r2}')\n",
        "\n"
      ],
      "metadata": {
        "colab": {
          "base_uri": "https://localhost:8080/"
        },
        "id": "g0eaJcLvf1Fq",
        "outputId": "d288f76a-1f0f-4671-d391-2860cc232a54"
      },
      "execution_count": 21,
      "outputs": [
        {
          "output_type": "stream",
          "name": "stdout",
          "text": [
            "Best parameters: {'max_depth': 5, 'min_samples_split': 2, 'n_estimators': 200}\n",
            "MSE: 0.06696793430285213\n",
            "MAE: 0.2044296649995842\n",
            "R^2: 0.31262510246365816\n"
          ]
        }
      ]
    },
    {
      "cell_type": "markdown",
      "source": [
        "Los resultados obtenidos representan el rendimiento del modelo de regresión de bosques aleatorios (Random Forest) en los datos de prueba, utilizando los parámetros óptimos encontrados mediante la búsqueda de cuadrícula (GridSearchCV).\n",
        "\n",
        "Los \"mejores parámetros\" son aquellos que minimizan el error cuadrático medio (MSE) en la validación cruzada durante la búsqueda de cuadrícula. En este caso, los mejores parámetros fueron una profundidad máxima de los árboles de 5 (max_depth), un número mínimo de muestras requerido para dividir un nodo interno de 2 (min_samples_split) y un número de árboles en el bosque de 200 (n_estimators).\n",
        "\n",
        "El error cuadrático medio (MSE) en los datos de prueba fue de aproximadamente 0.067. El error absoluto medio (MAE) en los datos de prueba fue de aproximadamente 0.204. El coeficiente de determinación (R^2) en los datos de prueba fue de aproximadamente 0.313. El modelo puede explicar aproximadamente el 31.3% de la variabilidad en los datos de prueba."
      ],
      "metadata": {
        "id": "yy4EBoxbLV3A"
      }
    },
    {
      "cell_type": "markdown",
      "source": [
        "####**Red neuronal profunda**\n",
        "\n",
        "Se usa el módulo keras-tuner para realizar una búsqueda aleatoria de hiperparámetros y optimizar un modelo de redes neuronales profundas (deep learning) utilizando Keras y TensorFlow.\n",
        "\n",
        "Primero, el código establece las columnas de características que se usarán y divide los datos en conjuntos de entrenamiento y prueba. Luego, se escalan las características para asegurar que todas estén en la misma escala, lo cual es especialmente importante para los algoritmos de aprendizaje automático que se basan en la distancia entre las características, como las redes neuronales.\n",
        "Se define una función build_model(hp) para construir un modelo de red neuronal secuencial, cuyo número de capas, unidades por capa y tasa de aprendizaje son definidos por un objeto hp, que es proporcionado por keras-tuner. Este objeto permite definir rangos de valores para los hiperparámetros, y keras-tuner buscará la mejor combinación de hiperparámetros dentro de estos rangos.\n",
        "Se instancia un objeto RandomSearch de keras-tuner, que realizará una búsqueda aleatoria de hiperparámetros utilizando la función build_model(hp) y optimizará el modelo para minimizar el error cuadrático medio en los datos de validación. Se realiza un número máximo de 5 pruebas de diferentes combinaciones de hiperparámetros, y cada prueba se ejecuta 3 veces para obtener un promedio.\n",
        "Una vez finalizada la búsqueda, se obtiene el mejor modelo, se entrena con los datos de entrenamiento durante 50 épocas, se realizan predicciones en los datos de prueba y se calcula el error cuadrático medio de estas predicciones.\n"
      ],
      "metadata": {
        "id": "Xsgr7_cNMAxC"
      }
    },
    {
      "cell_type": "code",
      "source": [
        "# Lista de columnas de características\n",
        "feature_columns = ['% Reopen', 'RT (min)', '% SLA', 'PD', 'AHT (min)']\n",
        "\n",
        "# Intentar dividir los datos en conjuntos de entrenamiento y prueba\n",
        "try:\n",
        "    X = reduced_data[feature_columns]\n",
        "    y = reduced_data['CSAT ']\n",
        "except KeyError as e:\n",
        "    print(f\"La clave {e} no se encuentra en el DataFrame.\")\n",
        "\n",
        "X_train, X_test, y_train, y_test = train_test_split(X, y, test_size=0.2, random_state=42)\n",
        "\n",
        "# Intentar estandarizar las características\n",
        "try:\n",
        "    scaler = StandardScaler()\n",
        "    X_train = scaler.fit_transform(X_train)\n",
        "    X_test = scaler.transform(X_test)\n",
        "except Exception as e:\n",
        "    print(f\"Error al escalar los datos: {e}\")\n",
        "\n",
        "def build_model(hp):\n",
        "    model = keras.Sequential()\n",
        "    model.add(layers.Input(shape=(X_train.shape[1],)))\n",
        "    for i in range(hp.Int('num_layers', 2, 20)):\n",
        "        model.add(layers.Dense(units=hp.Int('units_' + str(i),\n",
        "                                            min_value=32,\n",
        "                                            max_value=512,\n",
        "                                            step=32),\n",
        "                               activation='relu'))\n",
        "        model.add(layers.Dropout(0.1))  # Agregando Dropout\n",
        "    model.add(layers.Dense(1, activation='linear'))  # Cambiando la función de activación a 'linear'\n",
        "    model.compile(\n",
        "        optimizer=keras.optimizers.Adam(\n",
        "            hp.Choice('learning_rate', [1e-2, 1e-3, 1e-4])),\n",
        "        loss='mean_squared_error',\n",
        "        metrics=['mean_squared_error'])\n",
        "    return model\n",
        "\n",
        "\n",
        "tuner = RandomSearch(\n",
        "    build_model,\n",
        "    objective='val_mean_squared_error',\n",
        "    max_trials=5,\n",
        "    executions_per_trial=3,\n",
        "    directory='my_dir',\n",
        "    project_name='helloworld')\n",
        "\n",
        "tuner.search(X_train, y_train,\n",
        "             epochs=5,\n",
        "             validation_data=(X_test, y_test))\n",
        "\n",
        "# Obtener el mejor modelo\n",
        "best_model = tuner.get_best_models(num_models=1)[0]\n",
        "\n",
        "# Entrenar el modelo\n",
        "history = best_model.fit(X_train, y_train, epochs=50, validation_data=(X_test, y_test))\n",
        "\n",
        "# Realizar predicciones\n",
        "y_pred = best_model.predict(X_test)\n",
        "\n",
        "# Calcular y mostrar las métricas de error\n",
        "mse = mean_squared_error(y_test, y_pred)  # Utilizando función predefinida para calcular MSE\n",
        "print(f'MSE: {mse}')\n"
      ],
      "metadata": {
        "colab": {
          "base_uri": "https://localhost:8080/"
        },
        "id": "ekAV6HF0quWk",
        "outputId": "43723db6-b96f-4104-bfdd-0139143345c2"
      },
      "execution_count": 24,
      "outputs": [
        {
          "output_type": "stream",
          "name": "stdout",
          "text": [
            "Epoch 1/50\n",
            "81/81 [==============================] - 6s 41ms/step - loss: 0.1290 - mean_squared_error: 0.1290 - val_loss: 0.0965 - val_mean_squared_error: 0.0965\n",
            "Epoch 2/50\n",
            "81/81 [==============================] - 4s 45ms/step - loss: 0.1222 - mean_squared_error: 0.1222 - val_loss: 0.0951 - val_mean_squared_error: 0.0951\n",
            "Epoch 3/50\n",
            "81/81 [==============================] - 3s 42ms/step - loss: 0.1249 - mean_squared_error: 0.1249 - val_loss: 0.0877 - val_mean_squared_error: 0.0877\n",
            "Epoch 4/50\n",
            "81/81 [==============================] - 3s 37ms/step - loss: 0.1453 - mean_squared_error: 0.1453 - val_loss: 0.1052 - val_mean_squared_error: 0.1052\n",
            "Epoch 5/50\n",
            "81/81 [==============================] - 3s 37ms/step - loss: 0.1236 - mean_squared_error: 0.1236 - val_loss: 0.0996 - val_mean_squared_error: 0.0996\n",
            "Epoch 6/50\n",
            "81/81 [==============================] - 3s 38ms/step - loss: 0.1306 - mean_squared_error: 0.1306 - val_loss: 0.1388 - val_mean_squared_error: 0.1388\n",
            "Epoch 7/50\n",
            "81/81 [==============================] - 4s 47ms/step - loss: 0.1546 - mean_squared_error: 0.1546 - val_loss: 0.0952 - val_mean_squared_error: 0.0952\n",
            "Epoch 8/50\n",
            "81/81 [==============================] - 3s 37ms/step - loss: 0.1205 - mean_squared_error: 0.1205 - val_loss: 0.0933 - val_mean_squared_error: 0.0933\n",
            "Epoch 9/50\n",
            "81/81 [==============================] - 3s 35ms/step - loss: 0.1182 - mean_squared_error: 0.1182 - val_loss: 0.0914 - val_mean_squared_error: 0.0914\n",
            "Epoch 10/50\n",
            "81/81 [==============================] - 3s 33ms/step - loss: 0.1147 - mean_squared_error: 0.1147 - val_loss: 0.0903 - val_mean_squared_error: 0.0903\n",
            "Epoch 11/50\n",
            "81/81 [==============================] - 2s 25ms/step - loss: 0.1250 - mean_squared_error: 0.1250 - val_loss: 0.1030 - val_mean_squared_error: 0.1030\n",
            "Epoch 12/50\n",
            "81/81 [==============================] - 2s 29ms/step - loss: 0.2407 - mean_squared_error: 0.2407 - val_loss: 0.1011 - val_mean_squared_error: 0.1011\n",
            "Epoch 13/50\n",
            "81/81 [==============================] - 2s 19ms/step - loss: 1.8780 - mean_squared_error: 1.8780 - val_loss: 0.1042 - val_mean_squared_error: 0.1042\n",
            "Epoch 14/50\n",
            "81/81 [==============================] - 2s 23ms/step - loss: 0.1435 - mean_squared_error: 0.1435 - val_loss: 0.1124 - val_mean_squared_error: 0.1124\n",
            "Epoch 15/50\n",
            "81/81 [==============================] - 2s 20ms/step - loss: 0.1406 - mean_squared_error: 0.1406 - val_loss: 0.1111 - val_mean_squared_error: 0.1111\n",
            "Epoch 16/50\n",
            "81/81 [==============================] - 2s 19ms/step - loss: 0.1317 - mean_squared_error: 0.1317 - val_loss: 0.1009 - val_mean_squared_error: 0.1009\n",
            "Epoch 17/50\n",
            "81/81 [==============================] - 3s 32ms/step - loss: 0.1338 - mean_squared_error: 0.1338 - val_loss: 0.0985 - val_mean_squared_error: 0.0985\n",
            "Epoch 18/50\n",
            "81/81 [==============================] - 3s 42ms/step - loss: 0.1292 - mean_squared_error: 0.1292 - val_loss: 0.0986 - val_mean_squared_error: 0.0986\n",
            "Epoch 19/50\n",
            "81/81 [==============================] - 3s 38ms/step - loss: 0.1274 - mean_squared_error: 0.1274 - val_loss: 0.0977 - val_mean_squared_error: 0.0977\n",
            "Epoch 20/50\n",
            "81/81 [==============================] - 3s 35ms/step - loss: 0.1278 - mean_squared_error: 0.1278 - val_loss: 0.0985 - val_mean_squared_error: 0.0985\n",
            "Epoch 21/50\n",
            "81/81 [==============================] - 3s 35ms/step - loss: 0.1264 - mean_squared_error: 0.1264 - val_loss: 0.0985 - val_mean_squared_error: 0.0985\n",
            "Epoch 22/50\n",
            "81/81 [==============================] - 3s 37ms/step - loss: 0.1215 - mean_squared_error: 0.1215 - val_loss: 0.1056 - val_mean_squared_error: 0.1056\n",
            "Epoch 23/50\n",
            "81/81 [==============================] - 4s 47ms/step - loss: 0.1225 - mean_squared_error: 0.1225 - val_loss: 0.0975 - val_mean_squared_error: 0.0975\n",
            "Epoch 24/50\n",
            "81/81 [==============================] - 3s 31ms/step - loss: 0.1235 - mean_squared_error: 0.1235 - val_loss: 0.0982 - val_mean_squared_error: 0.0982\n",
            "Epoch 25/50\n",
            "81/81 [==============================] - 1s 18ms/step - loss: 0.1246 - mean_squared_error: 0.1246 - val_loss: 0.0976 - val_mean_squared_error: 0.0976\n",
            "Epoch 26/50\n",
            "81/81 [==============================] - 1s 18ms/step - loss: 0.1217 - mean_squared_error: 0.1217 - val_loss: 0.1006 - val_mean_squared_error: 0.1006\n",
            "Epoch 27/50\n",
            "81/81 [==============================] - 2s 19ms/step - loss: 0.1222 - mean_squared_error: 0.1222 - val_loss: 0.0975 - val_mean_squared_error: 0.0975\n",
            "Epoch 28/50\n",
            "81/81 [==============================] - 2s 19ms/step - loss: 0.1187 - mean_squared_error: 0.1187 - val_loss: 0.1092 - val_mean_squared_error: 0.1092\n",
            "Epoch 29/50\n",
            "81/81 [==============================] - 1s 18ms/step - loss: 0.1217 - mean_squared_error: 0.1217 - val_loss: 0.0975 - val_mean_squared_error: 0.0975\n",
            "Epoch 30/50\n",
            "81/81 [==============================] - 2s 28ms/step - loss: 0.1215 - mean_squared_error: 0.1215 - val_loss: 0.0979 - val_mean_squared_error: 0.0979\n",
            "Epoch 31/50\n",
            "81/81 [==============================] - 2s 23ms/step - loss: 0.1146 - mean_squared_error: 0.1146 - val_loss: 0.0977 - val_mean_squared_error: 0.0977\n",
            "Epoch 32/50\n",
            "81/81 [==============================] - 1s 18ms/step - loss: 0.1197 - mean_squared_error: 0.1197 - val_loss: 0.0976 - val_mean_squared_error: 0.0976\n",
            "Epoch 33/50\n",
            "81/81 [==============================] - 2s 22ms/step - loss: 0.1172 - mean_squared_error: 0.1172 - val_loss: 0.0996 - val_mean_squared_error: 0.0996\n",
            "Epoch 34/50\n",
            "81/81 [==============================] - 2s 28ms/step - loss: 0.1181 - mean_squared_error: 0.1181 - val_loss: 0.0980 - val_mean_squared_error: 0.0980\n",
            "Epoch 35/50\n",
            "81/81 [==============================] - 2s 24ms/step - loss: 0.1182 - mean_squared_error: 0.1182 - val_loss: 0.0979 - val_mean_squared_error: 0.0979\n",
            "Epoch 36/50\n",
            "81/81 [==============================] - 1s 18ms/step - loss: 0.1209 - mean_squared_error: 0.1209 - val_loss: 0.0976 - val_mean_squared_error: 0.0976\n",
            "Epoch 37/50\n",
            "81/81 [==============================] - 2s 27ms/step - loss: 0.1159 - mean_squared_error: 0.1159 - val_loss: 0.0974 - val_mean_squared_error: 0.0974\n",
            "Epoch 38/50\n",
            "81/81 [==============================] - 2s 26ms/step - loss: 0.1142 - mean_squared_error: 0.1142 - val_loss: 0.0980 - val_mean_squared_error: 0.0980\n",
            "Epoch 39/50\n",
            "81/81 [==============================] - 1s 18ms/step - loss: 0.1147 - mean_squared_error: 0.1147 - val_loss: 0.0978 - val_mean_squared_error: 0.0978\n",
            "Epoch 40/50\n",
            "81/81 [==============================] - 2s 19ms/step - loss: 0.1128 - mean_squared_error: 0.1128 - val_loss: 0.0974 - val_mean_squared_error: 0.0974\n",
            "Epoch 41/50\n",
            "81/81 [==============================] - 1s 17ms/step - loss: 0.1115 - mean_squared_error: 0.1115 - val_loss: 0.1024 - val_mean_squared_error: 0.1024\n",
            "Epoch 42/50\n",
            "81/81 [==============================] - 2s 19ms/step - loss: 0.1126 - mean_squared_error: 0.1126 - val_loss: 0.0977 - val_mean_squared_error: 0.0977\n",
            "Epoch 43/50\n",
            "81/81 [==============================] - 1s 18ms/step - loss: 0.1121 - mean_squared_error: 0.1121 - val_loss: 0.0985 - val_mean_squared_error: 0.0985\n",
            "Epoch 44/50\n",
            "81/81 [==============================] - 2s 19ms/step - loss: 0.1108 - mean_squared_error: 0.1108 - val_loss: 0.0974 - val_mean_squared_error: 0.0974\n",
            "Epoch 45/50\n",
            "81/81 [==============================] - 2s 25ms/step - loss: 0.1098 - mean_squared_error: 0.1098 - val_loss: 0.0977 - val_mean_squared_error: 0.0977\n",
            "Epoch 46/50\n",
            "81/81 [==============================] - 2s 27ms/step - loss: 0.1107 - mean_squared_error: 0.1107 - val_loss: 0.0993 - val_mean_squared_error: 0.0993\n",
            "Epoch 47/50\n",
            "81/81 [==============================] - 1s 18ms/step - loss: 0.1111 - mean_squared_error: 0.1111 - val_loss: 0.0975 - val_mean_squared_error: 0.0975\n",
            "Epoch 48/50\n",
            "81/81 [==============================] - 2s 20ms/step - loss: 0.1101 - mean_squared_error: 0.1101 - val_loss: 0.0982 - val_mean_squared_error: 0.0982\n",
            "Epoch 49/50\n",
            "81/81 [==============================] - 2s 19ms/step - loss: 0.1117 - mean_squared_error: 0.1117 - val_loss: 0.1180 - val_mean_squared_error: 0.1180\n",
            "Epoch 50/50\n",
            "81/81 [==============================] - 1s 17ms/step - loss: 0.1104 - mean_squared_error: 0.1104 - val_loss: 0.0975 - val_mean_squared_error: 0.0975\n",
            "21/21 [==============================] - 0s 4ms/step\n",
            "MSE: 0.09745782365322304\n"
          ]
        }
      ]
    },
    {
      "cell_type": "markdown",
      "source": [
        "Los resultados sugieren que el modelo tiene un rendimiento razonablemente bueno con un error cuadrático medio de 0.09477 en el conjunto de validación en su mejor intento. Sin embargo, hay cierta variación en el rendimiento a lo largo de las épocas, lo que indica que el modelo puede estar sobreajustándose o subajustándose a los datos en diversas épocas."
      ],
      "metadata": {
        "id": "_cB7Vv_yM5r4"
      }
    },
    {
      "cell_type": "markdown",
      "source": [
        "####**Conclusiones de los modelos**\n",
        "\n",
        "El Árbol de Decisión tiene el menor Mean Squared Error (MSE) de 0.05222926045511462 que indica que el modelo de Árbol de Decisión en promedio se equivoca en un cuadrado de 0.052 en la predicción. Es decir, los errores de este modelo tienden a ser menores que los de los otros tres modelos.\n",
        "Además, el Árbol de Decisión tiene el menor Mean Absolute Error (MAE) de 0.15839783973392005. El MAE es el promedio de los errores absolutos del modelo, lo que significa que el modelo de Árbol de Decisión se equivoca en promedio en 0.158 en sus predicciones.\n",
        "El coeficiente de determinación R^2 del modelo de Árbol de Decisión es el más alto (0.46390637657455236) lo cual indica que este modelo puede explicar el 46.39% de la variación en los datos, lo cual es superior a los otros modelos.\n",
        "Por lo tanto, con base en los resultados proporcionados, el modelo de Árbol de Decisión sería el mejor modelo entre los cuatro.\n",
        "\n",
        "A título personal considero que si bien es el mejor modelo, aún está por debajo de ser un modelo aceptable. Quizás el modelo podría mejorarse aplicando ingeniería de características, ya sea aplicando transformaciones logarítmicas, o creando nuevas características, o realizando interacciones entre variables o transformando las variables en categóricas, sin embargo, todas estas transformaciones se deben decidir con un buen conocimiento de negocio pues algunas pueden no tener sentido o no mejorar el rendimiento de los modelos.\n"
      ],
      "metadata": {
        "id": "F60k28-4OLFF"
      }
    },
    {
      "cell_type": "markdown",
      "source": [
        "##**Modelo - Día 2**\n",
        "\n",
        "Para el día 2 se realizará el mismo procedimiento que para el modelo del día 1, solo que se omitaran comentarios y explicaciones. En este punto no se elimina ninguna característica debido a que no existe correlación entre las mismas y se utiliza el Ärbol de decisión como modelo para predecir."
      ],
      "metadata": {
        "id": "pMkwDhO6Z8j4"
      }
    },
    {
      "cell_type": "code",
      "source": [
        "# Seleccione las columnas que desea en su nuevo dataframe\n",
        "selected_columns = ['% Reopen', 'FRT (min)', 'Cierres', '% SLA', 'AHT (min)', 'CSAT ']\n",
        "\n",
        "# Crea el nuevo dataframe\n",
        "new_data = data[selected_columns]\n",
        "\n",
        "# Imprime el nuevo dataframe para verificar que se ha creado correctamente\n",
        "print(new_data.head())\n"
      ],
      "metadata": {
        "colab": {
          "base_uri": "https://localhost:8080/"
        },
        "id": "su-1w4oakmkt",
        "outputId": "02698a17-fa2c-4717-8450-0b6bcd86d74f"
      },
      "execution_count": 29,
      "outputs": [
        {
          "output_type": "stream",
          "name": "stdout",
          "text": [
            "   % Reopen   FRT (min)  Cierres  % SLA  AHT (min)     CSAT \n",
            "0     15.38  588.450000     66.0   62.0   9.181425  2.230769\n",
            "1     20.34  568.300000    100.0   73.0   9.006758  1.500000\n",
            "2     12.90  543.383333     79.0   68.0   6.140217  2.600000\n",
            "3     17.86  514.525000     70.0   82.0  11.819308  1.333333\n",
            "4     21.74  371.550000     52.0   78.0  11.925717  2.571429\n"
          ]
        }
      ]
    },
    {
      "cell_type": "code",
      "source": [
        "# Obtener información de los datos.\n",
        "new_data.info()\n"
      ],
      "metadata": {
        "colab": {
          "base_uri": "https://localhost:8080/"
        },
        "id": "7hA2O1YfohVE",
        "outputId": "5c8e1c7e-e42a-4124-d0da-51c64d4bee55"
      },
      "execution_count": 30,
      "outputs": [
        {
          "output_type": "stream",
          "name": "stdout",
          "text": [
            "<class 'pandas.core.frame.DataFrame'>\n",
            "RangeIndex: 4322 entries, 0 to 4321\n",
            "Data columns (total 6 columns):\n",
            " #   Column     Non-Null Count  Dtype  \n",
            "---  ------     --------------  -----  \n",
            " 0   % Reopen   4243 non-null   float64\n",
            " 1   FRT (min)  4315 non-null   float64\n",
            " 2   Cierres    4319 non-null   float64\n",
            " 3   % SLA      4319 non-null   float64\n",
            " 4   AHT (min)  4312 non-null   float64\n",
            " 5   CSAT       4255 non-null   float64\n",
            "dtypes: float64(6)\n",
            "memory usage: 202.7 KB\n"
          ]
        }
      ]
    },
    {
      "cell_type": "code",
      "source": [
        "# Elimina filas con valores NaN\n",
        "new_data = new_data.dropna()\n",
        "\n",
        "# Obtener información de los datos.\n",
        "new_data.info()\n"
      ],
      "metadata": {
        "colab": {
          "base_uri": "https://localhost:8080/"
        },
        "id": "IwdrTjtFohdl",
        "outputId": "a0ee76d2-f30d-4cb3-89b1-7e2dd5f6d6af"
      },
      "execution_count": 31,
      "outputs": [
        {
          "output_type": "stream",
          "name": "stdout",
          "text": [
            "<class 'pandas.core.frame.DataFrame'>\n",
            "Int64Index: 4180 entries, 0 to 4321\n",
            "Data columns (total 6 columns):\n",
            " #   Column     Non-Null Count  Dtype  \n",
            "---  ------     --------------  -----  \n",
            " 0   % Reopen   4180 non-null   float64\n",
            " 1   FRT (min)  4180 non-null   float64\n",
            " 2   Cierres    4180 non-null   float64\n",
            " 3   % SLA      4180 non-null   float64\n",
            " 4   AHT (min)  4180 non-null   float64\n",
            " 5   CSAT       4180 non-null   float64\n",
            "dtypes: float64(6)\n",
            "memory usage: 228.6 KB\n"
          ]
        }
      ]
    },
    {
      "cell_type": "code",
      "source": [
        "# Crear un diccionario vacío para almacenar el conteo de outliers por columna\n",
        "outliers_dict = {}\n",
        "\n",
        "# Iterar a través de cada columna del dataframe\n",
        "for col in new_data.columns:\n",
        "\n",
        "    # Calcular Q1, Q3 y el IQR\n",
        "    Q1 = new_data[col].quantile(0.25)\n",
        "    Q3 = new_data[col].quantile(0.75)\n",
        "    IQR = Q3 - Q1\n",
        "\n",
        "    # Definir los límites para los valores atípicos\n",
        "    lower_bound = Q1 - 1.5 * IQR\n",
        "    upper_bound = Q3 + 1.5 * IQR\n",
        "\n",
        "    # Identificar los valores atípicos\n",
        "    outliers = new_data[(new_data[col] < lower_bound) | (new_data[col] > upper_bound)]\n",
        "\n",
        "    # Agregar la cuenta de outliers al diccionario\n",
        "    outliers_dict[col] = len(outliers)\n",
        "\n",
        "# Imprimir el conteo de outliers por cada columna\n",
        "print(outliers_dict)\n"
      ],
      "metadata": {
        "colab": {
          "base_uri": "https://localhost:8080/"
        },
        "id": "NigbJcFkohlG",
        "outputId": "07568de3-36a3-447e-f211-8ccfe37503b5"
      },
      "execution_count": 32,
      "outputs": [
        {
          "output_type": "stream",
          "name": "stdout",
          "text": [
            "{'% Reopen': 8, 'FRT (min)': 464, 'Cierres': 0, '% SLA': 38, 'AHT (min)': 133, 'CSAT ': 415}\n"
          ]
        }
      ]
    },
    {
      "cell_type": "code",
      "source": [
        "reduced_data = new_data"
      ],
      "metadata": {
        "id": "p3kkgjlzohsP"
      },
      "execution_count": 33,
      "outputs": []
    },
    {
      "cell_type": "code",
      "source": [
        "# Función para identificar outliers usando IQR\n",
        "def identify_outliers(df, column):\n",
        "    Q1 = df[column].quantile(0.25)\n",
        "    Q3 = df[column].quantile(0.75)\n",
        "    IQR = Q3 - Q1\n",
        "    lower_bound = Q1 - 1.5 * IQR\n",
        "    upper_bound = Q3 + 1.5 * IQR\n",
        "    return (df[column] < lower_bound) | (df[column] > upper_bound)\n",
        "\n",
        "# Iniciar una serie de pandas con valores False\n",
        "outliers = pd.Series(data=False, index=reduced_data.index)\n",
        "\n",
        "# Identificar outliers en cada columna y actualizar la serie de pandas\n",
        "for column in selected_columns:\n",
        "    outliers = outliers | identify_outliers(reduced_data, column)\n",
        "\n",
        "# Eliminar los registros con outliers\n",
        "reduced_data = reduced_data[~outliers]\n",
        "\n",
        "reduced_data.info()\n"
      ],
      "metadata": {
        "colab": {
          "base_uri": "https://localhost:8080/"
        },
        "id": "a_H4kXoxohwx",
        "outputId": "176c78a1-8fe3-4c62-faf6-f122d3c130a2"
      },
      "execution_count": 34,
      "outputs": [
        {
          "output_type": "stream",
          "name": "stdout",
          "text": [
            "<class 'pandas.core.frame.DataFrame'>\n",
            "Int64Index: 3319 entries, 12 to 4321\n",
            "Data columns (total 6 columns):\n",
            " #   Column     Non-Null Count  Dtype  \n",
            "---  ------     --------------  -----  \n",
            " 0   % Reopen   3319 non-null   float64\n",
            " 1   FRT (min)  3319 non-null   float64\n",
            " 2   Cierres    3319 non-null   float64\n",
            " 3   % SLA      3319 non-null   float64\n",
            " 4   AHT (min)  3319 non-null   float64\n",
            " 5   CSAT       3319 non-null   float64\n",
            "dtypes: float64(6)\n",
            "memory usage: 181.5 KB\n"
          ]
        }
      ]
    },
    {
      "cell_type": "code",
      "source": [
        "# Lista de columnas de características\n",
        "feature_columns = ['% Reopen', 'FRT (min)', 'Cierres', '% SLA', 'AHT (min)']\n",
        "\n",
        "# Dividir los datos en conjuntos de entrenamiento y prueba\n",
        "X = reduced_data[feature_columns]\n",
        "y = reduced_data['CSAT ']\n",
        "\n",
        "X_train, X_test, y_train, y_test = train_test_split(X, y, test_size=0.2, random_state=42)\n",
        "\n",
        "# Crear el modelo\n",
        "model = DecisionTreeRegressor(random_state=42)\n",
        "\n",
        "# Definir la grilla de parámetros para buscar\n",
        "parameters = {'max_depth': range(1, 11), 'min_samples_split': range(2, 11)}\n",
        "\n",
        "# Configurar la búsqueda de la grilla\n",
        "grid_search = GridSearchCV(model, parameters, scoring='neg_mean_squared_error', cv=5)\n",
        "\n",
        "# Realizar la búsqueda de la grilla\n",
        "grid_search.fit(X_train, y_train)\n",
        "\n",
        "# Imprimir los mejores parámetros\n",
        "print(f'Best parameters: {grid_search.best_params_}')\n",
        "\n",
        "# Crear y entrenar el modelo con los mejores parámetros\n",
        "best_model = DecisionTreeRegressor(max_depth=grid_search.best_params_['max_depth'],\n",
        "                                   min_samples_split=grid_search.best_params_['min_samples_split'],\n",
        "                                   random_state=42)\n",
        "best_model.fit(X_train, y_train)\n",
        "\n",
        "# Realizar predicciones\n",
        "y_pred = best_model.predict(X_test)\n",
        "\n",
        "# Calcular y mostrar las métricas de error\n",
        "mse = mean_squared_error(y_test, y_pred)\n",
        "mae = mean_absolute_error(y_test, y_pred)\n",
        "r2 = r2_score(y_test, y_pred)\n",
        "\n",
        "print(f'MSE: {mse}')\n",
        "print(f'MAE: {mae}')\n",
        "print(f'R^2: {r2}')"
      ],
      "metadata": {
        "colab": {
          "base_uri": "https://localhost:8080/"
        },
        "id": "uF6O_et6o9cO",
        "outputId": "64c3e75f-4830-4447-e4b6-a443b937a371"
      },
      "execution_count": 36,
      "outputs": [
        {
          "output_type": "stream",
          "name": "stdout",
          "text": [
            "Best parameters: {'max_depth': 10, 'min_samples_split': 6}\n",
            "MSE: 0.05272668926034171\n",
            "MAE: 0.16048779517941356\n",
            "R^2: 0.5149355231853043\n"
          ]
        }
      ]
    },
    {
      "cell_type": "markdown",
      "source": [
        "Se tiene un MSE de 0.05272668926034171 y un MAE de 0.16048779517941356, además el coeficiente de determinación es 0.5149355231853043 lo que significa que el modelo explica aproximadamente el 51.49% de la variabilidad en los datos. Este valor es razonable, pero indica que todavía hay margen de mejora en el modelo. Sin embargo, explica un poco más que el modelo para el día 1."
      ],
      "metadata": {
        "id": "Wv_06mhhadst"
      }
    },
    {
      "cell_type": "code",
      "source": [
        "# Los valores para predecir\n",
        "test_values = [[12, 0.3, 5012, 95, 6]]\n",
        "\n",
        "# Realizar la predicción con los valores de prueba\n",
        "prediction = best_model.predict(test_values)\n",
        "\n",
        "print(f'La predicción del modelo para los valores de entrada es: {prediction[0]}')"
      ],
      "metadata": {
        "colab": {
          "base_uri": "https://localhost:8080/"
        },
        "id": "sdikfjzLq8DU",
        "outputId": "5c14400f-9ef9-4bc6-8ec5-fb9d4e0895ed"
      },
      "execution_count": 39,
      "outputs": [
        {
          "output_type": "stream",
          "name": "stdout",
          "text": [
            "1/1 [==============================] - 0s 41ms/step\n",
            "La predicción del modelo para los valores de entrada es: [2.5470262]\n"
          ]
        }
      ]
    },
    {
      "cell_type": "code",
      "source": [
        "# Definir los rangos de cada variable de entrada\n",
        "ranges = {\n",
        "    '% Reopen': (0, 62),\n",
        "    'FRT (min)': (0, 660),\n",
        "    '% SLA': (36, 100),\n",
        "    'Cierres': (0, 6000),\n",
        "    'AHT (min)': (0, 550)\n",
        "}\n",
        "\n",
        "# Generar 1,000,000 de muestras aleatorias dentro de los rangos definidos\n",
        "samples = pd.DataFrame({k: np.random.uniform(low=low, high=high, size=1000000) for k, (low, high) in ranges.items()})\n",
        "\n",
        "# Hacer la predicción para cada muestra\n",
        "predictions = best_model.predict(samples)\n",
        "\n",
        "# Encontrar la muestra que da la predicción más alta\n",
        "best_index = np.argmax(predictions)\n",
        "best_sample = samples.iloc[best_index]\n",
        "best_CSAT = predictions[best_index]\n",
        "\n",
        "print(f'Los valores de las variables que maximizan CSAT son:\\n{best_sample}')\n",
        "print(f'El valor máximo de CSAT es: {best_CSAT}')\n"
      ],
      "metadata": {
        "colab": {
          "base_uri": "https://localhost:8080/"
        },
        "id": "yo7KXTEtrOln",
        "outputId": "f89a5516-f3b7-402f-d73b-2cd00a1af1d1"
      },
      "execution_count": 40,
      "outputs": [
        {
          "output_type": "stream",
          "name": "stdout",
          "text": [
            "31250/31250 [==============================] - 118s 4ms/step\n",
            "Los valores de las variables que maximizan CSAT son:\n",
            "% Reopen       34.650984\n",
            "FRT (min)     646.245764\n",
            "% SLA          39.891340\n",
            "Cierres      5361.755629\n",
            "AHT (min)     118.764392\n",
            "Name: 0, dtype: float64\n",
            "El valor máximo de CSAT es: [2.5470266]\n"
          ]
        }
      ]
    },
    {
      "cell_type": "markdown",
      "source": [
        "##**Modelo - Día 3**\n",
        "\n",
        "Para el día 3 se realizará el mismo procedimiento que para el modelo del día 1, solo que se omitaran comentarios y explicaciones. En este punto no se elimina ninguna característica debido a que no existe correlación entre las mismas y se utiliza el Ärbol de decisión como modelo para predecir."
      ],
      "metadata": {
        "id": "e9H0dKKgsdmx"
      }
    },
    {
      "cell_type": "code",
      "source": [
        "# Seleccione las columnas que desea en su nuevo dataframe\n",
        "selected_columns = ['Inflow', 'FRT (min)', 'AHT (min)', 'CSAT ', '% SLA']\n",
        "\n",
        "# Crea el nuevo dataframe\n",
        "new_data = data[selected_columns]\n",
        "\n",
        "# Imprime el nuevo dataframe para verificar que se ha creado correctamente\n",
        "print(new_data.head())"
      ],
      "metadata": {
        "colab": {
          "base_uri": "https://localhost:8080/"
        },
        "id": "om7GMV6jscC_",
        "outputId": "09af5925-9fdc-4ea0-d4bf-db652e199ec3"
      },
      "execution_count": 41,
      "outputs": [
        {
          "output_type": "stream",
          "name": "stdout",
          "text": [
            "   Inflow   FRT (min)  AHT (min)     CSAT   % SLA\n",
            "0    91.0  588.450000   9.181425  2.230769   62.0\n",
            "1    59.0  568.300000   9.006758  1.500000   73.0\n",
            "2    31.0  543.383333   6.140217  2.600000   68.0\n",
            "3    28.0  514.525000  11.819308  1.333333   82.0\n",
            "4    23.0  371.550000  11.925717  2.571429   78.0\n"
          ]
        }
      ]
    },
    {
      "cell_type": "code",
      "source": [
        "# Obtener información de los datos.\n",
        "new_data.info()"
      ],
      "metadata": {
        "colab": {
          "base_uri": "https://localhost:8080/"
        },
        "id": "tb9ZuHxytbsf",
        "outputId": "36833f44-d62c-4a66-8f56-48479149b229"
      },
      "execution_count": 42,
      "outputs": [
        {
          "output_type": "stream",
          "name": "stdout",
          "text": [
            "<class 'pandas.core.frame.DataFrame'>\n",
            "RangeIndex: 4322 entries, 0 to 4321\n",
            "Data columns (total 5 columns):\n",
            " #   Column     Non-Null Count  Dtype  \n",
            "---  ------     --------------  -----  \n",
            " 0   Inflow     4319 non-null   float64\n",
            " 1   FRT (min)  4315 non-null   float64\n",
            " 2   AHT (min)  4312 non-null   float64\n",
            " 3   CSAT       4255 non-null   float64\n",
            " 4   % SLA      4319 non-null   float64\n",
            "dtypes: float64(5)\n",
            "memory usage: 169.0 KB\n"
          ]
        }
      ]
    },
    {
      "cell_type": "code",
      "source": [
        "# Elimina filas con valores NaN\n",
        "new_data = new_data.dropna()\n",
        "\n",
        "# Obtener información de los datos.\n",
        "new_data.info()"
      ],
      "metadata": {
        "colab": {
          "base_uri": "https://localhost:8080/"
        },
        "id": "sJxyHjUrtb2P",
        "outputId": "2b4b056c-d7ce-43df-a8e5-9d9ebd03b6e4"
      },
      "execution_count": 43,
      "outputs": [
        {
          "output_type": "stream",
          "name": "stdout",
          "text": [
            "<class 'pandas.core.frame.DataFrame'>\n",
            "Int64Index: 4246 entries, 0 to 4321\n",
            "Data columns (total 5 columns):\n",
            " #   Column     Non-Null Count  Dtype  \n",
            "---  ------     --------------  -----  \n",
            " 0   Inflow     4246 non-null   float64\n",
            " 1   FRT (min)  4246 non-null   float64\n",
            " 2   AHT (min)  4246 non-null   float64\n",
            " 3   CSAT       4246 non-null   float64\n",
            " 4   % SLA      4246 non-null   float64\n",
            "dtypes: float64(5)\n",
            "memory usage: 199.0 KB\n"
          ]
        }
      ]
    },
    {
      "cell_type": "code",
      "source": [
        "# Crear un diccionario vacío para almacenar el conteo de outliers por columna\n",
        "outliers_dict = {}\n",
        "\n",
        "# Iterar a través de cada columna del dataframe\n",
        "for col in new_data.columns:\n",
        "\n",
        "    # Calcular Q1, Q3 y el IQR\n",
        "    Q1 = new_data[col].quantile(0.25)\n",
        "    Q3 = new_data[col].quantile(0.75)\n",
        "    IQR = Q3 - Q1\n",
        "\n",
        "    # Definir los límites para los valores atípicos\n",
        "    lower_bound = Q1 - 1.5 * IQR\n",
        "    upper_bound = Q3 + 1.5 * IQR\n",
        "\n",
        "    # Identificar los valores atípicos\n",
        "    outliers = new_data[(new_data[col] < lower_bound) | (new_data[col] > upper_bound)]\n",
        "\n",
        "    # Agregar la cuenta de outliers al diccionario\n",
        "    outliers_dict[col] = len(outliers)\n",
        "\n",
        "# Imprimir el conteo de outliers por cada columna\n",
        "print(outliers_dict)\n"
      ],
      "metadata": {
        "colab": {
          "base_uri": "https://localhost:8080/"
        },
        "id": "OVznD_T8tb9p",
        "outputId": "8db50b26-94f2-483d-e9f0-5c65b6976382"
      },
      "execution_count": 44,
      "outputs": [
        {
          "output_type": "stream",
          "name": "stdout",
          "text": [
            "{'Inflow': 3, 'FRT (min)': 465, 'AHT (min)': 149, 'CSAT ': 460, '% SLA': 47}\n"
          ]
        }
      ]
    },
    {
      "cell_type": "code",
      "source": [
        "reduced_data = new_data"
      ],
      "metadata": {
        "id": "MbmW8r2CtcA0"
      },
      "execution_count": 46,
      "outputs": []
    },
    {
      "cell_type": "code",
      "source": [
        "# Función para identificar outliers usando IQR\n",
        "def identify_outliers(df, column):\n",
        "    Q1 = df[column].quantile(0.25)\n",
        "    Q3 = df[column].quantile(0.75)\n",
        "    IQR = Q3 - Q1\n",
        "    lower_bound = Q1 - 1.5 * IQR\n",
        "    upper_bound = Q3 + 1.5 * IQR\n",
        "    return (df[column] < lower_bound) | (df[column] > upper_bound)\n",
        "\n",
        "# Iniciar una serie de pandas con valores False\n",
        "outliers = pd.Series(data=False, index=reduced_data.index)\n",
        "\n",
        "# Identificar outliers en cada columna y actualizar la serie de pandas\n",
        "for column in selected_columns:\n",
        "    outliers = outliers | identify_outliers(reduced_data, column)\n",
        "\n",
        "# Eliminar los registros con outliers\n",
        "reduced_data = reduced_data[~outliers]\n",
        "\n",
        "reduced_data.info()"
      ],
      "metadata": {
        "colab": {
          "base_uri": "https://localhost:8080/"
        },
        "id": "_DrceKuatcEp",
        "outputId": "6606c4cd-632d-4fd1-dbd3-e0aa4e7e63a5"
      },
      "execution_count": 47,
      "outputs": [
        {
          "output_type": "stream",
          "name": "stdout",
          "text": [
            "<class 'pandas.core.frame.DataFrame'>\n",
            "Int64Index: 3341 entries, 12 to 4321\n",
            "Data columns (total 5 columns):\n",
            " #   Column     Non-Null Count  Dtype  \n",
            "---  ------     --------------  -----  \n",
            " 0   Inflow     3341 non-null   float64\n",
            " 1   FRT (min)  3341 non-null   float64\n",
            " 2   AHT (min)  3341 non-null   float64\n",
            " 3   CSAT       3341 non-null   float64\n",
            " 4   % SLA      3341 non-null   float64\n",
            "dtypes: float64(5)\n",
            "memory usage: 156.6 KB\n"
          ]
        }
      ]
    },
    {
      "cell_type": "code",
      "source": [
        "# Lista de columnas de características\n",
        "feature_columns = ['Inflow', 'FRT (min)', 'AHT (min)', 'CSAT ']\n",
        "\n",
        "# Dividir los datos en conjuntos de entrenamiento y prueba\n",
        "X = reduced_data[feature_columns]\n",
        "y = reduced_data['% SLA']\n",
        "\n",
        "X_train, X_test, y_train, y_test = train_test_split(X, y, test_size=0.2, random_state=42)\n",
        "\n",
        "# Crear el modelo\n",
        "model = DecisionTreeRegressor(random_state=42)\n",
        "\n",
        "# Definir la grilla de parámetros para buscar\n",
        "parameters = {'max_depth': range(1, 11), 'min_samples_split': range(2, 11)}\n",
        "\n",
        "# Configurar la búsqueda de la grilla\n",
        "grid_search = GridSearchCV(model, parameters, scoring='neg_mean_squared_error', cv=5)\n",
        "\n",
        "# Realizar la búsqueda de la grilla\n",
        "grid_search.fit(X_train, y_train)\n",
        "\n",
        "# Imprimir los mejores parámetros\n",
        "print(f'Best parameters: {grid_search.best_params_}')\n",
        "\n",
        "# Crear y entrenar el modelo con los mejores parámetros\n",
        "best_model = DecisionTreeRegressor(max_depth=grid_search.best_params_['max_depth'],\n",
        "                                   min_samples_split=grid_search.best_params_['min_samples_split'],\n",
        "                                   random_state=42)\n",
        "best_model.fit(X_train, y_train)\n",
        "\n",
        "# Realizar predicciones\n",
        "y_pred = best_model.predict(X_test)\n",
        "\n",
        "# Calcular y mostrar las métricas de error\n",
        "mse = mean_squared_error(y_test, y_pred)\n",
        "mae = mean_absolute_error(y_test, y_pred)\n",
        "r2 = r2_score(y_test, y_pred)\n",
        "\n",
        "print(f'MSE: {mse}')\n",
        "print(f'MAE: {mae}')\n",
        "print(f'R^2: {r2}')"
      ],
      "metadata": {
        "colab": {
          "base_uri": "https://localhost:8080/"
        },
        "id": "3ZTpznbftcH9",
        "outputId": "a690a449-0c86-4141-a6b6-4cfc7ed16cdd"
      },
      "execution_count": 48,
      "outputs": [
        {
          "output_type": "stream",
          "name": "stdout",
          "text": [
            "Best parameters: {'max_depth': 10, 'min_samples_split': 3}\n",
            "MSE: 6.595386279645318\n",
            "MAE: 1.7223604968320472\n",
            "R^2: 0.8167659169648003\n"
          ]
        }
      ]
    },
    {
      "cell_type": "markdown",
      "source": [
        "Se tiene un MSE y MAE de 6.9554 y 1.7223 respectivamente, son errores muy grandes pues están muy lejanos del cero, sin embargo, puede deberse a la naturaleza de los datos. El coeficiente de determinación es de 81,7%, es decir, el modelo puede explicar el 81.7% de la variabilidad en los datos de prueba, lo que sugiere que el modelo tiene un buen ajuste a los datos."
      ],
      "metadata": {
        "id": "lp-e9jiidBB7"
      }
    },
    {
      "cell_type": "code",
      "source": [
        "# Los valores para predecir\n",
        "test_values = [[8000, 2, 9, 2.67]]\n",
        "\n",
        "# Realizar la predicción con los valores de prueba\n",
        "prediction = best_model.predict(test_values)\n",
        "\n",
        "print(f'La predicción del modelo para los valores de entrada es: {prediction[0]}')"
      ],
      "metadata": {
        "colab": {
          "base_uri": "https://localhost:8080/"
        },
        "id": "4zD9aMrGtcKv",
        "outputId": "883ad797-0747-47f8-d1a9-b355a295e6ca"
      },
      "execution_count": 49,
      "outputs": [
        {
          "output_type": "stream",
          "name": "stdout",
          "text": [
            "La predicción del modelo para los valores de entrada es: 95.27272727272727\n"
          ]
        }
      ]
    },
    {
      "cell_type": "markdown",
      "source": [
        "##**Ejercicio 2**\n",
        "\n",
        "No todas las variables aportan el mismo nivel de importancia por eso no todas las variables hacen parte del análisis que se realizó, se escogieron algunas de las variables ya que por correlación, al escoger algunas, se intuye el comportamiento de las otras, además algunas pueden ser más relaventes para el análisis. En este caso, para el modelo de clusterización se busca encontrar los intervalos o subconjuntos de intervalos en los que CSAT, PD, SLA, Cierres tienen valores más altos y en los que % Reopen, RT (min), AHT (min) son más bajos. Esto es porque buscamos obtener intervalos donde la medición del cliente respecto a su experiencia es más alta, la cantidad de casos que se cerraron también es más alta, la medición del nivel de es también elevado y la cantidad de interacciones o casos que se cerraron es alta, pos su parte, se busca que la proporción de interacciones reabiertas sea baja, el tiempo de resolución sea bajo y el tiempo medio operativo sea bajo.\n",
        "Para ello se evaluaron dos enfoques, uno con k-means utilizando el elbow method para encontrar el número óptimo de clusters y otro con k-shape pero con inercías y con el método de la silueta para encontrar el número óptimo de clusters\n"
      ],
      "metadata": {
        "id": "4BQtFzN6ddlP"
      }
    },
    {
      "cell_type": "markdown",
      "source": [
        "###**K-means**\n",
        "\n",
        "Es uno de los algoritmos de agrupamiento más utilizados. Funciona bien con datos de alta dimensión y es eficiente desde el punto de vista computacional. Sin embargo, asume que los clusters son convexos y esféricos, lo que no siempre es el caso en los datos del mundo real. k-means utiliza la distancia euclidiana para calcular la distancia entre los puntos, lo que lo hace sensible a la magnitud de los datos.\n",
        "\n",
        "K-means agrupa los datos en K grupos diferentes, donde K es un número especificado por uno como analista. Primero, el algoritmo selecciona K puntos de datos al azar para ser los \"centroides\" iniciales. Luego, cada punto de datos es asignado al centroide más cercano, formando así K grupos. El algoritmo entonces recalcula los centroides basándose en los puntos de datos que han sido asignados a cada grupo, y este proceso se repite hasta que los centroides no cambien significativamente.\n",
        "\n",
        "La idea es ver la media de cada variable en cada cluster. Esto permitirá identificar qué clusters tienen los valores más altos y más bajos para cada variable. Paraa encontrar el mejor número de clusters se puede usar la prueba y error o utilizar otros métodos. En este caso usaremos el método del codo o Elbow Method.\n",
        "\n",
        "Este método implica ejecutar el algoritmo de k-means para un rango de valores de k y luego graficar el Error Cuadrático Medio (ECM o WCSS en inglés) para cada valor de k. WCSS es una medida de cuánto varían los puntos de datos en relación con el centroide de su cluster. Cuando se grafica WCSS para diferentes valores de k, la línea que queda tiene la forma de un brazo y un codo. El \"codo\" es un buen indicador del número óptimo de clusters."
      ],
      "metadata": {
        "id": "dtDhJeyroVIr"
      }
    },
    {
      "cell_type": "code",
      "source": [
        "# Elimina filas con valores NaN\n",
        "data = data.dropna()\n",
        "\n",
        "data['Fecha_Intervalo'] = pd.to_datetime(data['Fecha'].dt.strftime('%Y-%m-%d') + ' ' + data['Intervalo'].astype(str))\n",
        "\n",
        "# Ordenamos el DataFrame por esta nueva columna\n",
        "data.sort_index(inplace=True)\n",
        "\n",
        "# ['% Reopen', 'FRT (min)', 'AHT (min)', 'RT (min)', '% SLA', 'Conexión Intervalo (hrs)', 'PD', 'CSAT ']\n",
        "# Creamos un subconjunto de nuestro DataFrame con las columnas de interés\n",
        "variables = ['CSAT ', 'PD', '% SLA', 'Cierres', '% Reopen', 'RT (min)', 'AHT (min)']\n",
        "data = data[variables]\n",
        "\n",
        "# Escalamos nuestros datos para que tengan media 0 y varianza 1\n",
        "scaler = StandardScaler()\n",
        "data_scaled = scaler.fit_transform(data)\n",
        "\n",
        "# Usamos el método del codo para encontrar el número óptimo de clusters\n",
        "wcss = []\n",
        "for i in range(1, 11):\n",
        "    kmeans = KMeans(n_clusters=i, init='k-means++', max_iter=300, n_init=10, random_state=0)\n",
        "    kmeans.fit(data_scaled)\n",
        "    wcss.append(kmeans.inertia_)\n",
        "\n",
        "plt.plot(range(1, 11), wcss)\n",
        "plt.title('El método del codo')\n",
        "plt.xlabel('Número de clusters')\n",
        "plt.ylabel('WCSS')\n",
        "plt.show()\n",
        "\n",
        "# Crear DataFrame a partir de los valores WCSS\n",
        "elbow_df = pd.DataFrame({'Number of Clusters': range(1, 11), 'WCSS': wcss})\n",
        "\n",
        "# Imprimir DataFrame\n",
        "print(elbow_df)"
      ],
      "metadata": {
        "colab": {
          "base_uri": "https://localhost:8080/",
          "height": 663
        },
        "id": "mHsRQGkK0c6z",
        "outputId": "f2be2377-f5ce-4e08-bdd1-bc1870b5427b"
      },
      "execution_count": 29,
      "outputs": [
        {
          "output_type": "display_data",
          "data": {
            "text/plain": [
              "<Figure size 640x480 with 1 Axes>"
            ],
            "image/png": "[encoded data removed]"
          },
          "metadata": {}
        },
        {
          "output_type": "stream",
          "name": "stdout",
          "text": [
            "   Number of Clusters          WCSS\n",
            "0                   1  25144.000000\n",
            "1                   2  20599.731434\n",
            "2                   3  17520.058501\n",
            "3                   4  15015.785003\n",
            "4                   5  13389.107601\n",
            "5                   6  11775.919493\n",
            "6                   7  10656.950417\n",
            "7                   8  10023.269743\n",
            "8                   9   9414.081416\n",
            "9                  10   8937.020370\n"
          ]
        }
      ]
    },
    {
      "cell_type": "markdown",
      "source": [
        "Al analizar estos valores, se busca el punto donde la disminución de WCSS se vuelve menos pronunciada, es decir, donde se forma un \"codo\".\n",
        "\n",
        "Mirando los datos no hay un punto obvio donde la disminución se vuelva sustancialmente más pequeña. Sin embargo, parece que la disminución entre 7 y 8 clusters (de 10656.950417 a 10023.269743) es menos pronunciada que los pasos anteriores, y después de 8 clusters, la disminución sigue siendo bastante constante (aunque sigue siendo bastante significativa). Por lo tanto, escogeré 7 clusters para trabajar."
      ],
      "metadata": {
        "id": "D4kOdqauwR9S"
      }
    },
    {
      "cell_type": "code",
      "source": [
        "num_clusters = 7\n",
        "\n",
        "# Creamos y ajustamos nuestro modelo K-means\n",
        "kmeans = KMeans(n_clusters=num_clusters, random_state=42)\n",
        "kmeans.fit(data_scaled)\n",
        "\n",
        "# Añadimos las etiquetas de los clusters a nuestro DataFrame original\n",
        "data['Cluster'] = kmeans.labels_\n",
        "\n",
        "# Agrupamos por cluster y calculamos la media de cada variable\n",
        "cluster_summary = data.groupby('Cluster')[variables].mean()\n",
        "\n",
        "print(cluster_summary)"
      ],
      "metadata": {
        "colab": {
          "base_uri": "https://localhost:8080/"
        },
        "id": "w_7rPHOA5RbK",
        "outputId": "c51c40c2-5e45-4e0a-d9c9-323ca694499d"
      },
      "execution_count": 31,
      "outputs": [
        {
          "output_type": "stream",
          "name": "stdout",
          "text": [
            "            CSAT          PD      % SLA     Cierres   % Reopen    RT (min)  \\\n",
            "Cluster                                                                      \n",
            "0        2.483602   8.570814  87.800937  275.826698   0.250771   50.135751   \n",
            "1        2.338690   9.469079  82.679042  274.536527  20.257592   91.854794   \n",
            "2        2.309569  10.026144  87.386861  132.624088  12.003602  459.930410   \n",
            "3        2.578541   7.998970  91.969792  267.203125  22.650896   22.364070   \n",
            "4        3.909083   6.507170  91.806931   58.797030  15.383576   72.008630   \n",
            "5        3.000000   9.565117  96.000000   43.000000  59.935000  293.446296   \n",
            "6        2.430165   4.339961  93.227957   48.550538  16.502395   31.520981   \n",
            "\n",
            "          AHT (min)  \n",
            "Cluster              \n",
            "0         11.040329  \n",
            "1         11.072020  \n",
            "2         10.114928  \n",
            "3         10.958511  \n",
            "4          9.450855  \n",
            "5        156.093758  \n",
            "6          9.709332  \n"
          ]
        }
      ]
    },
    {
      "cell_type": "markdown",
      "source": [
        "Ahora, podemos inferir algunas características generales de cada cluster:\n",
        "\n",
        "Cluster 0\n",
        "Este grupo tiene una calificación de satisfacción del cliente (CSAT) relativamente baja (2.48) y un porcentaje de resolución dentro del SLA moderado (87.8%). Tiene un alto número de cierres (275.83), un bajo porcentaje de reapertura (0.25%) y un tiempo de resolución (RT) y manejo (AHT) de las interacciones relativamente bajo. Esto puede indicar un equipo que maneja un alto volumen de interacciones con eficiencia, pero posiblemente a costa de la satisfacción del cliente.\n",
        "\n",
        "Cluster 1\n",
        "Este grupo presenta la calificación de satisfacción del cliente más baja (2.33) y el porcentaje de resolución dentro del SLA es el más bajo (82.67%). Tiene un alto número de cierres (274.53), pero un elevado porcentaje de reapertura (20.25%). El tiempo de resolución es moderado. Este grupo podría representar un escenario donde el servicio se resuelve rápidamente, pero a menudo de manera insatisfactoria, lo que lleva a reaperturas.\n",
        "\n",
        "Cluster 2\n",
        "Este grupo tiene una calificación de satisfacción del cliente baja (2.31) pero un porcentaje de resolución dentro del SLA alto (87.38%). Tiene un número moderado de cierres (132.62) y un porcentaje de reapertura también moderado (12.00%). El tiempo de resolución es el más alto de todos los clusters, lo cual indica que los problemas tardan más tiempo en resolverse en este cluster.\n",
        "\n",
        "Cluster 3\n",
        "Este grupo presenta una calificación de satisfacción del cliente moderada (2.58), el porcentaje de resolución dentro del SLA más alto (91.96%) y el porcentaje de reapertura más alto (22.65%). También tiene un alto número de cierres (267.20) y el tiempo de resolución más corto. Este cluster podría representar un equipo eficiente en términos de resolución dentro del SLA y de resolución rápida, pero que tiene un alto porcentaje de reapertura, lo que indica problemas de calidad en la resolución de los casos.\n",
        "\n",
        "Cluster 4\n",
        "Este grupo tiene la calificación de satisfacción del cliente más alta (3.91) y un porcentaje de resolución dentro del SLA alto (91.80%). Tiene el número más bajo de cierres (58.79), un porcentaje de reapertura moderado (15.38%) y un tiempo de resolución y manejo moderado. Este podría ser el grupo de \"alto rendimiento\" en términos de satisfacción del cliente, pero maneja un volumen de casos más bajo que otros grupos.\n",
        "\n",
        "Cluster 5\n",
        "Este grupo tiene una calificación de satisfacción del cliente alta (3.00), el porcentaje de resolución dentro del SLA más alto (96.00%), pero también el porcentaje de reapertura más alto (59.93%). Tiene el número más bajo de cierres (43.00) y el tiempo de resolución y manejo más largo. Este grupo podría representar un escenario en el que se da un alto nivel de servicio (según el CSAT y el SLA), pero a un ritmo muy lento y con un alto porcentaje de reaperturas.\n",
        "\n",
        "Cluster 6\n",
        "Este grupo tiene una calificación de satisfacción del cliente baja (2.43), el porcentaje de resolución dentro del SLA es alto (93.23%), el porcentaje de reapertura es moderado (16.50%), y el tiempo de resolución y manejo es relativamente bajo. Este grupo podría representar un equipo que logra una alta eficiencia en términos de SLA y tiempos de resolución y manejo, pero con un bajo nivel de satisfacción del cliente."
      ],
      "metadata": {
        "id": "GTMz5enHwhlX"
      }
    },
    {
      "cell_type": "markdown",
      "source": [
        "###**K-shape**\n",
        "\n",
        "K-shape es un algoritmo de agrupamiento basado en series de tiempo que utiliza una medida de distancia basada en forma para comparar series de tiempo. A diferencia de otras técnicas de agrupamiento de series de tiempo, k-Shape no se ve afectado por la escala o el tamaño de las series de tiempo.\n",
        "\n",
        "Este algoritmo es una variante de k-means diseñada específicamente para series de tiempo. Las series de tiempo pueden tener formas similares pero diferentes magnitudes, y k-Shape tiene en cuenta esto utilizando una medida de distancia basada en forma, que es invariante a la escala. Esto significa que puede agrupar series de tiempo que tienen formas similares pero diferentes magnitudes. De hecho, este dataset se configura como una serie de tiempo ya que al concatenar las columnas Fecha e Intervalo se tiene una columna de Tiempo que confiere un caracter histórico a los datos y los hace mediciones de series temporales, es por ellos que se decidió evaluar k-shape para observar que resultado tendría por ofrecer. K-means es un algoritmo de agrupamiento genérico y no tiene en cuenta la naturaleza de la serie temporal de los datos, mientras que K-Shape sí lo hace por eso lo vamos a probar.\n",
        "\n",
        "Para hacer una búsqueda del número óptimo de clusters en k-shape, podemos utilizar el criterio de la inercia, similar a lo que se hace en el método del codo para k-means. Sin embargo, a diferencia de k-means, la inercia en k-shape no está garantizada para disminuir con cada incremento en el número de clusters, por lo que es posible que no se vea un \"codo! claro en la gráfica.\n",
        "\n",
        "La inercia es una medida del error de cuantización para un cierto número de clusters. En otras palabras, es una medida de cuán lejos están los puntos dentro de un cluster. Específicamente, es la suma de las distancias al cuadrado de cada objeto del cluster a su centroide.\n",
        "\n",
        "En el ejercicio pasado que usamos el método del codo se utiliza la inercia para determinar el número óptimo de clusters. Se grafica la inercia con respecto al número de clusters, y se busca un \"codo\" en la gráfica, que es un punto donde la tasa de disminución de la inercia se vuelve drásticamente menor. La idea es que añadir más clusters más allá de este punto no mejora significativamente la partición del conjunto de datos.\n"
      ],
      "metadata": {
        "id": "IoY0vZpWpZB9"
      }
    },
    {
      "cell_type": "code",
      "source": [
        "# Cargamos los datos\n",
        "df = data\n",
        "\n",
        "# Elimina filas con valores NaN\n",
        "df = df.dropna()\n",
        "\n",
        "df['Fecha_Intervalo'] = pd.to_datetime(df['Fecha'].dt.strftime('%Y-%m-%d') + ' ' + df['Intervalo'].astype(str))\n",
        "\n",
        "# Ordenamos el DataFrame por esta nueva columna\n",
        "df.sort_index(inplace=True)\n",
        "\n",
        "# Creamos un subconjunto de nuestro DataFrame con las columnas de interés\n",
        "variables = ['CSAT ', 'PD', '% SLA', 'Cierres', '% Reopen', 'RT (min)', 'AHT (min)']\n",
        "data = df[variables]\n",
        "\n",
        "# K-Shape requiere que los datos estén en un formato 3D específico [n_samples, n_timestamps, n_dimensions]\n",
        "# En este caso, cada \"dimension\" es una de las variables\n",
        "data_3d = np.array(data).reshape((data.shape[0], data.shape[1], 1))\n",
        "\n",
        "# K-Shape también requiere que los datos estén normalizados\n",
        "scaler = TimeSeriesScalerMeanVariance()\n",
        "data_scaled = scaler.fit_transform(data_3d)\n",
        "\n",
        "# Rango de valores de clusters que vamos a probar\n",
        "num_clusters = list(range(2,10))\n",
        "\n",
        "# Vamos a almacenar las inercias para cada número de clusters\n",
        "inertias = []\n",
        "\n",
        "# Iteramos sobre el rango de valores de clusters\n",
        "for n in num_clusters:\n",
        "    kshape = KShape(n_clusters=n, n_init=10, verbose=True, random_state=42)\n",
        "    kshape.fit(data_scaled)\n",
        "    inertias.append(kshape.inertia_)\n",
        "\n",
        "# Graficamos las inercias\n",
        "plt.plot(num_clusters, inertias)\n",
        "plt.xlabel('Number of Clusters')\n",
        "plt.ylabel('Inertia')\n",
        "plt.show()"
      ],
      "metadata": {
        "colab": {
          "base_uri": "https://localhost:8080/",
          "height": 1000
        },
        "id": "0F2PA1L6965l",
        "outputId": "9357db0d-1df1-496c-b948-d7052c03d156"
      },
      "execution_count": 44,
      "outputs": [
        {
          "output_type": "stream",
          "name": "stdout",
          "text": [
            "Init 1\n",
            "0.016 --> 0.022 --> \n",
            "Init 2\n",
            "0.017 --> 0.023 --> \n",
            "Init 3\n",
            "0.025 --> 0.028 --> \n",
            "Init 4\n",
            "0.015 --> 0.023 --> \n",
            "Init 5\n",
            "0.015 --> 0.024 --> \n",
            "Init 6\n",
            "0.014 --> 0.024 --> \n",
            "Init 7\n",
            "0.012 --> 0.024 --> \n",
            "Init 8\n",
            "0.016 --> 0.022 --> \n",
            "Init 9\n",
            "0.013 --> 0.024 --> \n",
            "Init 10\n",
            "0.013 --> 0.024 --> \n",
            "Init 1\n",
            "0.013 --> 0.017 --> \n",
            "Init 2\n",
            "0.013 --> 0.023 --> \n",
            "Init 3\n",
            "0.011 --> 0.016 --> \n",
            "Init 4\n",
            "0.009 --> 0.015 --> \n",
            "Init 5\n",
            "0.010 --> 0.020 --> \n",
            "Init 6\n",
            "0.010 --> 0.020 --> \n",
            "Init 7\n",
            "0.009 --> 0.018 --> \n",
            "Init 8\n",
            "0.011 --> 0.020 --> \n",
            "Init 9\n",
            "0.009 --> 0.016 --> \n",
            "Init 10\n",
            "0.012 --> 0.023 --> \n",
            "Init 1\n",
            "0.011 --> 0.016 --> \n",
            "Init 2\n",
            "0.010 --> 0.018 --> \n",
            "Init 3\n",
            "0.006 --> 0.013 --> \n",
            "Init 4\n",
            "0.008 --> 0.016 --> \n",
            "Init 5\n",
            "0.009 --> 0.017 --> \n",
            "Init 6\n",
            "0.009 --> 0.018 --> \n",
            "Init 7\n",
            "0.008 --> 0.013 --> \n",
            "Init 8\n",
            "0.006 --> 0.015 --> \n",
            "Init 9\n",
            "0.012 --> 0.015 --> \n",
            "Init 10\n",
            "0.012 --> 0.014 --> \n",
            "Init 1\n",
            "0.011 --> 0.018 --> \n",
            "Init 2\n",
            "0.008 --> 0.016 --> \n",
            "Init 3\n",
            "0.005 --> 0.013 --> \n",
            "Init 4\n",
            "0.006 --> 0.014 --> \n",
            "Init 5\n",
            "0.007 --> 0.014 --> \n",
            "Init 6\n",
            "0.010 --> 0.017 --> \n",
            "Init 7\n",
            "0.005 --> 0.012 --> \n",
            "Init 8\n",
            "0.012 --> 0.013 --> \n",
            "Init 9\n",
            "0.007 --> 0.014 --> \n",
            "Init 10\n",
            "Resumed because of empty cluster\n",
            "Init 1\n",
            "0.010 --> 0.016 --> \n",
            "Init 2\n",
            "0.005 --> 0.011 --> \n",
            "Init 3\n",
            "0.006 --> 0.014 --> \n",
            "Init 4\n",
            "0.006 --> 0.014 --> \n",
            "Init 5\n",
            "0.007 --> 0.015 --> \n",
            "Init 6\n",
            "0.005 --> 0.012 --> \n",
            "Init 7\n",
            "0.008 --> 0.012 --> \n",
            "Init 8\n",
            "Resumed because of empty cluster\n",
            "Init 8\n",
            "0.005 --> 0.013 --> \n",
            "Init 9\n",
            "0.007 --> 0.013 --> \n",
            "Init 1\n",
            "0.008 --> 0.015 --> \n",
            "Init 2\n",
            "0.004 --> 0.010 --> \n",
            "Init 3\n",
            "0.006 --> 0.012 --> \n",
            "Init 4\n",
            "0.005 --> 0.011 --> \n",
            "Init 5\n",
            "0.005 --> 0.013 --> \n",
            "Init 6\n",
            "0.008 --> 0.012 --> \n",
            "Init 7\n",
            "Resumed because of empty cluster\n",
            "Init 7\n",
            "0.005 --> 0.011 --> \n",
            "Init 8\n",
            "0.007 --> 0.013 --> \n",
            "Init 9\n",
            "0.005 --> 0.012 --> \n",
            "Init 1\n",
            "0.008 --> 0.014 --> \n",
            "Init 2\n",
            "0.004 --> 0.010 --> \n",
            "Init 3\n",
            "0.005 --> 0.011 --> \n",
            "Init 4\n",
            "0.004 --> 0.011 --> \n",
            "Init 5\n",
            "0.008 --> 0.012 --> \n",
            "Init 6\n",
            "Resumed because of empty cluster\n",
            "Init 6\n",
            "0.005 --> 0.011 --> \n",
            "Init 7\n",
            "0.005 --> 0.011 --> \n",
            "Init 8\n",
            "0.006 --> 0.012 --> \n",
            "Init 9\n",
            "0.004 --> 0.010 --> \n",
            "Init 1\n",
            "0.007 --> 0.014 --> \n",
            "Init 2\n",
            "0.004 --> 0.009 --> \n",
            "Init 3\n",
            "0.004 --> 0.010 --> \n",
            "Init 4\n",
            "0.005 --> 0.012 --> \n",
            "Init 5\n",
            "0.005 --> 0.012 --> \n",
            "Init 6\n",
            "Resumed because of empty cluster\n",
            "Init 6\n",
            "0.006 --> 0.011 --> \n",
            "Init 7\n",
            "0.004 --> 0.011 --> \n",
            "Init 8\n",
            "0.004 --> 0.011 --> \n",
            "Init 9\n",
            "0.005 --> 0.011 --> \n"
          ]
        },
        {
          "output_type": "display_data",
          "data": {
            "text/plain": [
              "<Figure size 640x480 with 1 Axes>"
            ],
            "image/png": "[encoded data removed]"
          },
          "metadata": {}
        }
      ]
    },
    {
      "cell_type": "code",
      "source": [
        "# Elegimos el número de clusters con la menor inercia\n",
        "optimal_clusters = num_clusters[np.argmin(inertias)]\n",
        "print('Número óptimo de clusters: ', optimal_clusters)\n",
        "\n",
        "# Creamos y ajustamos nuestro modelo K-Shape con el número óptimo de clusters\n",
        "kshape = KShape(n_clusters=optimal_clusters, n_init=10, verbose=True, random_state=42)\n",
        "kshape.fit(data_scaled)\n",
        "\n",
        "# Añadimos las etiquetas de los clusters a nuestro DataFrame original\n",
        "df['Cluster'] = kshape.labels_\n",
        "\n",
        "# Agrupamos por cluster y calculamos la media de cada variable\n",
        "cluster_summary = df.groupby('Cluster')[variables].mean()\n",
        "\n",
        "print(cluster_summary)"
      ],
      "metadata": {
        "colab": {
          "base_uri": "https://localhost:8080/"
        },
        "id": "dvUKMh0uAPZW",
        "outputId": "503df88c-ad42-448e-fc0e-cdd87349dc27"
      },
      "execution_count": 45,
      "outputs": [
        {
          "output_type": "stream",
          "name": "stdout",
          "text": [
            "Número óptimo de clusters:  9\n",
            "Init 1\n",
            "0.007 --> 0.014 --> \n",
            "Init 2\n",
            "0.004 --> 0.009 --> \n",
            "Init 3\n",
            "0.004 --> 0.010 --> \n",
            "Init 4\n",
            "0.005 --> 0.012 --> \n",
            "Init 5\n",
            "0.005 --> 0.012 --> \n",
            "Init 6\n",
            "Resumed because of empty cluster\n",
            "Init 6\n",
            "0.006 --> 0.011 --> \n",
            "Init 7\n",
            "0.004 --> 0.011 --> \n",
            "Init 8\n",
            "0.004 --> 0.011 --> \n",
            "Init 9\n",
            "0.005 --> 0.011 --> \n",
            "            CSAT         PD      % SLA     Cierres   % Reopen    RT (min)  \\\n",
            "Cluster                                                                     \n",
            "0        2.785431  9.320165  86.666667   52.200000  28.475282   79.032454   \n",
            "1        2.398158  9.400260  83.194805  212.008658  12.360169  202.902906   \n",
            "2        2.777878  6.427330  93.054983   90.793814  14.729340   17.478092   \n",
            "3        2.678029  8.108801  88.638298   49.453901  15.230241  174.544924   \n",
            "4        2.480397  8.227727  88.806112  310.680717  16.808064   21.173645   \n",
            "5        2.526500  6.635607  88.574419  176.734884  17.471860   40.636694   \n",
            "6        2.594060  7.982363  90.722561  240.684959  12.080900   22.194921   \n",
            "7        2.425969  9.959003  86.235915  120.919014  13.237522  451.090281   \n",
            "8        2.412519  8.743850  82.850187  251.044944  15.869722  118.071122   \n",
            "\n",
            "         AHT (min)  \n",
            "Cluster             \n",
            "0        31.742504  \n",
            "1         9.983289  \n",
            "2         9.975171  \n",
            "3        11.114959  \n",
            "4        10.947049  \n",
            "5         9.885016  \n",
            "6        11.072677  \n",
            "7        10.559712  \n",
            "8        10.918721  \n"
          ]
        }
      ]
    },
    {
      "cell_type": "markdown",
      "source": [
        "Ahora, podemos inferir algunas características generales de cada cluster:\n",
        "\n",
        "Cluster 0: Este cluster tiene un CSAT promedio de 2.79, que es más alto que la media general (2.53). Su tiempo promedio de manejo (AHT) es 31.74 minutos, significativamente más alto que la media general (11.08), lo que sugiere que las interacciones son más complejas o requieren más tiempo para resolver. A pesar de estos desafíos, la tasa de cumplimiento del SLA es alta, en 86.67%, pero la tasa de reapertura es alta (28.48%), lo que sugiere que aunque la resolución es rápida, la calidad puede estar por debajo de lo esperado, conduciendo a la reapertura de los casos.\n",
        "\n",
        "Cluster 1: Este cluster gestiona un número de interacciones bastante alto (212.01), sin embargo, su CSAT es el más bajo (2.4). Esto indica que los clientes no están completamente satisfechos con el servicio prestado. Además, su tasa de reapertura es bastante baja (12.36%), lo que puede indicar que, aunque el servicio no sea el mejor calificado, las soluciones proporcionadas son efectivas y no requieren reapertura.\n",
        "\n",
        "Cluster 2: Este cluster tiene una alta tasa de cumplimiento de SLA (93.05%) y un CSAT de 2.78, que está por encima del CSAT promedio. Lo destacable de este cluster es su baja tasa de reapertura (14.73%) y la más baja de los tiempos de resolución y manejo (17.48 y 9.97 minutos respectivamente), lo que indica eficiencia y efectividad en el manejo de las interacciones.\n",
        "\n",
        "Cluster 3: Este cluster tiene un tiempo de manejo y resolución significativamente altos (174.54 y 11.11 minutos respectivamente), a pesar de un CSAT moderado (2.67) y una tasa de reapertura de (15.23%). Esto sugiere que este cluster puede estar lidiando con interacciones más complejas que requieren más tiempo para resolver, pero aún así, las soluciones proporcionadas son efectivas, como lo demuestra la baja tasa de reapertura.\n",
        "\n",
        "Cluster 4: Este cluster gestiona la mayor cantidad de interacciones (310.68), sin embargo, su CSAT es bastante bajo (2.48). Los tiempos de manejo y resolución son bajos (21.17 y 10.94 minutos respectivamente) lo que indica una alta eficiencia, pero la calidad del servicio puede no estar a la altura, como lo demuestra el CSAT más bajo.\n",
        "\n",
        "Cluster 5: Este cluster tiene características moderadas, con CSAT (2.53), tiempo de manejo (40.63 minutos) y resolución (9.88 minutos) en torno a la media. La tasa de cumplimiento de SLA es ligeramente superior a la media (88.57%).\n",
        "\n",
        "Cluster 6: Este cluster tiene una tasa de reapertura baja (12.08%), lo que indica que las soluciones brindadas son bastante efectivas. Sin embargo, a pesar de un tiempo de manejo y resolución bajo (22.19 y 11.07 minutos respectivamente) su CSAT es solo 2.59, que es ligeramente superior a la media.\n",
        "\n",
        "Cluster 7: Este cluster tiene el tiempo de resolución más alto de todos los clusters (451.09 min). A pesar de esto, el tiempo de manejo es bajo (10.56 minutos) y el CSAT es el segundo más bajo entre los clusters (2.43). Este cluster podría estar lidiando con interacciones muy complejas que requieren mucho tiempo para resolver.\n",
        "\n",
        "Cluster 8: Este cluster maneja una gran cantidad de interacciones (251.04), y tiene una tasa de cumplimiento de SLA baja (82.85%), el más bajo entre los clusters, lo que sugiere que el servicio proporcionado puede estar por debajo del nivel esperado."
      ],
      "metadata": {
        "id": "6sNaFNzA6GKs"
      }
    },
    {
      "cell_type": "markdown",
      "source": [
        "Ahora, realizaremos el mismo k-shape pero con el **coeficiente de silueta**, que es una medida de cuán cerca están cada punto en un cluster a los puntos en los clusters vecinos. Este coeficiente varía entre -1 y 1, donde un valor alto indica que los puntos están bien agrupados y un valor bajo indica que los puntos están mal agrupados. Al igual que con el método del codo, se puede ejecutar el algoritmo de k-means para un rango de valores de k y luego graficar el coeficiente de silueta para cada valor de k. El valor de k que maximiza el coeficiente de silueta es una buena elección para el número óptimo de clusters.\n",
        "\n",
        "La medida de silueta es una medida de cuán bien asignado está un punto a su cluster en comparación con otros clusters. La medida de silueta para un punto varía entre -1 y 1, donde un valor alto indica que el punto está bien emparejado con su propio cluster y mal emparejado con los clusters vecinos. Si la mayoría de los objetos tienen un valor alto, entonces la configuración del clustering es apropiada.\n",
        "\n",
        "El método de la silueta nos ayuda mediante una representación gráfica de cuán bien está cada objeto asignado a su cluster. El gráfico de silueta muestra una medida de cuán cerca cada punto en un cluster está a los puntos en los clusters vecinos.\n",
        "\n",
        "Solo para comparar, tanto la inercia como la medida de silueta proporcionan formas de cuantificar la calidad de una solución de clustering. Sin embargo, se centran en aspectos ligeramente diferentes: la inercia se centra en minimizar la distancia dentro del cluster, mientras que la silueta se centra tanto en minimizar la distancia dentro del cluster como en maximizar la distancia entre los clusters. Así que mientras que el método del codo utiliza inercia, el método de la silueta utiliza la medida de la silueta, es importante que quede clara la diferencia entre las medidas."
      ],
      "metadata": {
        "id": "6As1thvbtOMt"
      }
    },
    {
      "cell_type": "code",
      "source": [
        "# Cargamos los datos\n",
        "df = data\n",
        "\n",
        "# Elimina filas con valores NaN\n",
        "df = df.dropna()\n",
        "\n",
        "df['Fecha_Intervalo'] = pd.to_datetime(df['Fecha'].dt.strftime('%Y-%m-%d') + ' ' + df['Intervalo'].astype(str))\n",
        "\n",
        "# Ordenamos el DataFrame por esta nueva columna\n",
        "df.sort_index(inplace=True)\n",
        "\n",
        "# Creamos un subconjunto de nuestro DataFrame con las columnas de interés\n",
        "variables = ['CSAT ', 'PD', '% SLA', 'Cierres', '% Reopen', 'RT (min)', 'AHT (min)']\n",
        "data = df[variables]\n",
        "\n",
        "# K-Shape requiere que los datos estén en un formato 3D específico [n_samples, n_timestamps, n_dimensions]\n",
        "# En este caso, cada \"dimension\" es una de las variables\n",
        "data_3d = np.array(data).reshape((data.shape[0], data.shape[1], 1))\n",
        "\n",
        "# K-Shape también requiere que los datos estén normalizados\n",
        "scaler = TimeSeriesScalerMeanVariance()\n",
        "data_scaled = scaler.fit_transform(data_3d)\n",
        "\n",
        "# Aplanamos los datos para el cálculo del score de silueta\n",
        "data_scaled_2d = data_scaled.reshape((data_scaled.shape[0], data_scaled.shape[1]))\n",
        "\n",
        "# Rango de valores de clusters que vamos a probar\n",
        "num_clusters = list(range(2,10))\n",
        "\n",
        "# Vamos a almacenar los scores de silueta para cada número de clusters\n",
        "silhouette_scores = []\n",
        "\n",
        "# Iteramos sobre el rango de valores de clusters\n",
        "for n in num_clusters:\n",
        "    kshape = KShape(n_clusters=n, n_init=10, verbose=True, random_state=42)\n",
        "    kshape.fit(data_scaled)\n",
        "    score = silhouette_score(data_scaled_2d, kshape.labels_)\n",
        "    silhouette_scores.append(score)\n",
        "\n",
        "# Graficamos los scores de silueta\n",
        "plt.plot(num_clusters, silhouette_scores)\n",
        "plt.xlabel('Number of Clusters')\n",
        "plt.ylabel('Silhouette Score')\n",
        "plt.show()"
      ],
      "metadata": {
        "colab": {
          "base_uri": "https://localhost:8080/",
          "height": 1000
        },
        "id": "3wDlnY2_CKBm",
        "outputId": "1461cc79-7072-4d53-e9ff-2331c8ab4410"
      },
      "execution_count": 50,
      "outputs": [
        {
          "output_type": "stream",
          "name": "stdout",
          "text": [
            "Init 1\n",
            "0.016 --> 0.022 --> \n",
            "Init 2\n",
            "0.017 --> 0.023 --> \n",
            "Init 3\n",
            "0.025 --> 0.028 --> \n",
            "Init 4\n",
            "0.015 --> 0.023 --> \n",
            "Init 5\n",
            "0.015 --> 0.024 --> \n",
            "Init 6\n",
            "0.014 --> 0.024 --> \n",
            "Init 7\n",
            "0.012 --> 0.024 --> \n",
            "Init 8\n",
            "0.016 --> 0.022 --> \n",
            "Init 9\n",
            "0.013 --> 0.024 --> \n",
            "Init 10\n",
            "0.013 --> 0.024 --> \n",
            "Init 1\n",
            "0.013 --> 0.017 --> \n",
            "Init 2\n",
            "0.013 --> 0.023 --> \n",
            "Init 3\n",
            "0.011 --> 0.016 --> \n",
            "Init 4\n",
            "0.009 --> 0.015 --> \n",
            "Init 5\n",
            "0.010 --> 0.020 --> \n",
            "Init 6\n",
            "0.010 --> 0.020 --> \n",
            "Init 7\n",
            "0.009 --> 0.018 --> \n",
            "Init 8\n",
            "0.011 --> 0.020 --> \n",
            "Init 9\n",
            "0.009 --> 0.016 --> \n",
            "Init 10\n",
            "0.012 --> 0.023 --> \n",
            "Init 1\n",
            "0.011 --> 0.016 --> \n",
            "Init 2\n",
            "0.010 --> 0.018 --> \n",
            "Init 3\n",
            "0.006 --> 0.013 --> \n",
            "Init 4\n",
            "0.008 --> 0.016 --> \n",
            "Init 5\n",
            "0.009 --> 0.017 --> \n",
            "Init 6\n",
            "0.009 --> 0.018 --> \n",
            "Init 7\n",
            "0.008 --> 0.013 --> \n",
            "Init 8\n",
            "0.006 --> 0.015 --> \n",
            "Init 9\n",
            "0.012 --> 0.015 --> \n",
            "Init 10\n",
            "0.012 --> 0.014 --> \n",
            "Init 1\n",
            "0.011 --> 0.018 --> \n",
            "Init 2\n",
            "0.008 --> 0.016 --> \n",
            "Init 3\n",
            "0.005 --> 0.013 --> \n",
            "Init 4\n",
            "0.006 --> 0.014 --> \n",
            "Init 5\n",
            "0.007 --> 0.014 --> \n",
            "Init 6\n",
            "0.010 --> 0.017 --> \n",
            "Init 7\n",
            "0.005 --> 0.012 --> \n",
            "Init 8\n",
            "0.012 --> 0.013 --> \n",
            "Init 9\n",
            "0.007 --> 0.014 --> \n",
            "Init 10\n",
            "Resumed because of empty cluster\n",
            "Init 1\n",
            "0.010 --> 0.016 --> \n",
            "Init 2\n",
            "0.005 --> 0.011 --> \n",
            "Init 3\n",
            "0.006 --> 0.014 --> \n",
            "Init 4\n",
            "0.006 --> 0.014 --> \n",
            "Init 5\n",
            "0.007 --> 0.015 --> \n",
            "Init 6\n",
            "0.005 --> 0.012 --> \n",
            "Init 7\n",
            "0.008 --> 0.012 --> \n",
            "Init 8\n",
            "Resumed because of empty cluster\n",
            "Init 8\n",
            "0.005 --> 0.013 --> \n",
            "Init 9\n",
            "0.007 --> 0.013 --> \n",
            "Init 1\n",
            "0.008 --> 0.015 --> \n",
            "Init 2\n",
            "0.004 --> 0.010 --> \n",
            "Init 3\n",
            "0.006 --> 0.012 --> \n",
            "Init 4\n",
            "0.005 --> 0.011 --> \n",
            "Init 5\n",
            "0.005 --> 0.013 --> \n",
            "Init 6\n",
            "0.008 --> 0.012 --> \n",
            "Init 7\n",
            "Resumed because of empty cluster\n",
            "Init 7\n",
            "0.005 --> 0.011 --> \n",
            "Init 8\n",
            "0.007 --> 0.013 --> \n",
            "Init 9\n",
            "0.005 --> 0.012 --> \n",
            "Init 1\n",
            "0.008 --> 0.014 --> \n",
            "Init 2\n",
            "0.004 --> 0.010 --> \n",
            "Init 3\n",
            "0.005 --> 0.011 --> \n",
            "Init 4\n",
            "0.004 --> 0.011 --> \n",
            "Init 5\n",
            "0.008 --> 0.012 --> \n",
            "Init 6\n",
            "Resumed because of empty cluster\n",
            "Init 6\n",
            "0.005 --> 0.011 --> \n",
            "Init 7\n",
            "0.005 --> 0.011 --> \n",
            "Init 8\n",
            "0.006 --> 0.012 --> \n",
            "Init 9\n",
            "0.004 --> 0.010 --> \n",
            "Init 1\n",
            "0.007 --> 0.014 --> \n",
            "Init 2\n",
            "0.004 --> 0.009 --> \n",
            "Init 3\n",
            "0.004 --> 0.010 --> \n",
            "Init 4\n",
            "0.005 --> 0.012 --> \n",
            "Init 5\n",
            "0.005 --> 0.012 --> \n",
            "Init 6\n",
            "Resumed because of empty cluster\n",
            "Init 6\n",
            "0.006 --> 0.011 --> \n",
            "Init 7\n",
            "0.004 --> 0.011 --> \n",
            "Init 8\n",
            "0.004 --> 0.011 --> \n",
            "Init 9\n",
            "0.005 --> 0.011 --> \n"
          ]
        },
        {
          "output_type": "display_data",
          "data": {
            "text/plain": [
              "<Figure size 640x480 with 1 Axes>"
            ],
            "image/png": "[encoded data removed]"
          },
          "metadata": {}
        }
      ]
    },
    {
      "cell_type": "code",
      "source": [
        "# Elegimos el número de clusters con el mayor score de silueta\n",
        "optimal_clusters = num_clusters[np.argmax(silhouette_scores)]\n",
        "print('Número óptimo de clusters: ', optimal_clusters)\n",
        "\n",
        "# Creamos y ajustamos nuestro modelo K-Shape con el número óptimo de clusters\n",
        "kshape = KShape(n_clusters=optimal_clusters, n_init=10, verbose=True, random_state=42)\n",
        "kshape.fit(data_scaled)\n",
        "\n",
        "# Añadimos las etiquetas de los clusters a nuestro DataFrame original\n",
        "df['Cluster'] = kshape.labels_\n",
        "\n",
        "# Agrupamos por cluster y calculamos la media de cada variable\n",
        "cluster_summary = df.groupby('Cluster')[variables].mean()\n",
        "\n",
        "print(cluster_summary)"
      ],
      "metadata": {
        "colab": {
          "base_uri": "https://localhost:8080/"
        },
        "id": "VTFcng-YCdD1",
        "outputId": "70b93f4c-31c9-4d88-9cb9-105e7c907864"
      },
      "execution_count": 51,
      "outputs": [
        {
          "output_type": "stream",
          "name": "stdout",
          "text": [
            "Número óptimo de clusters:  2\n",
            "Init 1\n",
            "0.016 --> 0.022 --> \n",
            "Init 2\n",
            "0.017 --> 0.023 --> \n",
            "Init 3\n",
            "0.025 --> 0.028 --> \n",
            "Init 4\n",
            "0.015 --> 0.023 --> \n",
            "Init 5\n",
            "0.015 --> 0.024 --> \n",
            "Init 6\n",
            "0.014 --> 0.024 --> \n",
            "Init 7\n",
            "0.012 --> 0.024 --> \n",
            "Init 8\n",
            "0.016 --> 0.022 --> \n",
            "Init 9\n",
            "0.013 --> 0.024 --> \n",
            "Init 10\n",
            "0.013 --> 0.024 --> \n",
            "            CSAT         PD      % SLA     Cierres   % Reopen    RT (min)  \\\n",
            "Cluster                                                                     \n",
            "0        2.462870  9.435398  85.925801  133.596965  13.046467  314.840010   \n",
            "1        2.549918  7.805535  89.159053  237.733911  15.114207   36.710534   \n",
            "\n",
            "         AHT (min)  \n",
            "Cluster             \n",
            "0        10.448304  \n",
            "1        10.838778  \n"
          ]
        }
      ]
    },
    {
      "cell_type": "markdown",
      "source": [
        "Con el método de la silueta se obtuvieron solo dos clusters, el hecho de que se haya determinado que dos clusters es el número óptimo sugiere que la separación entre estos dos grupos es significativamente mayor que la que se obtendría con un número mayor de clusters. En otras palabras, los datos se agrupan naturalmente en dos grupos distintos, y cualquier agrupación adicional no proporcionaría una separación significativa.\n",
        "\n",
        "Esta es la interpretación de los cluster:\n",
        "\n",
        "Cluster 0: Este cluster tiene un CSAT ligeramente inferior a la media (2.46 frente a la media de 2.53). Este cluster también tiene un tiempo de manejo de las interacciones ligeramente por debajo de la media (10.45 minutos frente a la media de 11.08 minutos). El tiempo de resolución es bastante más alto que la media (314.84 minutos frente a la media de 100.53 minutos), lo que podría indicar que este cluster maneja interacciones más complejas o difíciles que toman más tiempo para resolverse. La tasa de cumplimiento de SLA en este cluster es baja (85.93%) en comparación con la media (88.5%), lo que podría sugerir dificultades para cumplir con los tiempos de resolución esperados. Este cluster también tiene una tasa de reapertura ligeramente inferior a la media (13.05% frente a la media de 14.46%).\n",
        "\n",
        "Cluster 1: Este cluster tiene un CSAT ligeramente superior a la media (2.55 frente a la media de 2.53). El tiempo de manejo de las interacciones en este cluster es ligeramente inferior a la media (10.84 minutos frente a la media de 11.08 minutos), pero el tiempo de resolución es significativamente más bajo que la media (36.71 minutos frente a la media de 100.53 minutos), lo que podría indicar que este cluster maneja interacciones menos complejas o más sencillas. La tasa de cumplimiento de SLA en este cluster es alta (89.16%) en comparación con la media (88.5%), lo que indica un buen rendimiento en términos de cumplimiento de los tiempos de resolución esperados. Sin embargo, este cluster tiene una tasa de reapertura ligeramente superior a la media (15.11% frente a la media de 14.46%), lo que podría sugerir que hay espacio para mejorar en términos de la efectividad de las resoluciones proporcionadas."
      ],
      "metadata": {
        "id": "pzwVn3QM659m"
      }
    },
    {
      "cell_type": "markdown",
      "source": [
        "###**Estrategia para el mejoramiento y distribuccion de malla de turnos**\n",
        "\n",
        "No sé si ya se haya implementado pero una buena estrategia puede ser identificar las características de los agentes que mejor se desempeñan en cada uno de los clusters y utilizar esta información para la formación y asignación de tareas. Por ejemplo, si vemos que los agentes en un cluster particular tienen tiempos de manejo (AHT) más bajos y puntuaciones de satisfacción del cliente (CSAT) más altas, se puede investigar qué habilidades o prácticas están empleando estos agentes y tratar de replicarlas en otros grupos. Esto puede involucrar la formación en habilidades específicas, cambios en el proceso o la reasignación de ciertos tipos de casos a agentes con habilidades particulares que también puede ser el caso.\n",
        "\n",
        "La idea es asignar roles y responsabilidades en un centro de llamadas o un entorno de servicio al cliente en función de las habilidades individuales de los agentes y su eficiencia en diversas tareas. La estrategia busca mejorar la satisfacción del cliente al asignar a los agentes más calificados a las tareas que mejor se adaptan a sus habilidades, a la vez que maximiza la eficiencia operativa del call center.\n",
        "\n",
        "Lo primero sería evaluar las habilidades y competencias de cada agente. La evaluación podría incluir aspectos como la capacidad de comunicación, el conocimiento del producto o servicio, la habilidad para resolver problemas, la empatía, entre otros. Estas evaluaciones podrían realizarse mediante revisiones de rendimiento, pruebas de habilidades, retroalimentación de los clientes, y otros medios.\n",
        "\n",
        "Una vez que se han evaluado las habilidades de los agentes, el siguiente paso sería asignarles tareas que se alineen con sus habilidades. Por ejemplo, los agentes que demuestren una excelente habilidad para resolver problemas podrían asignarse a atender a clientes con consultas técnicas complicadas. Por otro lado, los agentes con habilidades de comunicación brutales podrían ser más efectivos al tratar con clientes difíciles o al manejar consultas generales.\n",
        "\n",
        "La estrategia de asignación basado en habilidades no solo puede mejorar la eficiencia operativa al reducir el tiempo requerido para resolver consultas, sino que también puede mejorar la satisfacción del cliente al asegurarse de que sus consultas sean manejadas por los agentes más calificados.\n",
        "\n",
        "En términos de eficiencia, es importante considerar no solo las habilidades de los agentes, sino también su rendimiento en términos de métricas clave como el tiempo medio de manejo de llamadas (AHT), el tiempo de resolución (RT), el porcentaje de llamadas resueltas en la primera interacción, entre otras. Los agentes que regularmente cumplen o superan estas métricas pueden ser considerados como altamente eficientes y podrían ser asignados a tareas más desafiantes o recibir más responsabilidades."
      ],
      "metadata": {
        "id": "zWHnCZw98-2M"
      }
    },
    {
      "cell_type": "markdown",
      "source": [
        "##**Ejercicio 3**\n",
        "\n",
        "\n",
        "Analicemos de la mejor manera este ejercicio. Se nos dice que de acuerdo a la trazabilidad histórica (lo que me pone a pensar en series temporales) y la data, realizar un modelo predictivo que dado un Inflow, agentes programados (Asumo que es Conectados) y un intervalo, predecir SLA, CSAT, PD. Es decir, múltiples variables respuesta. Vamos a abordar esto desde lo técnico.\n",
        "\n",
        "Si tenemos varias variables respuesta, hay varias opciones, una es un modelo de aprendizaje automático multivariante, otra puede ser un modelo de series de tiempo. La verdad no es muy común realizar modelos de aprendizaje automático con múltiples variables respuesta porque son complicados de implementar y de interpretar y además pueden no funcionar muy bien si hay problemas de multicolinealidad en las variables respuesta.\n",
        "\n",
        "Se podría pensar en realizar modelos de regresión separados para cada variable (SLA, CSAT y PD) que es lo que finalmente haré, así podría lograrse un mejor rendimiento que con un modelo multivariante. La otra opción de modelos de series temporales no tiene sentido ya que, si bien, hay un componente de variación en el tiempo, se nos fueron entregadas variables de entrada lo que es propio y sugerente para modelos de aprendizaje automático ya que la variable respuesta no dependería solo del tiempo, si no también de otros factores.\n",
        "\n",
        "Sin embargo, es necesario hacer una precisión, la variable Intervalo en el dataset contiene las mediciones de las características en intervalos de media hora y el valor correspondiente a la variable de Intervalo que se entregó es de una hora, por tanto es necesario modificar el dataset para que esté en las mismas unidades que las variables de entrada. Acá vamos a realizar varios supuestos:\n",
        "\n",
        "Los intervalos serán de una hora, y los valores de inflow, Conectados y PD se van a sumar en dos registros consecutivos de media hora, con el fin de obtener el valor de esas variables por intervalos de una hora. Por su parte, las variables de SLA y CSAT se van a promediar ya que no son variables que se puedan agregar mediante la suma pues no son acumulativas, son scores o puntajes, por lo mismo se promedian para tener una estimación del valor de dichas variables en intervalos de una hora."
      ],
      "metadata": {
        "id": "caTC9RZ-7n7U"
      }
    },
    {
      "cell_type": "code",
      "source": [
        "df = data\n",
        "\n",
        "# Crear un nuevo DataFrame vacío\n",
        "new_df = pd.DataFrame(columns=['Intervalo', 'Inflow', 'Conectados', 'PD', '% SLA', 'CSAT '])\n",
        "\n",
        "# Iterar sobre cada segunda fila en el DataFrame original\n",
        "for i in range(0, df.shape[0], 2):\n",
        "    # Asegurarse de que no se salga del límite del DataFrame\n",
        "    if i + 1 < df.shape[0]:\n",
        "        # Crear un diccionario con los nuevos valores calculados\n",
        "        new_row = {\n",
        "            'Intervalo': df.iloc[i]['Intervalo'],\n",
        "            'Inflow': df.iloc[i]['Inflow'] + df.iloc[i+1]['Inflow'],\n",
        "            'Conectados': df.iloc[i]['Conectados'] + df.iloc[i+1]['Conectados'],\n",
        "            'PD': df.iloc[i]['PD'] + df.iloc[i+1]['PD'],\n",
        "            '% SLA': (df.iloc[i]['% SLA'] + df.iloc[i+1]['% SLA']) / 2,\n",
        "            'CSAT ': (df.iloc[i]['CSAT '] + df.iloc[i+1]['CSAT ']) / 2\n",
        "        }\n",
        "        # Añadir la nueva fila al nuevo DataFrame\n",
        "        new_df = new_df.append(new_row, ignore_index=True)\n",
        "\n",
        "# Imprimir el nuevo DataFrame\n",
        "print(new_df)\n"
      ],
      "metadata": {
        "colab": {
          "base_uri": "https://localhost:8080/"
        },
        "id": "v-3IVQxyi8Ds",
        "outputId": "d11dff99-67e3-493e-b7a8-2e43b9dc6b3b"
      },
      "execution_count": 8,
      "outputs": [
        {
          "output_type": "stream",
          "name": "stdout",
          "text": [
            "     Intervalo  Inflow  Conectados         PD  % SLA     CSAT \n",
            "0     00:00:00   150.0        20.0  21.704312   67.5  1.865385\n",
            "1     01:00:00    59.0        11.0  20.888820   75.0  1.966667\n",
            "2     02:00:00    35.0         5.0  22.274492   85.0       NaN\n",
            "3     03:00:00    25.0         6.0  21.157058   80.0  1.000000\n",
            "4     04:00:00    13.0         5.0  39.224913   76.5       NaN\n",
            "...        ...     ...         ...        ...    ...       ...\n",
            "2156  19:00:00   720.0       174.0  20.132182   83.0  2.225121\n",
            "2157  20:00:00   777.0       156.0  19.937580   84.5  2.034470\n",
            "2158  21:00:00   637.0       132.0  20.184777   83.5  2.100490\n",
            "2159  22:00:00   423.0        80.0  20.823605   83.0  2.553512\n",
            "2160  23:00:00   225.0        50.0  19.860915   85.0  2.178571\n",
            "\n",
            "[2161 rows x 6 columns]\n"
          ]
        }
      ]
    },
    {
      "cell_type": "markdown",
      "source": [
        "Se tiene entonces un dataset donde los intervalos están en franjas de una hora, queda con 2161 registros. Con diferentes valores eran nulos entonces es necesario eliminar los registros con nulos."
      ],
      "metadata": {
        "id": "w9Nuk09Pj-A9"
      }
    },
    {
      "cell_type": "code",
      "source": [
        "# Elimina filas con valores NaN\n",
        "new_df = new_df.dropna()\n",
        "\n",
        "# Obtener información de los datos.\n",
        "new_df.info()"
      ],
      "metadata": {
        "colab": {
          "base_uri": "https://localhost:8080/"
        },
        "id": "FJLt69aMkLbN",
        "outputId": "0c807520-ef8b-4cc7-95c9-87a2fdc3d3cb"
      },
      "execution_count": 9,
      "outputs": [
        {
          "output_type": "stream",
          "name": "stdout",
          "text": [
            "<class 'pandas.core.frame.DataFrame'>\n",
            "Int64Index: 1773 entries, 0 to 2160\n",
            "Data columns (total 6 columns):\n",
            " #   Column      Non-Null Count  Dtype  \n",
            "---  ------      --------------  -----  \n",
            " 0   Intervalo   1773 non-null   object \n",
            " 1   Inflow      1773 non-null   float64\n",
            " 2   Conectados  1773 non-null   float64\n",
            " 3   PD          1773 non-null   float64\n",
            " 4   % SLA       1773 non-null   float64\n",
            " 5   CSAT        1773 non-null   float64\n",
            "dtypes: float64(5), object(1)\n",
            "memory usage: 97.0+ KB\n"
          ]
        }
      ]
    },
    {
      "cell_type": "markdown",
      "source": [
        "Se usará un árbol de decisión para regresión pues su eficiencia se ha probado, para los siguientes tres datasets:\n",
        "\n",
        "Intervalo, Inflow, Conectados, SLA\n",
        "\n",
        "Intervalo, Inflow, Conectados, CSAT\n",
        "\n",
        "Intervalo, Inflow, Conectados, PD\n",
        "\n",
        "Siendo la última variable, la variable respuesta para cada conjunto de datos."
      ],
      "metadata": {
        "id": "o8Afz61Tkee1"
      }
    },
    {
      "cell_type": "code",
      "source": [
        "data_sla =  new_df[['Intervalo', 'Inflow', 'Conectados', '% SLA']]\n",
        "\n",
        "data_csat = new_df[['Intervalo', 'Inflow', 'Conectados', 'CSAT ']]\n",
        "\n",
        "data_pd = new_df[['Intervalo', 'Inflow', 'Conectados', 'PD']]"
      ],
      "metadata": {
        "id": "JINofnUnkv9T"
      },
      "execution_count": 24,
      "outputs": []
    },
    {
      "cell_type": "markdown",
      "source": [
        "Es necesario saber que como los modelos en scikit-learn requieren entradas numéricas, se hace necesario convertir la característica de 'Intervalo' en una representación numérica. Sin embargo, no basta con convertir a 'Intervalo' en numérica. Tenemos que tener en cuenta las características de los datos paraa modelarlos, en este caso es necesario recordar que la hora del día es una característica cíclica, es decir, luego de las 23:00:00 sigue 00:00:00 que son horas muy cercanas pero en números, 0 de 23 es muy distante por lo que algunos modelos pueden presentar inconvenientes para manejar la naturaleza cíclica de la hora del día.\n",
        "\n",
        "Usualmente el manejo que se le da a este tipo de datos es crear dos nuevas características, una para la hora del seno y otra para la hora del coseno, esto permitirá que la distancia entre 23:00:00 y 00:00:00 sea pequeña y por supuesto, incrementa el desempeño de los modelos de aprendizaje automático."
      ],
      "metadata": {
        "id": "8-HqTX9ps7Hx"
      }
    },
    {
      "cell_type": "code",
      "source": [
        "# Convertir la columna de intervalo en una hora numérica\n",
        "data_sla['Hora'] = data_sla['Intervalo'].apply(lambda x: x.hour)\n",
        "\n",
        "# Crear las características de seno y coseno\n",
        "data_sla['sin_hora'] = np.sin(2 * np.pi * data_sla['Hora']/24)\n",
        "data_sla['cos_hora'] = np.cos(2 * np.pi * data_sla['Hora']/24)"
      ],
      "metadata": {
        "id": "k_RqA6YouwAf"
      },
      "execution_count": 25,
      "outputs": []
    },
    {
      "cell_type": "markdown",
      "source": [
        "###**Predicción 1**"
      ],
      "metadata": {
        "id": "t_qCOgfVr4ky"
      }
    },
    {
      "cell_type": "code",
      "source": [
        "# Lista de columnas de características\n",
        "feature_columns = ['sin_hora', 'cos_hora', 'Inflow', 'Conectados']\n",
        "\n",
        "# Dividir los datos en conjuntos de entrenamiento y prueba\n",
        "X = data_sla[feature_columns]\n",
        "y = data_sla['% SLA']\n",
        "\n",
        "X_train, X_test, y_train, y_test = train_test_split(X, y, test_size=0.2, random_state=42)\n",
        "\n",
        "# Crear el modelo\n",
        "model = DecisionTreeRegressor(random_state=42)\n",
        "\n",
        "# Definir la grilla de parámetros para buscar\n",
        "parameters = {'max_depth': range(1, 20), 'min_samples_split': range(2, 20)}\n",
        "\n",
        "# Configurar la búsqueda de la grilla\n",
        "grid_search = GridSearchCV(model, parameters, scoring='neg_mean_squared_error', cv=20)\n",
        "\n",
        "# Realizar la búsqueda de la grilla\n",
        "grid_search.fit(X_train, y_train)\n",
        "\n",
        "# Imprimir los mejores parámetros\n",
        "print(f'Best parameters: {grid_search.best_params_}')\n",
        "\n",
        "# Crear y entrenar el modelo con los mejores parámetros\n",
        "best_model = DecisionTreeRegressor(max_depth=grid_search.best_params_['max_depth'],\n",
        "                                   min_samples_split=grid_search.best_params_['min_samples_split'],\n",
        "                                   random_state=42)\n",
        "best_model.fit(X_train, y_train)\n",
        "\n",
        "# Realizar predicciones\n",
        "y_pred = best_model.predict(X_test)\n",
        "\n",
        "# Calcular y mostrar las métricas de error\n",
        "mse = mean_squared_error(y_test, y_pred)\n",
        "mae = mean_absolute_error(y_test, y_pred)\n",
        "r2 = r2_score(y_test, y_pred)\n",
        "\n",
        "print(f'MSE: {mse}')\n",
        "print(f'MAE: {mae}')\n",
        "print(f'R^2: {r2}')"
      ],
      "metadata": {
        "colab": {
          "base_uri": "https://localhost:8080/"
        },
        "id": "MoO60xSushRm",
        "outputId": "42b57816-fb04-4dff-de32-47d6a4fb1fb6"
      },
      "execution_count": 34,
      "outputs": [
        {
          "output_type": "stream",
          "name": "stdout",
          "text": [
            "Best parameters: {'max_depth': 11, 'min_samples_split': 9}\n",
            "MSE: 20.89114729837057\n",
            "MAE: 3.297628618618053\n",
            "R^2: 0.36523707030059527\n"
          ]
        }
      ]
    },
    {
      "cell_type": "markdown",
      "source": [
        "Se realizaron transformaciones logarítmicas a las características, se crearon características polinomiales, y nada funcionó para incrementar el R2 salvo incrementar el espacio de los hiperparámetros e incrementar el nivel de folds de la cross-validation, teniendo como resultado un MSE de 20.892, un MAE de 3.29 y un R2 de 36,5% (estaba en 31%). Esto significa que el modelo explica alrededor del 36.5% de la variación en los datos."
      ],
      "metadata": {
        "id": "pXtq6ScN4u65"
      }
    },
    {
      "cell_type": "code",
      "source": [
        "# El valor del intervalo que quieres predecir\n",
        "Intervalo = 15\n",
        "\n",
        "# Realizar la transformación circular\n",
        "sin_hora, cos_hora = np.sin(2 * np.pi * Intervalo/24), np.cos(2 * np.pi * Intervalo/24)\n",
        "\n",
        "# Los otros valores que quieres predecir\n",
        "inflow = 378\n",
        "conectados = 98\n",
        "\n",
        "# Crear el vector de entrada para el modelo\n",
        "input_vector = np.array([sin_hora, cos_hora, inflow, conectados]).reshape(1, -1)\n",
        "\n",
        "# Hacer la predicción\n",
        "prediccion = best_model.predict(input_vector)\n",
        "\n",
        "print('La predicción es:', prediccion)\n"
      ],
      "metadata": {
        "colab": {
          "base_uri": "https://localhost:8080/"
        },
        "id": "ZLe30kbn6mv8",
        "outputId": "077b9d0c-8d17-4f48-9962-feda7ff33014"
      },
      "execution_count": 35,
      "outputs": [
        {
          "output_type": "stream",
          "name": "stdout",
          "text": [
            "La predicción es: [88.]\n"
          ]
        }
      ]
    },
    {
      "cell_type": "markdown",
      "source": [
        "Con un Intervalo: 3:00 pm - 4:00 pm ( es decir, hora 15), Inflow de 378 y Conectados 98 agentes, el SLA predicho es 88%."
      ],
      "metadata": {
        "id": "zjCUVGBwzUVe"
      }
    },
    {
      "cell_type": "markdown",
      "source": [
        "###**Predicción 2**"
      ],
      "metadata": {
        "id": "ydxjqTaP7ZaC"
      }
    },
    {
      "cell_type": "code",
      "source": [
        "# Convertir la columna de intervalo en una hora numérica\n",
        "data_csat['Hora'] = data_csat['Intervalo'].apply(lambda x: x.hour)\n",
        "\n",
        "# Crear las características de seno y coseno\n",
        "data_csat['sin_hora'] = np.sin(2 * np.pi * data_csat['Hora']/24)\n",
        "data_csat['cos_hora'] = np.cos(2 * np.pi * data_csat['Hora']/24)\n",
        "\n",
        "# Lista de columnas de características\n",
        "feature_columns = ['sin_hora', 'cos_hora', 'Inflow', 'Conectados']\n",
        "\n",
        "# Dividir los datos en conjuntos de entrenamiento y prueba\n",
        "X = data_csat[feature_columns]\n",
        "y = data_csat['CSAT ']\n",
        "\n",
        "X_train, X_test, y_train, y_test = train_test_split(X, y, test_size=0.2, random_state=42)\n",
        "\n",
        "# Crear el modelo\n",
        "model = DecisionTreeRegressor(random_state=42)\n",
        "\n",
        "# Definir la grilla de parámetros para buscar\n",
        "parameters = {'max_depth': range(1, 11), 'min_samples_split': range(2, 11)}\n",
        "\n",
        "# Configurar la búsqueda de la grilla\n",
        "grid_search = GridSearchCV(model, parameters, scoring='neg_mean_squared_error', cv=10)\n",
        "\n",
        "# Realizar la búsqueda de la grilla\n",
        "grid_search.fit(X_train, y_train)\n",
        "\n",
        "# Imprimir los mejores parámetros\n",
        "print(f'Best parameters: {grid_search.best_params_}')\n",
        "\n",
        "# Crear y entrenar el modelo con los mejores parámetros\n",
        "best_model = DecisionTreeRegressor(max_depth=grid_search.best_params_['max_depth'],\n",
        "                                   min_samples_split=grid_search.best_params_['min_samples_split'],\n",
        "                                   random_state=42)\n",
        "best_model.fit(X_train, y_train)\n",
        "\n",
        "# Realizar predicciones\n",
        "y_pred = best_model.predict(X_test)\n",
        "\n",
        "# Calcular y mostrar las métricas de error\n",
        "mse = mean_squared_error(y_test, y_pred)\n",
        "mae = mean_absolute_error(y_test, y_pred)\n",
        "r2 = r2_score(y_test, y_pred)\n",
        "\n",
        "print(f'MSE: {mse}')\n",
        "print(f'MAE: {mae}')\n",
        "print(f'R^2: {r2}')"
      ],
      "metadata": {
        "colab": {
          "base_uri": "https://localhost:8080/"
        },
        "id": "WQN3344T7gXT",
        "outputId": "22e2c36a-5b28-4211-fb31-21203c3dd1e8"
      },
      "execution_count": 39,
      "outputs": [
        {
          "output_type": "stream",
          "name": "stdout",
          "text": [
            "Best parameters: {'max_depth': 3, 'min_samples_split': 2}\n",
            "MSE: 0.11636695980856641\n",
            "MAE: 0.22083640742570454\n",
            "R^2: 0.24185784912983666\n"
          ]
        }
      ]
    },
    {
      "cell_type": "markdown",
      "source": [
        "Se obtuvo un MSE de 0.1164, un MAE de 0.22 y un R2 de 24,2%, lo que indica que el modelo explica solo en un 24% la variabilidad."
      ],
      "metadata": {
        "id": "4TRdq0RNGIbD"
      }
    },
    {
      "cell_type": "code",
      "source": [
        "# El valor del intervalo que quieres predecir\n",
        "Intervalo = 15\n",
        "\n",
        "# Realizar la transformación circular\n",
        "sin_hora, cos_hora = np.sin(2 * np.pi * Intervalo/24), np.cos(2 * np.pi * Intervalo/24)\n",
        "\n",
        "# Los otros valores que quieres predecir\n",
        "inflow = 378\n",
        "conectados = 98\n",
        "\n",
        "# Crear el vector de entrada para el modelo\n",
        "input_vector = np.array([sin_hora, cos_hora, inflow, conectados]).reshape(1, -1)\n",
        "\n",
        "# Hacer la predicción\n",
        "prediccion = best_model.predict(input_vector)\n",
        "\n",
        "print('La predicción es:', prediccion)\n"
      ],
      "metadata": {
        "colab": {
          "base_uri": "https://localhost:8080/"
        },
        "id": "wgHGtPyrGS_-",
        "outputId": "d297a3bf-a790-4fb1-8ecd-6ce1af6832b3"
      },
      "execution_count": 40,
      "outputs": [
        {
          "output_type": "stream",
          "name": "stdout",
          "text": [
            "La predicción es: [2.50317682]\n"
          ]
        }
      ]
    },
    {
      "cell_type": "markdown",
      "source": [
        "Con un Intervalo: 3:00 pm - 4:00 pm ( es decir, hora 15), Inflow de 378 y Conectados 98 agentes, el CSAT predicho es 2.503."
      ],
      "metadata": {
        "id": "PXo7Qn7fGb9v"
      }
    },
    {
      "cell_type": "markdown",
      "source": [
        "###**Predicción 3**"
      ],
      "metadata": {
        "id": "hFe1uVHQGhQH"
      }
    },
    {
      "cell_type": "code",
      "source": [
        "# Convertir la columna de intervalo en una hora numérica\n",
        "data_pd['Hora'] = data_pd['Intervalo'].apply(lambda x: x.hour)\n",
        "\n",
        "# Crear las características de seno y coseno\n",
        "data_pd['sin_hora'] = np.sin(2 * np.pi * data_pd['Hora']/24)\n",
        "data_pd['cos_hora'] = np.cos(2 * np.pi * data_pd['Hora']/24)\n",
        "\n",
        "# Lista de columnas de características\n",
        "feature_columns = ['sin_hora', 'cos_hora', 'Inflow', 'Conectados']\n",
        "\n",
        "# Dividir los datos en conjuntos de entrenamiento y prueba\n",
        "X = data_pd[feature_columns]\n",
        "y = data_pd['PD']\n",
        "\n",
        "X_train, X_test, y_train, y_test = train_test_split(X, y, test_size=0.2, random_state=42)\n",
        "\n",
        "# Crear el modelo\n",
        "model = DecisionTreeRegressor(random_state=42)\n",
        "\n",
        "# Definir la grilla de parámetros para buscar\n",
        "parameters = {'max_depth': range(1, 11), 'min_samples_split': range(2, 11)}\n",
        "\n",
        "# Configurar la búsqueda de la grilla\n",
        "grid_search = GridSearchCV(model, parameters, scoring='neg_mean_squared_error', cv=10)\n",
        "\n",
        "# Realizar la búsqueda de la grilla\n",
        "grid_search.fit(X_train, y_train)\n",
        "\n",
        "# Imprimir los mejores parámetros\n",
        "print(f'Best parameters: {grid_search.best_params_}')\n",
        "\n",
        "# Crear y entrenar el modelo con los mejores parámetros\n",
        "best_model = DecisionTreeRegressor(max_depth=grid_search.best_params_['max_depth'],\n",
        "                                   min_samples_split=grid_search.best_params_['min_samples_split'],\n",
        "                                   random_state=42)\n",
        "best_model.fit(X_train, y_train)\n",
        "\n",
        "# Realizar predicciones\n",
        "y_pred = best_model.predict(X_test)\n",
        "\n",
        "# Calcular y mostrar las métricas de error\n",
        "mse = mean_squared_error(y_test, y_pred)\n",
        "mae = mean_absolute_error(y_test, y_pred)\n",
        "r2 = r2_score(y_test, y_pred)\n",
        "\n",
        "print(f'MSE: {mse}')\n",
        "print(f'MAE: {mae}')\n",
        "print(f'R^2: {r2}')"
      ],
      "metadata": {
        "colab": {
          "base_uri": "https://localhost:8080/"
        },
        "id": "nnbhPnanGizG",
        "outputId": "f072044c-5606-44ff-8a53-ab544f1d9928"
      },
      "execution_count": 41,
      "outputs": [
        {
          "output_type": "stream",
          "name": "stdout",
          "text": [
            "Best parameters: {'max_depth': 8, 'min_samples_split': 5}\n",
            "MSE: 9.018542407089978\n",
            "MAE: 1.95695732620192\n",
            "R^2: 0.45688352420146927\n"
          ]
        }
      ]
    },
    {
      "cell_type": "markdown",
      "source": [
        "Se obtuvo un MSE de 9.018, un MAE de 1.956 y un R2 de 45.7%, lo que indica que el modelo explica 46% la variabilidad de PD."
      ],
      "metadata": {
        "id": "wEbaNTm7G5KH"
      }
    },
    {
      "cell_type": "code",
      "source": [
        "# El valor del intervalo que quieres predecir\n",
        "Intervalo = 15\n",
        "\n",
        "# Realizar la transformación circular\n",
        "sin_hora, cos_hora = np.sin(2 * np.pi * Intervalo/24), np.cos(2 * np.pi * Intervalo/24)\n",
        "\n",
        "# Los otros valores que quieres predecir\n",
        "inflow = 378\n",
        "conectados = 98\n",
        "\n",
        "# Crear el vector de entrada para el modelo\n",
        "input_vector = np.array([sin_hora, cos_hora, inflow, conectados]).reshape(1, -1)\n",
        "\n",
        "# Hacer la predicción\n",
        "prediccion = best_model.predict(input_vector)\n",
        "\n",
        "print('La predicción es:', prediccion)"
      ],
      "metadata": {
        "colab": {
          "base_uri": "https://localhost:8080/"
        },
        "id": "u5wpD86qHFhf",
        "outputId": "ad917be6-82ba-4570-acca-77acefc22248"
      },
      "execution_count": 42,
      "outputs": [
        {
          "output_type": "stream",
          "name": "stdout",
          "text": [
            "La predicción es: [14.72405979]\n"
          ]
        }
      ]
    },
    {
      "cell_type": "markdown",
      "source": [
        "Con un Intervalo: 3:00 pm - 4:00 pm ( es decir, hora 15), Inflow de 378 y Conectados 98 agentes, el PD predicho es 14.73, es decir, casi 15 casos se pueden cerrar en un intervalo con esas características."
      ],
      "metadata": {
        "id": "BHDpRs8uHNzw"
      }
    }
  ]
}