{
  "nbformat": 4,
  "nbformat_minor": 0,
  "metadata": {
    "colab": {
      "provenance": [],
      "authorship_tag": "ABX9TyM1vZkwbu7K+sd+62qjj6Xs",
      "include_colab_link": true
    },
    "kernelspec": {
      "name": "python3",
      "display_name": "Python 3"
    },
    "language_info": {
      "name": "python"
    }
  },
  "cells": [
    {
      "cell_type": "markdown",
      "metadata": {
        "id": "view-in-github",
        "colab_type": "text"
      },
      "source": [
        "<a href=\"https://colab.research.google.com/github/Chris1Areiza/lime/blob/main/AB_Challenge.ipynb\" target=\"_parent\"><img src=\"https://colab.research.google.com/assets/colab-badge.svg\" alt=\"Open In Colab\"/></a>"
      ]
    },
    {
      "cell_type": "markdown",
      "source": [
        "#**Resolución del AB Challenge**"
      ],
      "metadata": {
        "id": "oOzZUD-GNs5i"
      }
    },
    {
      "cell_type": "markdown",
      "source": [
        "##**Librerías y carga de datos**"
      ],
      "metadata": {
        "id": "worLXlusNj5a"
      }
    },
    {
      "cell_type": "code",
      "execution_count": 4,
      "metadata": {
        "id": "-SR92yRKXzEc"
      },
      "outputs": [],
      "source": [
        "# Importar las librerías necesarias.\n",
        "import pandas as pd\n",
        "from google.colab import drive\n",
        "from datetime import datetime\n",
        "import numpy as np\n",
        "from scipy.stats import f_oneway, ttest_ind\n",
        "from statsmodels.stats.multicomp import pairwise_tukeyhsd\n",
        "from google.colab import auth\n",
        "from google.cloud import bigquery\n",
        "import tempfile"
      ]
    },
    {
      "cell_type": "code",
      "source": [
        "#Leer los datos desde el csv file.\n",
        "drive.mount('/content/drive')\n",
        "data=pd.read_csv('drive/MyDrive/datameli.csv',sep=',', index_col = None)"
      ],
      "metadata": {
        "colab": {
          "base_uri": "https://localhost:8080/"
        },
        "id": "BTxvSsJrYjP-",
        "outputId": "0440f4b1-8a09-4b84-b18d-0da549bf0f0a"
      },
      "execution_count": 5,
      "outputs": [
        {
          "output_type": "stream",
          "name": "stdout",
          "text": [
            "Mounted at /content/drive\n"
          ]
        }
      ]
    },
    {
      "cell_type": "code",
      "source": [
        "# Imprimir la forma y los primeros registros del dataset.\n",
        "print(data.shape)\n",
        "print(data.head())"
      ],
      "metadata": {
        "colab": {
          "base_uri": "https://localhost:8080/"
        },
        "id": "7ywZBh2EZUo8",
        "outputId": "67b02a22-138b-41e5-e236-54fd58cab47f"
      },
      "execution_count": 6,
      "outputs": [
        {
          "output_type": "stream",
          "name": "stdout",
          "text": [
            "(141553, 6)\n",
            "  event_name      item_id                     timestamp site  \\\n",
            "0     SEARCH          NaN  2021-08-02T23:55:38.966-0400  MLA   \n",
            "1    PRODUCT  882352139.0  2021-08-02T23:55:51.673-0400  MLA   \n",
            "2    PRODUCT  655266729.0  2021-08-02T23:56:16.083-0400  MLA   \n",
            "3    PRODUCT  761520929.0  2021-08-02T23:56:29.989-0400  MLA   \n",
            "4    PRODUCT  757586409.0  2021-08-02T23:56:47.887-0400  MLA   \n",
            "\n",
            "                                         experiments  user_id  \n",
            "0  {searchbackend/recommended-products=6157, mcli...  3204901  \n",
            "1  {qadb/sa-on-vip=6695, vip/showV2V3BoxMessages=...  3204901  \n",
            "2  {qadb/sa-on-vip=6695, vip/showV2V3BoxMessages=...  3204901  \n",
            "3  {search/remove-ecn-tag=4954, qadb/sa-on-vip=66...  3204901  \n",
            "4  {search/remove-ecn-tag=4954, qadb/sa-on-vip=66...  3204901  \n"
          ]
        }
      ]
    },
    {
      "cell_type": "markdown",
      "source": [
        "El dataset contiene 141553 registros y 6 columnas como se explicó en el enunciado."
      ],
      "metadata": {
        "id": "I0sno3G6UX8B"
      }
    },
    {
      "cell_type": "code",
      "source": [
        "# Contar entradas que continen el valor BUY.\n",
        "count_buy = len(data[data['event_name'] == 'BUY'])\n",
        "print(\"Número de valores 'BUY':\", count_buy)"
      ],
      "metadata": {
        "colab": {
          "base_uri": "https://localhost:8080/"
        },
        "id": "KrYxojjXWXsW",
        "outputId": "e6f56501-36ef-47a5-c97a-a3f6d042156b"
      },
      "execution_count": 10,
      "outputs": [
        {
          "output_type": "stream",
          "name": "stdout",
          "text": [
            "Número de valores 'BUY': 1088\n"
          ]
        }
      ]
    },
    {
      "cell_type": "markdown",
      "source": [
        "Se observa que de los 141553 registros solo 1088 corresponden a compra realizada, es decir, el 0.77% del total de registros."
      ],
      "metadata": {
        "id": "Sws8KMn0W0Ux"
      }
    },
    {
      "cell_type": "code",
      "source": [
        "# Obtener información de los datos.\n",
        "data.info()"
      ],
      "metadata": {
        "colab": {
          "base_uri": "https://localhost:8080/"
        },
        "id": "ITi4ln0BHQ4V",
        "outputId": "a3c8c571-4809-416f-9686-9f7b3950221f"
      },
      "execution_count": 8,
      "outputs": [
        {
          "output_type": "stream",
          "name": "stdout",
          "text": [
            "<class 'pandas.core.frame.DataFrame'>\n",
            "RangeIndex: 141553 entries, 0 to 141552\n",
            "Data columns (total 6 columns):\n",
            " #   Column       Non-Null Count   Dtype  \n",
            "---  ------       --------------   -----  \n",
            " 0   event_name   141553 non-null  object \n",
            " 1   item_id      64803 non-null   float64\n",
            " 2   timestamp    141553 non-null  object \n",
            " 3   site         141553 non-null  object \n",
            " 4   experiments  141553 non-null  object \n",
            " 5   user_id      141553 non-null  int64  \n",
            "dtypes: float64(1), int64(1), object(4)\n",
            "memory usage: 6.5+ MB\n"
          ]
        }
      ]
    },
    {
      "cell_type": "markdown",
      "source": [
        "Todas las columnas tienen 141553 valores excepto item_id que solo contiene 64803 entradas no nulas, sin embargo, no se considera relevante ya que el análisis se enfoca a los experimentos no al item como tal."
      ],
      "metadata": {
        "id": "4rM-p3EdUe3k"
      }
    },
    {
      "cell_type": "markdown",
      "source": [
        "##**Procesamiento para agregación**"
      ],
      "metadata": {
        "id": "KGTNDlEpKkAp"
      }
    },
    {
      "cell_type": "code",
      "source": [
        "# Convertir la columna timestamp a tipo datetime\n",
        "data['timestamp'] = pd.to_datetime(data['timestamp'])\n",
        "\n",
        "# Crear una columna Day con el formato YYYY-MM-DD\n",
        "data['Day'] = data['timestamp'].apply(lambda x: datetime.strftime(x, '%Y-%m-%d %H'))\n",
        "\n",
        "# Dividir la columna experiments en dos nuevas columnas: Experiment y Variant\n",
        "data[['Experiment', 'Variant']] = data['experiments'].str.extractall(r'([^=,}]+)=([^=,}]+)').reset_index(drop=True)[[0, 1]]\n",
        "\n",
        "# Contar la cantidad de user_id y BUY para cada combinación de Day, Experiment y Variant\n",
        "agg_data = data.groupby(['Day', 'Experiment', 'Variant']).agg({'user_id': 'nunique'}).reset_index()\n",
        "buy_data = data[data['event_name'] == 'BUY'].groupby(['Day', 'Experiment', 'Variant']).agg({'event_name': 'count'}).reset_index()\n",
        "\n",
        "# Unir los dos dataframes en uno\n",
        "final_data = pd.merge(agg_data, buy_data, on=['Day', 'Experiment', 'Variant'], how='outer').fillna(0)\n",
        "final_data.columns = ['Day', 'Experiment', 'Variant', 'Users', 'Buy']\n",
        "\n",
        "# Ordenar el dataframe por Day, Experiment y Variant\n",
        "final_data = final_data.sort_values(['Day', 'Experiment', 'Variant'])\n"
      ],
      "metadata": {
        "id": "CdNDM8p_NdhN"
      },
      "execution_count": 11,
      "outputs": []
    },
    {
      "cell_type": "markdown",
      "source": [
        "En el procesamiento para agregación se busca transformar la cadena de navegación de los usuario en la muestra a una agregación más útil en la que se puede ver a nivel de hora y día (Day) el resultado de cada experimento en cada una de sus variantes, el resultado se puede evaluar como cantidad de usuarios que participaron del experimento y cantidad de compras asociadas a la variante."
      ],
      "metadata": {
        "id": "fZjbds3_U24D"
      }
    },
    {
      "cell_type": "code",
      "source": [
        "# Imprimir el dataframe final\n",
        "final_data"
      ],
      "metadata": {
        "colab": {
          "base_uri": "https://localhost:8080/",
          "height": 424
        },
        "id": "UVSXbnewNmRF",
        "outputId": "8faa4f7e-5a2e-4599-b4d3-40ce31a6bfac"
      },
      "execution_count": 12,
      "outputs": [
        {
          "output_type": "execute_result",
          "data": {
            "text/plain": [
              "                Day                                      Experiment  Variant  \\\n",
              "0     2021-08-01 09                            cookiesConsentBanner  DEFAULT   \n",
              "1     2021-08-01 09                     frontend/assetsCdnDomainMLA  DEFAULT   \n",
              "2     2021-08-01 09                         mclics/show-pads-global     5176   \n",
              "3     2021-08-01 09                    mclics/show-pads-search-list     5146   \n",
              "4     2021-08-01 09   pdp/viewItemPageMigrationDesktopReviewsNoTabs     4856   \n",
              "...             ...                                             ...      ...   \n",
              "1847  2021-08-02 23               {search/results-target-web-motors     7327   \n",
              "1848  2021-08-02 23               {search/results-target-web-motors     7328   \n",
              "1849  2021-08-02 23             {searchbackend/recommended-products     6157   \n",
              "1850  2021-08-02 23             {searchbackend/recommended-products     6158   \n",
              "1851  2021-08-02 23                        {vip/showV2V3BoxMessages     6430   \n",
              "\n",
              "      Users  Buy  \n",
              "0         1  0.0  \n",
              "1         1  0.0  \n",
              "2         1  0.0  \n",
              "3         1  0.0  \n",
              "4         1  0.0  \n",
              "...     ...  ...  \n",
              "1847      1  0.0  \n",
              "1848      5  0.0  \n",
              "1849     28  0.0  \n",
              "1850     38  2.0  \n",
              "1851     17  0.0  \n",
              "\n",
              "[1852 rows x 5 columns]"
            ],
            "text/html": [
              "\n",
              "  <div id=\"df-efa7773d-5ef0-458f-a4c0-77653f82d88a\">\n",
              "    <div class=\"colab-df-container\">\n",
              "      <div>\n",
              "<style scoped>\n",
              "    .dataframe tbody tr th:only-of-type {\n",
              "        vertical-align: middle;\n",
              "    }\n",
              "\n",
              "    .dataframe tbody tr th {\n",
              "        vertical-align: top;\n",
              "    }\n",
              "\n",
              "    .dataframe thead th {\n",
              "        text-align: right;\n",
              "    }\n",
              "</style>\n",
              "<table border=\"1\" class=\"dataframe\">\n",
              "  <thead>\n",
              "    <tr style=\"text-align: right;\">\n",
              "      <th></th>\n",
              "      <th>Day</th>\n",
              "      <th>Experiment</th>\n",
              "      <th>Variant</th>\n",
              "      <th>Users</th>\n",
              "      <th>Buy</th>\n",
              "    </tr>\n",
              "  </thead>\n",
              "  <tbody>\n",
              "    <tr>\n",
              "      <th>0</th>\n",
              "      <td>2021-08-01 09</td>\n",
              "      <td>cookiesConsentBanner</td>\n",
              "      <td>DEFAULT</td>\n",
              "      <td>1</td>\n",
              "      <td>0.0</td>\n",
              "    </tr>\n",
              "    <tr>\n",
              "      <th>1</th>\n",
              "      <td>2021-08-01 09</td>\n",
              "      <td>frontend/assetsCdnDomainMLA</td>\n",
              "      <td>DEFAULT</td>\n",
              "      <td>1</td>\n",
              "      <td>0.0</td>\n",
              "    </tr>\n",
              "    <tr>\n",
              "      <th>2</th>\n",
              "      <td>2021-08-01 09</td>\n",
              "      <td>mclics/show-pads-global</td>\n",
              "      <td>5176</td>\n",
              "      <td>1</td>\n",
              "      <td>0.0</td>\n",
              "    </tr>\n",
              "    <tr>\n",
              "      <th>3</th>\n",
              "      <td>2021-08-01 09</td>\n",
              "      <td>mclics/show-pads-search-list</td>\n",
              "      <td>5146</td>\n",
              "      <td>1</td>\n",
              "      <td>0.0</td>\n",
              "    </tr>\n",
              "    <tr>\n",
              "      <th>4</th>\n",
              "      <td>2021-08-01 09</td>\n",
              "      <td>pdp/viewItemPageMigrationDesktopReviewsNoTabs</td>\n",
              "      <td>4856</td>\n",
              "      <td>1</td>\n",
              "      <td>0.0</td>\n",
              "    </tr>\n",
              "    <tr>\n",
              "      <th>...</th>\n",
              "      <td>...</td>\n",
              "      <td>...</td>\n",
              "      <td>...</td>\n",
              "      <td>...</td>\n",
              "      <td>...</td>\n",
              "    </tr>\n",
              "    <tr>\n",
              "      <th>1847</th>\n",
              "      <td>2021-08-02 23</td>\n",
              "      <td>{search/results-target-web-motors</td>\n",
              "      <td>7327</td>\n",
              "      <td>1</td>\n",
              "      <td>0.0</td>\n",
              "    </tr>\n",
              "    <tr>\n",
              "      <th>1848</th>\n",
              "      <td>2021-08-02 23</td>\n",
              "      <td>{search/results-target-web-motors</td>\n",
              "      <td>7328</td>\n",
              "      <td>5</td>\n",
              "      <td>0.0</td>\n",
              "    </tr>\n",
              "    <tr>\n",
              "      <th>1849</th>\n",
              "      <td>2021-08-02 23</td>\n",
              "      <td>{searchbackend/recommended-products</td>\n",
              "      <td>6157</td>\n",
              "      <td>28</td>\n",
              "      <td>0.0</td>\n",
              "    </tr>\n",
              "    <tr>\n",
              "      <th>1850</th>\n",
              "      <td>2021-08-02 23</td>\n",
              "      <td>{searchbackend/recommended-products</td>\n",
              "      <td>6158</td>\n",
              "      <td>38</td>\n",
              "      <td>2.0</td>\n",
              "    </tr>\n",
              "    <tr>\n",
              "      <th>1851</th>\n",
              "      <td>2021-08-02 23</td>\n",
              "      <td>{vip/showV2V3BoxMessages</td>\n",
              "      <td>6430</td>\n",
              "      <td>17</td>\n",
              "      <td>0.0</td>\n",
              "    </tr>\n",
              "  </tbody>\n",
              "</table>\n",
              "<p>1852 rows × 5 columns</p>\n",
              "</div>\n",
              "      <button class=\"colab-df-convert\" onclick=\"convertToInteractive('df-efa7773d-5ef0-458f-a4c0-77653f82d88a')\"\n",
              "              title=\"Convert this dataframe to an interactive table.\"\n",
              "              style=\"display:none;\">\n",
              "        \n",
              "  <svg xmlns=\"http://www.w3.org/2000/svg\" height=\"24px\"viewBox=\"0 0 24 24\"\n",
              "       width=\"24px\">\n",
              "    <path d=\"M0 0h24v24H0V0z\" fill=\"none\"/>\n",
              "    <path d=\"M18.56 5.44l.94 2.06.94-2.06 2.06-.94-2.06-.94-.94-2.06-.94 2.06-2.06.94zm-11 1L8.5 8.5l.94-2.06 2.06-.94-2.06-.94L8.5 2.5l-.94 2.06-2.06.94zm10 10l.94 2.06.94-2.06 2.06-.94-2.06-.94-.94-2.06-.94 2.06-2.06.94z\"/><path d=\"M17.41 7.96l-1.37-1.37c-.4-.4-.92-.59-1.43-.59-.52 0-1.04.2-1.43.59L10.3 9.45l-7.72 7.72c-.78.78-.78 2.05 0 2.83L4 21.41c.39.39.9.59 1.41.59.51 0 1.02-.2 1.41-.59l7.78-7.78 2.81-2.81c.8-.78.8-2.07 0-2.86zM5.41 20L4 18.59l7.72-7.72 1.47 1.35L5.41 20z\"/>\n",
              "  </svg>\n",
              "      </button>\n",
              "      \n",
              "  <style>\n",
              "    .colab-df-container {\n",
              "      display:flex;\n",
              "      flex-wrap:wrap;\n",
              "      gap: 12px;\n",
              "    }\n",
              "\n",
              "    .colab-df-convert {\n",
              "      background-color: #E8F0FE;\n",
              "      border: none;\n",
              "      border-radius: 50%;\n",
              "      cursor: pointer;\n",
              "      display: none;\n",
              "      fill: #1967D2;\n",
              "      height: 32px;\n",
              "      padding: 0 0 0 0;\n",
              "      width: 32px;\n",
              "    }\n",
              "\n",
              "    .colab-df-convert:hover {\n",
              "      background-color: #E2EBFA;\n",
              "      box-shadow: 0px 1px 2px rgba(60, 64, 67, 0.3), 0px 1px 3px 1px rgba(60, 64, 67, 0.15);\n",
              "      fill: #174EA6;\n",
              "    }\n",
              "\n",
              "    [theme=dark] .colab-df-convert {\n",
              "      background-color: #3B4455;\n",
              "      fill: #D2E3FC;\n",
              "    }\n",
              "\n",
              "    [theme=dark] .colab-df-convert:hover {\n",
              "      background-color: #434B5C;\n",
              "      box-shadow: 0px 1px 3px 1px rgba(0, 0, 0, 0.15);\n",
              "      filter: drop-shadow(0px 1px 2px rgba(0, 0, 0, 0.3));\n",
              "      fill: #FFFFFF;\n",
              "    }\n",
              "  </style>\n",
              "\n",
              "      <script>\n",
              "        const buttonEl =\n",
              "          document.querySelector('#df-efa7773d-5ef0-458f-a4c0-77653f82d88a button.colab-df-convert');\n",
              "        buttonEl.style.display =\n",
              "          google.colab.kernel.accessAllowed ? 'block' : 'none';\n",
              "\n",
              "        async function convertToInteractive(key) {\n",
              "          const element = document.querySelector('#df-efa7773d-5ef0-458f-a4c0-77653f82d88a');\n",
              "          const dataTable =\n",
              "            await google.colab.kernel.invokeFunction('convertToInteractive',\n",
              "                                                     [key], {});\n",
              "          if (!dataTable) return;\n",
              "\n",
              "          const docLinkHtml = 'Like what you see? Visit the ' +\n",
              "            '<a target=\"_blank\" href=https://colab.research.google.com/notebooks/data_table.ipynb>data table notebook</a>'\n",
              "            + ' to learn more about interactive tables.';\n",
              "          element.innerHTML = '';\n",
              "          dataTable['output_type'] = 'display_data';\n",
              "          await google.colab.output.renderOutput(dataTable, element);\n",
              "          const docLink = document.createElement('div');\n",
              "          docLink.innerHTML = docLinkHtml;\n",
              "          element.appendChild(docLink);\n",
              "        }\n",
              "      </script>\n",
              "    </div>\n",
              "  </div>\n",
              "  "
            ]
          },
          "metadata": {},
          "execution_count": 12
        }
      ]
    },
    {
      "cell_type": "code",
      "source": [
        "# Calcular la cantidad de variantes por experimento\n",
        "variants_per_experiment = final_data.groupby('Experiment')['Variant'].nunique()\n",
        "print(variants_per_experiment)\n"
      ],
      "metadata": {
        "colab": {
          "base_uri": "https://localhost:8080/"
        },
        "id": "9hP4HM2WOa1-",
        "outputId": "9e372e87-3642-4039-cb32-5ee626cc0cd6"
      },
      "execution_count": 13,
      "outputs": [
        {
          "output_type": "stream",
          "name": "stdout",
          "text": [
            "Experiment\n",
            " buyingflow/address_hub                               1\n",
            " buyingflow/escWebMLA                                 1\n",
            " buyingflow/secure_card                               1\n",
            " cookiesConsentBanner                                 1\n",
            " filters/sort-by-ranking                              3\n",
            " frontend/assetsCdnDomainMLA                          1\n",
            " frontend/assetsCdnDomainMLU                          1\n",
            " mclics/ads-adsearch-boost-incremental-desktop-mla    1\n",
            " mclics/search-list-algorithms                        1\n",
            " mclics/search-pads-none-desktop-mla                  2\n",
            " mclics/show-pads-global                              2\n",
            " mclics/show-pads-search-list                         2\n",
            " mshops/HideTransitionModal                           4\n",
            " pdp/cpgShowOnlyAddToCart                             1\n",
            " pdp/viewItemPageMigrationDesktopHirableSRV           1\n",
            " pdp/viewItemPageMigrationDesktopQuotableSRV          1\n",
            " pdp/viewItemPageMigrationDesktopReviewsNoTabs        2\n",
            " pdp/viewItemPageMigrationReturns                     2\n",
            " qadb/sa-on-vip                                       2\n",
            " search/back-filters                                  1\n",
            " search/best-seller-aa-testing-fail-fast-edition      2\n",
            " search/best-seller-fail-fast-edition-MLA             1\n",
            " search/checkOnBehavior                               2\n",
            " search/enable-map-layout                             1\n",
            " search/remove-ecn-tag                                1\n",
            " search/results-target-web-motors                     1\n",
            " search/tendency-landing-enabled-MLA                  1\n",
            " search/ungroup-products                              1\n",
            " search/web-layout-default-res                        2\n",
            " searchbackend/cbt-antiboost                          1\n",
            " searchbackend/item-reputation                        1\n",
            " searchbackend/official-store-orders-boost            2\n",
            " searchbackend/recommended-products                   2\n",
            " searchbackend/seller-reputation-change               2\n",
            " splinter/official-stores                             1\n",
            " vip/carousel-v2p-above-the-fold                      3\n",
            " vip/seller-with-tooltip                              1\n",
            " vip/shippingCalculatorMigrationModalExperiment       2\n",
            " vip/showV2V3BoxMessages                              2\n",
            "{buyingflow/user-track                                1\n",
            "{cookiesConsentBanner                                 1\n",
            "{mshops/HideTransitionModal                           2\n",
            "{pdp/viewItemPageMigrationDesktopRES                  1\n",
            "{qadb/sa-on-vip                                       2\n",
            "{search/remove-ecn-tag                                2\n",
            "{search/results-target-web-motors                     2\n",
            "{searchbackend/recommended-products                   2\n",
            "{vip/showV2V3BoxMessages                              1\n",
            "Name: Variant, dtype: int64\n"
          ]
        }
      ]
    },
    {
      "cell_type": "markdown",
      "source": [
        "Con el fin de conocer un poco más el comportamiento de los experimentos, se observa que 25 (53.2%) tienen una sola variante asociada, 19 (40.4%) tienen dos variantes asociadas, 2 (4.3%) tienen tres variantes asociadas y 1 (2.1%) tiene cuatro variantes asociadas."
      ],
      "metadata": {
        "id": "sbjvFj-1XK53"
      }
    },
    {
      "cell_type": "markdown",
      "source": [
        "##**Función para el AB Test por experimento**"
      ],
      "metadata": {
        "id": "jz7AITn3PQIG"
      }
    },
    {
      "cell_type": "code",
      "source": [
        "def ab_testing(data):\n",
        "    unique_variants = data['Variant'].nunique()\n",
        "\n",
        "    # Condición 1: Una variante única\n",
        "    if unique_variants == 1:\n",
        "        return data['Variant'].iloc[0]\n",
        "\n",
        "    # Condición 2: Dos variantes únicas\n",
        "    elif unique_variants == 2:\n",
        "        variant1_data = data[data['Variant'] == data['Variant'].unique()[0]]['Buy']\n",
        "        variant2_data = data[data['Variant'] == data['Variant'].unique()[1]]['Buy']\n",
        "        t_stat, p_val = ttest_ind(variant1_data, variant2_data)\n",
        "\n",
        "        if p_val < 0.05:\n",
        "            return data.groupby('Variant')['Buy'].mean().idxmax()\n",
        "        else:\n",
        "            return 'None'\n",
        "\n",
        "    # Condición 3: Tres o cuatro variantes únicas\n",
        "    elif unique_variants in [3, 4]:\n",
        "        anova_data = [data[data['Variant'] == v]['Buy'].tolist() for v in data['Variant'].unique()]\n",
        "        f_stat, p_val = f_oneway(*anova_data)\n",
        "\n",
        "        if p_val < 0.05:\n",
        "            mc = pairwise_tukeyhsd(np.concatenate(anova_data), np.repeat(data['Variant'].unique(), [len(a) for a in anova_data]), alpha=0.05)\n",
        "            winner_variant = None\n",
        "\n",
        "            for i, v in enumerate(data['Variant'].unique()):\n",
        "                if mc.reject[mc.groupsunique.tolist().index(v)]:\n",
        "                    if winner_variant is None or data[data['Variant'] == v]['Buy'].mean() > data[data['Variant'] == winner_variant]['Buy'].mean():\n",
        "                        winner_variant = v\n",
        "            return winner_variant\n",
        "        else:\n",
        "            return 'None'\n",
        "\n",
        "    else:\n",
        "        raise ValueError(\"Número de variantes no soportado\")\n",
        "\n",
        "# Aplicar la función ab_testing a cada grupo de experimentos\n",
        "winner_variants = final_data.groupby(['Experiment']).apply(ab_testing).reset_index()\n",
        "winner_variants.columns = ['Experiment', 'winner_variant']\n",
        "\n",
        "# Agregar la columna 'winner_variant' al dataframe 'final_data'\n",
        "final_data = final_data.merge(winner_variants, on='Experiment', how='left')\n",
        "\n"
      ],
      "metadata": {
        "colab": {
          "base_uri": "https://localhost:8080/"
        },
        "id": "XXs8GN3N-ybP",
        "outputId": "a165fa2f-3973-48f6-c082-dfa94c7a548e"
      },
      "execution_count": 14,
      "outputs": [
        {
          "output_type": "stream",
          "name": "stderr",
          "text": [
            "/usr/local/lib/python3.9/dist-packages/scipy/stats/_stats_py.py:3895: ConstantInputWarning: Each of the input arrays is constant;the F statistic is not defined or infinite\n",
            "  warnings.warn(stats.ConstantInputWarning(msg))\n",
            "/usr/local/lib/python3.9/dist-packages/scipy/stats/_stats_py.py:1214: RuntimeWarning: divide by zero encountered in true_divide\n",
            "  var *= np.divide(n, n-ddof)  # to avoid error on division by zero\n",
            "/usr/local/lib/python3.9/dist-packages/scipy/stats/_stats_py.py:1214: RuntimeWarning: invalid value encountered in double_scalars\n",
            "  var *= np.divide(n, n-ddof)  # to avoid error on division by zero\n"
          ]
        }
      ]
    },
    {
      "cell_type": "markdown",
      "source": [
        "Con el fin de encontrar las variantes ganadoras (winner_variant) por cada experimento se realizo un AB Test con diferentes condiciones.\n",
        "- Si un experimento posee una sola variante única entonces la variante ganadora será la misma variante ya que no se tiene referencia para realizar una comparación mediante test estadísticos.\n",
        "- Si un experimento posee dos variantes únicas entonces se realiza una prueba t para dos muestras independientes para comparar el promedio de las compras en ambas variantes. Si el valor-p es menor al nivel de significancia por defecto de 0.05 entonces existe una diferencia significativa entre las medias, es decir, se rechaza Ho y la función devolverá la variante con la media más alta. En caso de que no exista diferencia significativa la función devolverá 'None' ya que ninguna de las variantes es la ganadora, por lo tanto sería indiferente escoger una u otra.\n",
        "- Si un experimento posee tres o más variantes únicas se realiza un test de ANOVA para comparar las medias de las compras en las diferentes variantes. Si el valor-p es menor a 0.05 entonces existe diferencia significativa en al menos dos de las medias, luego se realiza una prueba port-hoc conocida como test de Tukey para identificar cual de las variantes posee una media significativamente más alta que las demás. Al final la función devuelve la variante ganadora. En caso de que no hayan diferencias signifitivas entre las diferentes medias la función devuelve 'None' ya que sería indiferente escoger una u otra variante pues todas generarían el mismo nivel de compras. \n",
        "\n",
        "Si las variantes unicas no son 1,2 3 o 4 entonces se genera un error indicando que la cantidad de variantes no es compatible. Aunque probar muchos grupos a la vez puede ser contraproducente para el experimento.\n",
        "\n",
        "Se aplica la función a cada grupo de experimentos en el dataframe y el resultado se almacena en el dataframe winner_variants y luego se combina con el dataframe final_data mediante merge en función de la columna 'Experiment' para agregar la nueva columna 'winner_variant' al dataframe final_data.\n",
        "\n",
        "Las asunciones y supuestos estadísticos, además del diseño de experimentos se puntualiza en el Read.me del repositorio."
      ],
      "metadata": {
        "id": "8S7cAVXlYRg3"
      }
    },
    {
      "cell_type": "code",
      "source": [
        "# Imprimir el dataframe final\n",
        "final_data\n"
      ],
      "metadata": {
        "colab": {
          "base_uri": "https://localhost:8080/",
          "height": 424
        },
        "id": "_YxeNG4iDKo4",
        "outputId": "9f3b3324-5959-407c-a499-0d3e78bcef03"
      },
      "execution_count": 15,
      "outputs": [
        {
          "output_type": "execute_result",
          "data": {
            "text/plain": [
              "                Day                                      Experiment  Variant  \\\n",
              "0     2021-08-01 09                            cookiesConsentBanner  DEFAULT   \n",
              "1     2021-08-01 09                     frontend/assetsCdnDomainMLA  DEFAULT   \n",
              "2     2021-08-01 09                         mclics/show-pads-global     5176   \n",
              "3     2021-08-01 09                    mclics/show-pads-search-list     5146   \n",
              "4     2021-08-01 09   pdp/viewItemPageMigrationDesktopReviewsNoTabs     4856   \n",
              "...             ...                                             ...      ...   \n",
              "1847  2021-08-02 23               {search/results-target-web-motors     7327   \n",
              "1848  2021-08-02 23               {search/results-target-web-motors     7328   \n",
              "1849  2021-08-02 23             {searchbackend/recommended-products     6157   \n",
              "1850  2021-08-02 23             {searchbackend/recommended-products     6158   \n",
              "1851  2021-08-02 23                        {vip/showV2V3BoxMessages     6430   \n",
              "\n",
              "      Users  Buy winner_variant  \n",
              "0         1  0.0        DEFAULT  \n",
              "1         1  0.0        DEFAULT  \n",
              "2         1  0.0           5176  \n",
              "3         1  0.0           5146  \n",
              "4         1  0.0           None  \n",
              "...     ...  ...            ...  \n",
              "1847      1  0.0           None  \n",
              "1848      5  0.0           None  \n",
              "1849     28  0.0           None  \n",
              "1850     38  2.0           None  \n",
              "1851     17  0.0           6430  \n",
              "\n",
              "[1852 rows x 6 columns]"
            ],
            "text/html": [
              "\n",
              "  <div id=\"df-299bce99-7de6-4c9e-a439-db70a0c87abc\">\n",
              "    <div class=\"colab-df-container\">\n",
              "      <div>\n",
              "<style scoped>\n",
              "    .dataframe tbody tr th:only-of-type {\n",
              "        vertical-align: middle;\n",
              "    }\n",
              "\n",
              "    .dataframe tbody tr th {\n",
              "        vertical-align: top;\n",
              "    }\n",
              "\n",
              "    .dataframe thead th {\n",
              "        text-align: right;\n",
              "    }\n",
              "</style>\n",
              "<table border=\"1\" class=\"dataframe\">\n",
              "  <thead>\n",
              "    <tr style=\"text-align: right;\">\n",
              "      <th></th>\n",
              "      <th>Day</th>\n",
              "      <th>Experiment</th>\n",
              "      <th>Variant</th>\n",
              "      <th>Users</th>\n",
              "      <th>Buy</th>\n",
              "      <th>winner_variant</th>\n",
              "    </tr>\n",
              "  </thead>\n",
              "  <tbody>\n",
              "    <tr>\n",
              "      <th>0</th>\n",
              "      <td>2021-08-01 09</td>\n",
              "      <td>cookiesConsentBanner</td>\n",
              "      <td>DEFAULT</td>\n",
              "      <td>1</td>\n",
              "      <td>0.0</td>\n",
              "      <td>DEFAULT</td>\n",
              "    </tr>\n",
              "    <tr>\n",
              "      <th>1</th>\n",
              "      <td>2021-08-01 09</td>\n",
              "      <td>frontend/assetsCdnDomainMLA</td>\n",
              "      <td>DEFAULT</td>\n",
              "      <td>1</td>\n",
              "      <td>0.0</td>\n",
              "      <td>DEFAULT</td>\n",
              "    </tr>\n",
              "    <tr>\n",
              "      <th>2</th>\n",
              "      <td>2021-08-01 09</td>\n",
              "      <td>mclics/show-pads-global</td>\n",
              "      <td>5176</td>\n",
              "      <td>1</td>\n",
              "      <td>0.0</td>\n",
              "      <td>5176</td>\n",
              "    </tr>\n",
              "    <tr>\n",
              "      <th>3</th>\n",
              "      <td>2021-08-01 09</td>\n",
              "      <td>mclics/show-pads-search-list</td>\n",
              "      <td>5146</td>\n",
              "      <td>1</td>\n",
              "      <td>0.0</td>\n",
              "      <td>5146</td>\n",
              "    </tr>\n",
              "    <tr>\n",
              "      <th>4</th>\n",
              "      <td>2021-08-01 09</td>\n",
              "      <td>pdp/viewItemPageMigrationDesktopReviewsNoTabs</td>\n",
              "      <td>4856</td>\n",
              "      <td>1</td>\n",
              "      <td>0.0</td>\n",
              "      <td>None</td>\n",
              "    </tr>\n",
              "    <tr>\n",
              "      <th>...</th>\n",
              "      <td>...</td>\n",
              "      <td>...</td>\n",
              "      <td>...</td>\n",
              "      <td>...</td>\n",
              "      <td>...</td>\n",
              "      <td>...</td>\n",
              "    </tr>\n",
              "    <tr>\n",
              "      <th>1847</th>\n",
              "      <td>2021-08-02 23</td>\n",
              "      <td>{search/results-target-web-motors</td>\n",
              "      <td>7327</td>\n",
              "      <td>1</td>\n",
              "      <td>0.0</td>\n",
              "      <td>None</td>\n",
              "    </tr>\n",
              "    <tr>\n",
              "      <th>1848</th>\n",
              "      <td>2021-08-02 23</td>\n",
              "      <td>{search/results-target-web-motors</td>\n",
              "      <td>7328</td>\n",
              "      <td>5</td>\n",
              "      <td>0.0</td>\n",
              "      <td>None</td>\n",
              "    </tr>\n",
              "    <tr>\n",
              "      <th>1849</th>\n",
              "      <td>2021-08-02 23</td>\n",
              "      <td>{searchbackend/recommended-products</td>\n",
              "      <td>6157</td>\n",
              "      <td>28</td>\n",
              "      <td>0.0</td>\n",
              "      <td>None</td>\n",
              "    </tr>\n",
              "    <tr>\n",
              "      <th>1850</th>\n",
              "      <td>2021-08-02 23</td>\n",
              "      <td>{searchbackend/recommended-products</td>\n",
              "      <td>6158</td>\n",
              "      <td>38</td>\n",
              "      <td>2.0</td>\n",
              "      <td>None</td>\n",
              "    </tr>\n",
              "    <tr>\n",
              "      <th>1851</th>\n",
              "      <td>2021-08-02 23</td>\n",
              "      <td>{vip/showV2V3BoxMessages</td>\n",
              "      <td>6430</td>\n",
              "      <td>17</td>\n",
              "      <td>0.0</td>\n",
              "      <td>6430</td>\n",
              "    </tr>\n",
              "  </tbody>\n",
              "</table>\n",
              "<p>1852 rows × 6 columns</p>\n",
              "</div>\n",
              "      <button class=\"colab-df-convert\" onclick=\"convertToInteractive('df-299bce99-7de6-4c9e-a439-db70a0c87abc')\"\n",
              "              title=\"Convert this dataframe to an interactive table.\"\n",
              "              style=\"display:none;\">\n",
              "        \n",
              "  <svg xmlns=\"http://www.w3.org/2000/svg\" height=\"24px\"viewBox=\"0 0 24 24\"\n",
              "       width=\"24px\">\n",
              "    <path d=\"M0 0h24v24H0V0z\" fill=\"none\"/>\n",
              "    <path d=\"M18.56 5.44l.94 2.06.94-2.06 2.06-.94-2.06-.94-.94-2.06-.94 2.06-2.06.94zm-11 1L8.5 8.5l.94-2.06 2.06-.94-2.06-.94L8.5 2.5l-.94 2.06-2.06.94zm10 10l.94 2.06.94-2.06 2.06-.94-2.06-.94-.94-2.06-.94 2.06-2.06.94z\"/><path d=\"M17.41 7.96l-1.37-1.37c-.4-.4-.92-.59-1.43-.59-.52 0-1.04.2-1.43.59L10.3 9.45l-7.72 7.72c-.78.78-.78 2.05 0 2.83L4 21.41c.39.39.9.59 1.41.59.51 0 1.02-.2 1.41-.59l7.78-7.78 2.81-2.81c.8-.78.8-2.07 0-2.86zM5.41 20L4 18.59l7.72-7.72 1.47 1.35L5.41 20z\"/>\n",
              "  </svg>\n",
              "      </button>\n",
              "      \n",
              "  <style>\n",
              "    .colab-df-container {\n",
              "      display:flex;\n",
              "      flex-wrap:wrap;\n",
              "      gap: 12px;\n",
              "    }\n",
              "\n",
              "    .colab-df-convert {\n",
              "      background-color: #E8F0FE;\n",
              "      border: none;\n",
              "      border-radius: 50%;\n",
              "      cursor: pointer;\n",
              "      display: none;\n",
              "      fill: #1967D2;\n",
              "      height: 32px;\n",
              "      padding: 0 0 0 0;\n",
              "      width: 32px;\n",
              "    }\n",
              "\n",
              "    .colab-df-convert:hover {\n",
              "      background-color: #E2EBFA;\n",
              "      box-shadow: 0px 1px 2px rgba(60, 64, 67, 0.3), 0px 1px 3px 1px rgba(60, 64, 67, 0.15);\n",
              "      fill: #174EA6;\n",
              "    }\n",
              "\n",
              "    [theme=dark] .colab-df-convert {\n",
              "      background-color: #3B4455;\n",
              "      fill: #D2E3FC;\n",
              "    }\n",
              "\n",
              "    [theme=dark] .colab-df-convert:hover {\n",
              "      background-color: #434B5C;\n",
              "      box-shadow: 0px 1px 3px 1px rgba(0, 0, 0, 0.15);\n",
              "      filter: drop-shadow(0px 1px 2px rgba(0, 0, 0, 0.3));\n",
              "      fill: #FFFFFF;\n",
              "    }\n",
              "  </style>\n",
              "\n",
              "      <script>\n",
              "        const buttonEl =\n",
              "          document.querySelector('#df-299bce99-7de6-4c9e-a439-db70a0c87abc button.colab-df-convert');\n",
              "        buttonEl.style.display =\n",
              "          google.colab.kernel.accessAllowed ? 'block' : 'none';\n",
              "\n",
              "        async function convertToInteractive(key) {\n",
              "          const element = document.querySelector('#df-299bce99-7de6-4c9e-a439-db70a0c87abc');\n",
              "          const dataTable =\n",
              "            await google.colab.kernel.invokeFunction('convertToInteractive',\n",
              "                                                     [key], {});\n",
              "          if (!dataTable) return;\n",
              "\n",
              "          const docLinkHtml = 'Like what you see? Visit the ' +\n",
              "            '<a target=\"_blank\" href=https://colab.research.google.com/notebooks/data_table.ipynb>data table notebook</a>'\n",
              "            + ' to learn more about interactive tables.';\n",
              "          element.innerHTML = '';\n",
              "          dataTable['output_type'] = 'display_data';\n",
              "          await google.colab.output.renderOutput(dataTable, element);\n",
              "          const docLink = document.createElement('div');\n",
              "          docLink.innerHTML = docLinkHtml;\n",
              "          element.appendChild(docLink);\n",
              "        }\n",
              "      </script>\n",
              "    </div>\n",
              "  </div>\n",
              "  "
            ]
          },
          "metadata": {},
          "execution_count": 15
        }
      ]
    },
    {
      "cell_type": "code",
      "source": [
        "# Guardar el dataframe final en Drive como .txt\n",
        "file_path = '/content/drive/MyDrive/final_data.txt'\n",
        "final_data.to_csv(file_path, sep='\\t', index=False)\n"
      ],
      "metadata": {
        "id": "xqdGI49sCjcZ"
      },
      "execution_count": 16,
      "outputs": []
    },
    {
      "cell_type": "markdown",
      "source": [
        "Se guarda el dataframe final_data en un archivo .txt que posteriormente será cargado a github para que la API lo consuma."
      ],
      "metadata": {
        "id": "0gxTd9GVb8oh"
      }
    },
    {
      "cell_type": "markdown",
      "source": [
        "##**Cargue de la data a BigQuery**"
      ],
      "metadata": {
        "id": "9KfDazdCQK9Q"
      }
    },
    {
      "cell_type": "code",
      "source": [
        "# Instala la biblioteca de cliente de BigQuery para Python.\n",
        "!pip install google-cloud-bigquery\n"
      ],
      "metadata": {
        "colab": {
          "base_uri": "https://localhost:8080/"
        },
        "id": "j6iNSQ8QQMkx",
        "outputId": "89f5c318-b9e1-4cdd-c029-f242a66b7d88"
      },
      "execution_count": null,
      "outputs": [
        {
          "output_type": "stream",
          "name": "stdout",
          "text": [
            "Looking in indexes: https://pypi.org/simple, https://us-python.pkg.dev/colab-wheels/public/simple/\n",
            "Requirement already satisfied: google-cloud-bigquery in /usr/local/lib/python3.9/dist-packages (3.9.0)\n",
            "Requirement already satisfied: google-api-core[grpc]!=2.0.*,!=2.1.*,!=2.2.*,!=2.3.0,<3.0.0dev,>=1.31.5 in /usr/local/lib/python3.9/dist-packages (from google-cloud-bigquery) (2.11.0)\n",
            "Requirement already satisfied: packaging>=20.0.0 in /usr/local/lib/python3.9/dist-packages (from google-cloud-bigquery) (23.0)\n",
            "Requirement already satisfied: protobuf!=3.20.0,!=3.20.1,!=4.21.0,!=4.21.1,!=4.21.2,!=4.21.3,!=4.21.4,!=4.21.5,<5.0.0dev,>=3.19.5 in /usr/local/lib/python3.9/dist-packages (from google-cloud-bigquery) (3.20.3)\n",
            "Requirement already satisfied: google-resumable-media<3.0dev,>=0.6.0 in /usr/local/lib/python3.9/dist-packages (from google-cloud-bigquery) (2.4.1)\n",
            "Requirement already satisfied: grpcio<2.0dev,>=1.47.0 in /usr/local/lib/python3.9/dist-packages (from google-cloud-bigquery) (1.53.0)\n",
            "Requirement already satisfied: requests<3.0.0dev,>=2.21.0 in /usr/local/lib/python3.9/dist-packages (from google-cloud-bigquery) (2.27.1)\n",
            "Requirement already satisfied: proto-plus<2.0.0dev,>=1.15.0 in /usr/local/lib/python3.9/dist-packages (from google-cloud-bigquery) (1.22.2)\n",
            "Requirement already satisfied: google-cloud-core<3.0.0dev,>=1.6.0 in /usr/local/lib/python3.9/dist-packages (from google-cloud-bigquery) (2.3.2)\n",
            "Requirement already satisfied: python-dateutil<3.0dev,>=2.7.2 in /usr/local/lib/python3.9/dist-packages (from google-cloud-bigquery) (2.8.2)\n",
            "Requirement already satisfied: google-auth<3.0dev,>=2.14.1 in /usr/local/lib/python3.9/dist-packages (from google-api-core[grpc]!=2.0.*,!=2.1.*,!=2.2.*,!=2.3.0,<3.0.0dev,>=1.31.5->google-cloud-bigquery) (2.17.2)\n",
            "Requirement already satisfied: googleapis-common-protos<2.0dev,>=1.56.2 in /usr/local/lib/python3.9/dist-packages (from google-api-core[grpc]!=2.0.*,!=2.1.*,!=2.2.*,!=2.3.0,<3.0.0dev,>=1.31.5->google-cloud-bigquery) (1.59.0)\n",
            "Requirement already satisfied: grpcio-status<2.0dev,>=1.33.2 in /usr/local/lib/python3.9/dist-packages (from google-api-core[grpc]!=2.0.*,!=2.1.*,!=2.2.*,!=2.3.0,<3.0.0dev,>=1.31.5->google-cloud-bigquery) (1.48.2)\n",
            "Requirement already satisfied: google-crc32c<2.0dev,>=1.0 in /usr/local/lib/python3.9/dist-packages (from google-resumable-media<3.0dev,>=0.6.0->google-cloud-bigquery) (1.5.0)\n",
            "Requirement already satisfied: six>=1.5 in /usr/local/lib/python3.9/dist-packages (from python-dateutil<3.0dev,>=2.7.2->google-cloud-bigquery) (1.16.0)\n",
            "Requirement already satisfied: urllib3<1.27,>=1.21.1 in /usr/local/lib/python3.9/dist-packages (from requests<3.0.0dev,>=2.21.0->google-cloud-bigquery) (1.26.15)\n",
            "Requirement already satisfied: idna<4,>=2.5 in /usr/local/lib/python3.9/dist-packages (from requests<3.0.0dev,>=2.21.0->google-cloud-bigquery) (3.4)\n",
            "Requirement already satisfied: charset-normalizer~=2.0.0 in /usr/local/lib/python3.9/dist-packages (from requests<3.0.0dev,>=2.21.0->google-cloud-bigquery) (2.0.12)\n",
            "Requirement already satisfied: certifi>=2017.4.17 in /usr/local/lib/python3.9/dist-packages (from requests<3.0.0dev,>=2.21.0->google-cloud-bigquery) (2022.12.7)\n",
            "Requirement already satisfied: pyasn1-modules>=0.2.1 in /usr/local/lib/python3.9/dist-packages (from google-auth<3.0dev,>=2.14.1->google-api-core[grpc]!=2.0.*,!=2.1.*,!=2.2.*,!=2.3.0,<3.0.0dev,>=1.31.5->google-cloud-bigquery) (0.2.8)\n",
            "Requirement already satisfied: rsa<5,>=3.1.4 in /usr/local/lib/python3.9/dist-packages (from google-auth<3.0dev,>=2.14.1->google-api-core[grpc]!=2.0.*,!=2.1.*,!=2.2.*,!=2.3.0,<3.0.0dev,>=1.31.5->google-cloud-bigquery) (4.9)\n",
            "Requirement already satisfied: cachetools<6.0,>=2.0.0 in /usr/local/lib/python3.9/dist-packages (from google-auth<3.0dev,>=2.14.1->google-api-core[grpc]!=2.0.*,!=2.1.*,!=2.2.*,!=2.3.0,<3.0.0dev,>=1.31.5->google-cloud-bigquery) (5.3.0)\n",
            "Requirement already satisfied: pyasn1<0.5.0,>=0.4.6 in /usr/local/lib/python3.9/dist-packages (from pyasn1-modules>=0.2.1->google-auth<3.0dev,>=2.14.1->google-api-core[grpc]!=2.0.*,!=2.1.*,!=2.2.*,!=2.3.0,<3.0.0dev,>=1.31.5->google-cloud-bigquery) (0.4.8)\n"
          ]
        }
      ]
    },
    {
      "cell_type": "code",
      "source": [
        "# Autenticar mi cuenta de Google en Colab.\n",
        "auth.authenticate_user()"
      ],
      "metadata": {
        "id": "h99JNyKoQx7R"
      },
      "execution_count": null,
      "outputs": []
    },
    {
      "cell_type": "code",
      "source": [
        "# Definir las variables del proyecto.\n",
        "project_id = 'prueba-meli-384022'\n",
        "dataset_id = 'abtesting'\n",
        "table_id = 'final_data'\n"
      ],
      "metadata": {
        "id": "Zp2Lqe3ZQ8oy"
      },
      "execution_count": null,
      "outputs": []
    },
    {
      "cell_type": "code",
      "source": [
        "# Crear una instancia del cliente de BigQuery y un objeto TableReference para la tabla de destino\n",
        "client = bigquery.Client(project=project_id)\n",
        "table_ref = client.dataset(dataset_id).table(table_id)"
      ],
      "metadata": {
        "id": "0e3pjI4uR6PI"
      },
      "execution_count": null,
      "outputs": []
    },
    {
      "cell_type": "code",
      "source": [
        "# Crear el conjunto de datos si aún no existe.\n",
        "dataset = bigquery.Dataset(client.dataset(dataset_id))\n",
        "try:\n",
        "    client.create_dataset(dataset)\n",
        "    print(f\"Dataset {dataset_id} creado.\")\n",
        "except Exception as e:\n",
        "    print(f\"El dataset {dataset_id} ya existe.\")"
      ],
      "metadata": {
        "colab": {
          "base_uri": "https://localhost:8080/"
        },
        "id": "m1Ok1UFNSEwv",
        "outputId": "caf47a41-01c3-44e8-c98b-9a6ddd690e25"
      },
      "execution_count": null,
      "outputs": [
        {
          "output_type": "stream",
          "name": "stdout",
          "text": [
            "El dataset abtesting ya existe.\n"
          ]
        }
      ]
    },
    {
      "cell_type": "code",
      "source": [
        "# Guardar el DataFrame como un archivo Parquet temporal\n",
        "temp_parquet = tempfile.NamedTemporaryFile(delete=False, suffix='.parquet')\n",
        "final_data.to_parquet(temp_parquet.name)\n",
        "\n",
        "# Cargar el archivo Parquet temporal en BigQuery\n",
        "job_config = bigquery.LoadJobConfig()\n",
        "job_config.source_format = bigquery.SourceFormat.PARQUET\n",
        "job_config.autodetect = True\n",
        "\n",
        "with open(temp_parquet.name, \"rb\") as source_file:\n",
        "    job = client.load_table_from_file(source_file, 'prueba-meli-384022.abtesting.final_data', job_config=job_config)\n",
        "job.result()\n",
        "\n",
        "# Eliminar el archivo Parquet temporal\n",
        "temp_parquet.close()\n"
      ],
      "metadata": {
        "id": "cyOixlzISIUJ"
      },
      "execution_count": null,
      "outputs": []
    },
    {
      "cell_type": "markdown",
      "source": [
        "De esta manera se carga el dataframe final_data en una tabla en un dataset en un proyecto en BigQuery. La intención es disponer la tabla en la nube de Google para que pueda ser consumida por algún otro servicio. Inicialmente se dispuso en BigQuery para que la API la consumiera, por practicidad se decidió finalmente que la API consumiera la data desde un txt en github pero la tabla quedó cargada en BigQuery. La evidencia se adjunta en el read.me del repositorio."
      ],
      "metadata": {
        "id": "wO4_9tqAcf7u"
      }
    }
  ]
}