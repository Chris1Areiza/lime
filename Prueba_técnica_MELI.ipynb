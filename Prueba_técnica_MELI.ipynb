{
  "nbformat": 4,
  "nbformat_minor": 0,
  "metadata": {
    "colab": {
      "provenance": [],
      "authorship_tag": "ABX9TyPtrt3SlWOm1jkRnfuxab0i",
      "include_colab_link": true
    },
    "kernelspec": {
      "name": "python3",
      "display_name": "Python 3"
    },
    "language_info": {
      "name": "python"
    }
  },
  "cells": [
    {
      "cell_type": "markdown",
      "metadata": {
        "id": "view-in-github",
        "colab_type": "text"
      },
      "source": [
        "<a href=\"https://colab.research.google.com/github/Chris1Areiza/lime/blob/main/Prueba_t%C3%A9cnica_MELI.ipynb\" target=\"_parent\"><img src=\"https://colab.research.google.com/assets/colab-badge.svg\" alt=\"Open In Colab\"/></a>"
      ]
    },
    {
      "cell_type": "code",
      "execution_count": 11,
      "metadata": {
        "id": "-SR92yRKXzEc"
      },
      "outputs": [],
      "source": [
        "# ;Lets import libraries \n",
        "import pandas as pd\n",
        "from google.colab import drive"
      ]
    },
    {
      "cell_type": "code",
      "source": [
        "drive.mount('/content/drive')\n",
        "data=pd.read_csv('drive/MyDrive/datameli.csv',sep=',', index_col = None)"
      ],
      "metadata": {
        "colab": {
          "base_uri": "https://localhost:8080/"
        },
        "id": "BTxvSsJrYjP-",
        "outputId": "92eaf7de-5951-48a1-e602-f9d85033ae28"
      },
      "execution_count": 37,
      "outputs": [
        {
          "output_type": "stream",
          "name": "stdout",
          "text": [
            "Drive already mounted at /content/drive; to attempt to forcibly remount, call drive.mount(\"/content/drive\", force_remount=True).\n"
          ]
        }
      ]
    },
    {
      "cell_type": "code",
      "source": [
        "# finding shape of the dataframe\n",
        "print(data.shape)"
      ],
      "metadata": {
        "colab": {
          "base_uri": "https://localhost:8080/"
        },
        "id": "7ywZBh2EZUo8",
        "outputId": "8a837f5c-dff4-4756-91f4-6ea96b80622f"
      },
      "execution_count": 11,
      "outputs": [
        {
          "output_type": "stream",
          "name": "stdout",
          "text": [
            "(141553, 6)\n"
          ]
        }
      ]
    },
    {
      "cell_type": "code",
      "source": [
        "# Having a look at the data\n",
        "print(data.head())"
      ],
      "metadata": {
        "colab": {
          "base_uri": "https://localhost:8080/"
        },
        "id": "QWz3I_W4Zr4e",
        "outputId": "993a001a-0528-4d26-ef54-7c854fada53d"
      },
      "execution_count": 12,
      "outputs": [
        {
          "output_type": "stream",
          "name": "stdout",
          "text": [
            "  event_name      item_id                     timestamp site  \\\n",
            "0     SEARCH          NaN  2021-08-02T23:55:38.966-0400  MLA   \n",
            "1    PRODUCT  882352139.0  2021-08-02T23:55:51.673-0400  MLA   \n",
            "2    PRODUCT  655266729.0  2021-08-02T23:56:16.083-0400  MLA   \n",
            "3    PRODUCT  761520929.0  2021-08-02T23:56:29.989-0400  MLA   \n",
            "4    PRODUCT  757586409.0  2021-08-02T23:56:47.887-0400  MLA   \n",
            "\n",
            "                                         experiments  user_id  \n",
            "0  {searchbackend/recommended-products=6157, mcli...  3204901  \n",
            "1  {qadb/sa-on-vip=6695, vip/showV2V3BoxMessages=...  3204901  \n",
            "2  {qadb/sa-on-vip=6695, vip/showV2V3BoxMessages=...  3204901  \n",
            "3  {search/remove-ecn-tag=4954, qadb/sa-on-vip=66...  3204901  \n",
            "4  {search/remove-ecn-tag=4954, qadb/sa-on-vip=66...  3204901  \n"
          ]
        }
      ]
    },
    {
      "cell_type": "code",
      "source": [
        "import pandas as pd\n",
        "from datetime import datetime\n",
        "\n",
        "# convertir la columna timestamp a tipo datetime\n",
        "data['timestamp'] = pd.to_datetime(data['timestamp'])\n",
        "\n",
        "# crear una columna Day con el formato YYYY-MM-DD\n",
        "data['Day'] = data['timestamp'].apply(lambda x: datetime.strftime(x, '%Y-%m-%d %H'))\n",
        "\n",
        "# dividir la columna experiments en dos nuevas columnas: Experiment y Variant\n",
        "data[['Experiment', 'Variant']] = data['experiments'].str.extractall(r'([^=,}]+)=([^=,}]+)').reset_index(drop=True)[[0, 1]]\n",
        "\n",
        "# contar la cantidad de user_id y BUY para cada combinación de Day, Experiment y Variant\n",
        "agg_data = data.groupby(['Day', 'Experiment', 'Variant']).agg({'user_id': 'nunique'}).reset_index()\n",
        "buy_data = data[data['event_name'] == 'BUY'].groupby(['Day', 'Experiment', 'Variant']).agg({'event_name': 'count'}).reset_index()\n",
        "\n",
        "# unir los dos dataframes en uno solo\n",
        "final_data = pd.merge(agg_data, buy_data, on=['Day', 'Experiment', 'Variant'], how='outer').fillna(0)\n",
        "final_data.columns = ['Day', 'Experiment', 'Variant', 'Users', 'Buy']\n",
        "\n",
        "# ordenar el dataframe por Day, Experiment y Variant\n",
        "final_data = final_data.sort_values(['Day', 'Experiment', 'Variant'])\n"
      ],
      "metadata": {
        "id": "CdNDM8p_NdhN"
      },
      "execution_count": 38,
      "outputs": []
    },
    {
      "cell_type": "code",
      "source": [
        "final_data"
      ],
      "metadata": {
        "colab": {
          "base_uri": "https://localhost:8080/",
          "height": 423
        },
        "id": "UVSXbnewNmRF",
        "outputId": "1c2d9d76-26a4-468d-eb58-5080a6f1904d"
      },
      "execution_count": 39,
      "outputs": [
        {
          "output_type": "execute_result",
          "data": {
            "text/plain": [
              "                Day                                      Experiment  Variant  \\\n",
              "0     2021-08-01 09                            cookiesConsentBanner  DEFAULT   \n",
              "1     2021-08-01 09                     frontend/assetsCdnDomainMLA  DEFAULT   \n",
              "2     2021-08-01 09                         mclics/show-pads-global     5176   \n",
              "3     2021-08-01 09                    mclics/show-pads-search-list     5146   \n",
              "4     2021-08-01 09   pdp/viewItemPageMigrationDesktopReviewsNoTabs     4856   \n",
              "...             ...                                             ...      ...   \n",
              "1847  2021-08-02 23               {search/results-target-web-motors     7327   \n",
              "1848  2021-08-02 23               {search/results-target-web-motors     7328   \n",
              "1849  2021-08-02 23             {searchbackend/recommended-products     6157   \n",
              "1850  2021-08-02 23             {searchbackend/recommended-products     6158   \n",
              "1851  2021-08-02 23                        {vip/showV2V3BoxMessages     6430   \n",
              "\n",
              "      Users  Buy  \n",
              "0         1  0.0  \n",
              "1         1  0.0  \n",
              "2         1  0.0  \n",
              "3         1  0.0  \n",
              "4         1  0.0  \n",
              "...     ...  ...  \n",
              "1847      1  0.0  \n",
              "1848      5  0.0  \n",
              "1849     28  0.0  \n",
              "1850     38  2.0  \n",
              "1851     17  0.0  \n",
              "\n",
              "[1852 rows x 5 columns]"
            ],
            "text/html": [
              "\n",
              "  <div id=\"df-ca13e704-744a-4415-947b-4db4d1b0254a\">\n",
              "    <div class=\"colab-df-container\">\n",
              "      <div>\n",
              "<style scoped>\n",
              "    .dataframe tbody tr th:only-of-type {\n",
              "        vertical-align: middle;\n",
              "    }\n",
              "\n",
              "    .dataframe tbody tr th {\n",
              "        vertical-align: top;\n",
              "    }\n",
              "\n",
              "    .dataframe thead th {\n",
              "        text-align: right;\n",
              "    }\n",
              "</style>\n",
              "<table border=\"1\" class=\"dataframe\">\n",
              "  <thead>\n",
              "    <tr style=\"text-align: right;\">\n",
              "      <th></th>\n",
              "      <th>Day</th>\n",
              "      <th>Experiment</th>\n",
              "      <th>Variant</th>\n",
              "      <th>Users</th>\n",
              "      <th>Buy</th>\n",
              "    </tr>\n",
              "  </thead>\n",
              "  <tbody>\n",
              "    <tr>\n",
              "      <th>0</th>\n",
              "      <td>2021-08-01 09</td>\n",
              "      <td>cookiesConsentBanner</td>\n",
              "      <td>DEFAULT</td>\n",
              "      <td>1</td>\n",
              "      <td>0.0</td>\n",
              "    </tr>\n",
              "    <tr>\n",
              "      <th>1</th>\n",
              "      <td>2021-08-01 09</td>\n",
              "      <td>frontend/assetsCdnDomainMLA</td>\n",
              "      <td>DEFAULT</td>\n",
              "      <td>1</td>\n",
              "      <td>0.0</td>\n",
              "    </tr>\n",
              "    <tr>\n",
              "      <th>2</th>\n",
              "      <td>2021-08-01 09</td>\n",
              "      <td>mclics/show-pads-global</td>\n",
              "      <td>5176</td>\n",
              "      <td>1</td>\n",
              "      <td>0.0</td>\n",
              "    </tr>\n",
              "    <tr>\n",
              "      <th>3</th>\n",
              "      <td>2021-08-01 09</td>\n",
              "      <td>mclics/show-pads-search-list</td>\n",
              "      <td>5146</td>\n",
              "      <td>1</td>\n",
              "      <td>0.0</td>\n",
              "    </tr>\n",
              "    <tr>\n",
              "      <th>4</th>\n",
              "      <td>2021-08-01 09</td>\n",
              "      <td>pdp/viewItemPageMigrationDesktopReviewsNoTabs</td>\n",
              "      <td>4856</td>\n",
              "      <td>1</td>\n",
              "      <td>0.0</td>\n",
              "    </tr>\n",
              "    <tr>\n",
              "      <th>...</th>\n",
              "      <td>...</td>\n",
              "      <td>...</td>\n",
              "      <td>...</td>\n",
              "      <td>...</td>\n",
              "      <td>...</td>\n",
              "    </tr>\n",
              "    <tr>\n",
              "      <th>1847</th>\n",
              "      <td>2021-08-02 23</td>\n",
              "      <td>{search/results-target-web-motors</td>\n",
              "      <td>7327</td>\n",
              "      <td>1</td>\n",
              "      <td>0.0</td>\n",
              "    </tr>\n",
              "    <tr>\n",
              "      <th>1848</th>\n",
              "      <td>2021-08-02 23</td>\n",
              "      <td>{search/results-target-web-motors</td>\n",
              "      <td>7328</td>\n",
              "      <td>5</td>\n",
              "      <td>0.0</td>\n",
              "    </tr>\n",
              "    <tr>\n",
              "      <th>1849</th>\n",
              "      <td>2021-08-02 23</td>\n",
              "      <td>{searchbackend/recommended-products</td>\n",
              "      <td>6157</td>\n",
              "      <td>28</td>\n",
              "      <td>0.0</td>\n",
              "    </tr>\n",
              "    <tr>\n",
              "      <th>1850</th>\n",
              "      <td>2021-08-02 23</td>\n",
              "      <td>{searchbackend/recommended-products</td>\n",
              "      <td>6158</td>\n",
              "      <td>38</td>\n",
              "      <td>2.0</td>\n",
              "    </tr>\n",
              "    <tr>\n",
              "      <th>1851</th>\n",
              "      <td>2021-08-02 23</td>\n",
              "      <td>{vip/showV2V3BoxMessages</td>\n",
              "      <td>6430</td>\n",
              "      <td>17</td>\n",
              "      <td>0.0</td>\n",
              "    </tr>\n",
              "  </tbody>\n",
              "</table>\n",
              "<p>1852 rows × 5 columns</p>\n",
              "</div>\n",
              "      <button class=\"colab-df-convert\" onclick=\"convertToInteractive('df-ca13e704-744a-4415-947b-4db4d1b0254a')\"\n",
              "              title=\"Convert this dataframe to an interactive table.\"\n",
              "              style=\"display:none;\">\n",
              "        \n",
              "  <svg xmlns=\"http://www.w3.org/2000/svg\" height=\"24px\"viewBox=\"0 0 24 24\"\n",
              "       width=\"24px\">\n",
              "    <path d=\"M0 0h24v24H0V0z\" fill=\"none\"/>\n",
              "    <path d=\"M18.56 5.44l.94 2.06.94-2.06 2.06-.94-2.06-.94-.94-2.06-.94 2.06-2.06.94zm-11 1L8.5 8.5l.94-2.06 2.06-.94-2.06-.94L8.5 2.5l-.94 2.06-2.06.94zm10 10l.94 2.06.94-2.06 2.06-.94-2.06-.94-.94-2.06-.94 2.06-2.06.94z\"/><path d=\"M17.41 7.96l-1.37-1.37c-.4-.4-.92-.59-1.43-.59-.52 0-1.04.2-1.43.59L10.3 9.45l-7.72 7.72c-.78.78-.78 2.05 0 2.83L4 21.41c.39.39.9.59 1.41.59.51 0 1.02-.2 1.41-.59l7.78-7.78 2.81-2.81c.8-.78.8-2.07 0-2.86zM5.41 20L4 18.59l7.72-7.72 1.47 1.35L5.41 20z\"/>\n",
              "  </svg>\n",
              "      </button>\n",
              "      \n",
              "  <style>\n",
              "    .colab-df-container {\n",
              "      display:flex;\n",
              "      flex-wrap:wrap;\n",
              "      gap: 12px;\n",
              "    }\n",
              "\n",
              "    .colab-df-convert {\n",
              "      background-color: #E8F0FE;\n",
              "      border: none;\n",
              "      border-radius: 50%;\n",
              "      cursor: pointer;\n",
              "      display: none;\n",
              "      fill: #1967D2;\n",
              "      height: 32px;\n",
              "      padding: 0 0 0 0;\n",
              "      width: 32px;\n",
              "    }\n",
              "\n",
              "    .colab-df-convert:hover {\n",
              "      background-color: #E2EBFA;\n",
              "      box-shadow: 0px 1px 2px rgba(60, 64, 67, 0.3), 0px 1px 3px 1px rgba(60, 64, 67, 0.15);\n",
              "      fill: #174EA6;\n",
              "    }\n",
              "\n",
              "    [theme=dark] .colab-df-convert {\n",
              "      background-color: #3B4455;\n",
              "      fill: #D2E3FC;\n",
              "    }\n",
              "\n",
              "    [theme=dark] .colab-df-convert:hover {\n",
              "      background-color: #434B5C;\n",
              "      box-shadow: 0px 1px 3px 1px rgba(0, 0, 0, 0.15);\n",
              "      filter: drop-shadow(0px 1px 2px rgba(0, 0, 0, 0.3));\n",
              "      fill: #FFFFFF;\n",
              "    }\n",
              "  </style>\n",
              "\n",
              "      <script>\n",
              "        const buttonEl =\n",
              "          document.querySelector('#df-ca13e704-744a-4415-947b-4db4d1b0254a button.colab-df-convert');\n",
              "        buttonEl.style.display =\n",
              "          google.colab.kernel.accessAllowed ? 'block' : 'none';\n",
              "\n",
              "        async function convertToInteractive(key) {\n",
              "          const element = document.querySelector('#df-ca13e704-744a-4415-947b-4db4d1b0254a');\n",
              "          const dataTable =\n",
              "            await google.colab.kernel.invokeFunction('convertToInteractive',\n",
              "                                                     [key], {});\n",
              "          if (!dataTable) return;\n",
              "\n",
              "          const docLinkHtml = 'Like what you see? Visit the ' +\n",
              "            '<a target=\"_blank\" href=https://colab.research.google.com/notebooks/data_table.ipynb>data table notebook</a>'\n",
              "            + ' to learn more about interactive tables.';\n",
              "          element.innerHTML = '';\n",
              "          dataTable['output_type'] = 'display_data';\n",
              "          await google.colab.output.renderOutput(dataTable, element);\n",
              "          const docLink = document.createElement('div');\n",
              "          docLink.innerHTML = docLinkHtml;\n",
              "          element.appendChild(docLink);\n",
              "        }\n",
              "      </script>\n",
              "    </div>\n",
              "  </div>\n",
              "  "
            ]
          },
          "metadata": {},
          "execution_count": 39
        }
      ]
    },
    {
      "cell_type": "code",
      "source": [
        "variants_per_experiment = final_data.groupby('Experiment')['Variant'].nunique()\n",
        "print(variants_per_experiment)\n"
      ],
      "metadata": {
        "colab": {
          "base_uri": "https://localhost:8080/"
        },
        "id": "9hP4HM2WOa1-",
        "outputId": "f04e3deb-9bf4-4069-af35-86e244929946"
      },
      "execution_count": 40,
      "outputs": [
        {
          "output_type": "stream",
          "name": "stdout",
          "text": [
            "Experiment\n",
            " buyingflow/address_hub                               1\n",
            " buyingflow/escWebMLA                                 1\n",
            " buyingflow/secure_card                               1\n",
            " cookiesConsentBanner                                 1\n",
            " filters/sort-by-ranking                              3\n",
            " frontend/assetsCdnDomainMLA                          1\n",
            " frontend/assetsCdnDomainMLU                          1\n",
            " mclics/ads-adsearch-boost-incremental-desktop-mla    1\n",
            " mclics/search-list-algorithms                        1\n",
            " mclics/search-pads-none-desktop-mla                  2\n",
            " mclics/show-pads-global                              2\n",
            " mclics/show-pads-search-list                         2\n",
            " mshops/HideTransitionModal                           4\n",
            " pdp/cpgShowOnlyAddToCart                             1\n",
            " pdp/viewItemPageMigrationDesktopHirableSRV           1\n",
            " pdp/viewItemPageMigrationDesktopQuotableSRV          1\n",
            " pdp/viewItemPageMigrationDesktopReviewsNoTabs        2\n",
            " pdp/viewItemPageMigrationReturns                     2\n",
            " qadb/sa-on-vip                                       2\n",
            " search/back-filters                                  1\n",
            " search/best-seller-aa-testing-fail-fast-edition      2\n",
            " search/best-seller-fail-fast-edition-MLA             1\n",
            " search/checkOnBehavior                               2\n",
            " search/enable-map-layout                             1\n",
            " search/remove-ecn-tag                                1\n",
            " search/results-target-web-motors                     1\n",
            " search/tendency-landing-enabled-MLA                  1\n",
            " search/ungroup-products                              1\n",
            " search/web-layout-default-res                        2\n",
            " searchbackend/cbt-antiboost                          1\n",
            " searchbackend/item-reputation                        1\n",
            " searchbackend/official-store-orders-boost            2\n",
            " searchbackend/recommended-products                   2\n",
            " searchbackend/seller-reputation-change               2\n",
            " splinter/official-stores                             1\n",
            " vip/carousel-v2p-above-the-fold                      3\n",
            " vip/seller-with-tooltip                              1\n",
            " vip/shippingCalculatorMigrationModalExperiment       2\n",
            " vip/showV2V3BoxMessages                              2\n",
            "{buyingflow/user-track                                1\n",
            "{cookiesConsentBanner                                 1\n",
            "{mshops/HideTransitionModal                           2\n",
            "{pdp/viewItemPageMigrationDesktopRES                  1\n",
            "{qadb/sa-on-vip                                       2\n",
            "{search/remove-ecn-tag                                2\n",
            "{search/results-target-web-motors                     2\n",
            "{searchbackend/recommended-products                   2\n",
            "{vip/showV2V3BoxMessages                              1\n",
            "Name: Variant, dtype: int64\n"
          ]
        }
      ]
    },
    {
      "cell_type": "code",
      "source": [
        "import numpy as np\n",
        "from scipy.stats import f_oneway, ttest_ind\n",
        "from statsmodels.stats.multicomp import pairwise_tukeyhsd\n",
        "\n",
        "def ab_testing(data):\n",
        "    unique_variants = data['Variant'].nunique()\n",
        "\n",
        "    # Condición 1: Una variante única\n",
        "    if unique_variants == 1:\n",
        "        return data['Variant'].iloc[0]\n",
        "\n",
        "    # Condición 2: Dos variantes únicas\n",
        "    elif unique_variants == 2:\n",
        "        variant1_data = data[data['Variant'] == data['Variant'].unique()[0]]['Buy']\n",
        "        variant2_data = data[data['Variant'] == data['Variant'].unique()[1]]['Buy']\n",
        "        t_stat, p_val = ttest_ind(variant1_data, variant2_data)\n",
        "\n",
        "        if p_val < 0.05:\n",
        "            return data.groupby('Variant')['Buy'].mean().idxmax()\n",
        "        else:\n",
        "            return 'None'\n",
        "\n",
        "    # Condición 3: Tres o cuatro variantes únicas\n",
        "    elif unique_variants in [3, 4]:\n",
        "        anova_data = [data[data['Variant'] == v]['Buy'].tolist() for v in data['Variant'].unique()]\n",
        "        f_stat, p_val = f_oneway(*anova_data)\n",
        "\n",
        "        if p_val < 0.05:\n",
        "            mc = pairwise_tukeyhsd(np.concatenate(anova_data), np.repeat(data['Variant'].unique(), [len(a) for a in anova_data]), alpha=0.05)\n",
        "            winner_variant = None\n",
        "\n",
        "            for i, v in enumerate(data['Variant'].unique()):\n",
        "                if mc.reject[mc.groupsunique.tolist().index(v)]:\n",
        "                    if winner_variant is None or data[data['Variant'] == v]['Buy'].mean() > data[data['Variant'] == winner_variant]['Buy'].mean():\n",
        "                        winner_variant = v\n",
        "            return winner_variant\n",
        "        else:\n",
        "            return 'None'\n",
        "\n",
        "    else:\n",
        "        raise ValueError(\"Número de variantes no soportado\")\n",
        "\n",
        "# Aplicar la función ab_testing a cada grupo de experimentos\n",
        "winner_variants = final_data.groupby(['Experiment']).apply(ab_testing).reset_index()\n",
        "winner_variants.columns = ['Experiment', 'winner_variant']\n",
        "\n",
        "# Agregar la columna 'winner_variant' al dataframe 'final_data'\n",
        "final_data = final_data.merge(winner_variants, on='Experiment', how='left')\n",
        "\n"
      ],
      "metadata": {
        "colab": {
          "base_uri": "https://localhost:8080/"
        },
        "id": "XXs8GN3N-ybP",
        "outputId": "bfe18306-61af-4d12-e538-6a56f8bf3a17"
      },
      "execution_count": 41,
      "outputs": [
        {
          "output_type": "stream",
          "name": "stderr",
          "text": [
            "/usr/local/lib/python3.9/dist-packages/scipy/stats/_stats_py.py:3895: ConstantInputWarning: Each of the input arrays is constant;the F statistic is not defined or infinite\n",
            "  warnings.warn(stats.ConstantInputWarning(msg))\n",
            "/usr/local/lib/python3.9/dist-packages/scipy/stats/_stats_py.py:1214: RuntimeWarning: divide by zero encountered in true_divide\n",
            "  var *= np.divide(n, n-ddof)  # to avoid error on division by zero\n",
            "/usr/local/lib/python3.9/dist-packages/scipy/stats/_stats_py.py:1214: RuntimeWarning: invalid value encountered in double_scalars\n",
            "  var *= np.divide(n, n-ddof)  # to avoid error on division by zero\n"
          ]
        }
      ]
    },
    {
      "cell_type": "code",
      "source": [
        "final_data\n"
      ],
      "metadata": {
        "colab": {
          "base_uri": "https://localhost:8080/",
          "height": 659
        },
        "id": "_YxeNG4iDKo4",
        "outputId": "3e45f0e5-64b0-4a8a-c995-4c8b92fa101d"
      },
      "execution_count": 42,
      "outputs": [
        {
          "output_type": "execute_result",
          "data": {
            "text/plain": [
              "                Day                                      Experiment  Variant  \\\n",
              "0     2021-08-01 09                            cookiesConsentBanner  DEFAULT   \n",
              "1     2021-08-01 09                     frontend/assetsCdnDomainMLA  DEFAULT   \n",
              "2     2021-08-01 09                         mclics/show-pads-global     5176   \n",
              "3     2021-08-01 09                    mclics/show-pads-search-list     5146   \n",
              "4     2021-08-01 09   pdp/viewItemPageMigrationDesktopReviewsNoTabs     4856   \n",
              "...             ...                                             ...      ...   \n",
              "1847  2021-08-02 23               {search/results-target-web-motors     7327   \n",
              "1848  2021-08-02 23               {search/results-target-web-motors     7328   \n",
              "1849  2021-08-02 23             {searchbackend/recommended-products     6157   \n",
              "1850  2021-08-02 23             {searchbackend/recommended-products     6158   \n",
              "1851  2021-08-02 23                        {vip/showV2V3BoxMessages     6430   \n",
              "\n",
              "      Users  Buy winner_variant  \n",
              "0         1  0.0        DEFAULT  \n",
              "1         1  0.0        DEFAULT  \n",
              "2         1  0.0           5176  \n",
              "3         1  0.0           5146  \n",
              "4         1  0.0           None  \n",
              "...     ...  ...            ...  \n",
              "1847      1  0.0           None  \n",
              "1848      5  0.0           None  \n",
              "1849     28  0.0           None  \n",
              "1850     38  2.0           None  \n",
              "1851     17  0.0           6430  \n",
              "\n",
              "[1852 rows x 6 columns]"
            ],
            "text/html": [
              "\n",
              "  <div id=\"df-7e58f09e-60ef-4d14-a548-e38c68db5b0a\">\n",
              "    <div class=\"colab-df-container\">\n",
              "      <div>\n",
              "<style scoped>\n",
              "    .dataframe tbody tr th:only-of-type {\n",
              "        vertical-align: middle;\n",
              "    }\n",
              "\n",
              "    .dataframe tbody tr th {\n",
              "        vertical-align: top;\n",
              "    }\n",
              "\n",
              "    .dataframe thead th {\n",
              "        text-align: right;\n",
              "    }\n",
              "</style>\n",
              "<table border=\"1\" class=\"dataframe\">\n",
              "  <thead>\n",
              "    <tr style=\"text-align: right;\">\n",
              "      <th></th>\n",
              "      <th>Day</th>\n",
              "      <th>Experiment</th>\n",
              "      <th>Variant</th>\n",
              "      <th>Users</th>\n",
              "      <th>Buy</th>\n",
              "      <th>winner_variant</th>\n",
              "    </tr>\n",
              "  </thead>\n",
              "  <tbody>\n",
              "    <tr>\n",
              "      <th>0</th>\n",
              "      <td>2021-08-01 09</td>\n",
              "      <td>cookiesConsentBanner</td>\n",
              "      <td>DEFAULT</td>\n",
              "      <td>1</td>\n",
              "      <td>0.0</td>\n",
              "      <td>DEFAULT</td>\n",
              "    </tr>\n",
              "    <tr>\n",
              "      <th>1</th>\n",
              "      <td>2021-08-01 09</td>\n",
              "      <td>frontend/assetsCdnDomainMLA</td>\n",
              "      <td>DEFAULT</td>\n",
              "      <td>1</td>\n",
              "      <td>0.0</td>\n",
              "      <td>DEFAULT</td>\n",
              "    </tr>\n",
              "    <tr>\n",
              "      <th>2</th>\n",
              "      <td>2021-08-01 09</td>\n",
              "      <td>mclics/show-pads-global</td>\n",
              "      <td>5176</td>\n",
              "      <td>1</td>\n",
              "      <td>0.0</td>\n",
              "      <td>5176</td>\n",
              "    </tr>\n",
              "    <tr>\n",
              "      <th>3</th>\n",
              "      <td>2021-08-01 09</td>\n",
              "      <td>mclics/show-pads-search-list</td>\n",
              "      <td>5146</td>\n",
              "      <td>1</td>\n",
              "      <td>0.0</td>\n",
              "      <td>5146</td>\n",
              "    </tr>\n",
              "    <tr>\n",
              "      <th>4</th>\n",
              "      <td>2021-08-01 09</td>\n",
              "      <td>pdp/viewItemPageMigrationDesktopReviewsNoTabs</td>\n",
              "      <td>4856</td>\n",
              "      <td>1</td>\n",
              "      <td>0.0</td>\n",
              "      <td>None</td>\n",
              "    </tr>\n",
              "    <tr>\n",
              "      <th>...</th>\n",
              "      <td>...</td>\n",
              "      <td>...</td>\n",
              "      <td>...</td>\n",
              "      <td>...</td>\n",
              "      <td>...</td>\n",
              "      <td>...</td>\n",
              "    </tr>\n",
              "    <tr>\n",
              "      <th>1847</th>\n",
              "      <td>2021-08-02 23</td>\n",
              "      <td>{search/results-target-web-motors</td>\n",
              "      <td>7327</td>\n",
              "      <td>1</td>\n",
              "      <td>0.0</td>\n",
              "      <td>None</td>\n",
              "    </tr>\n",
              "    <tr>\n",
              "      <th>1848</th>\n",
              "      <td>2021-08-02 23</td>\n",
              "      <td>{search/results-target-web-motors</td>\n",
              "      <td>7328</td>\n",
              "      <td>5</td>\n",
              "      <td>0.0</td>\n",
              "      <td>None</td>\n",
              "    </tr>\n",
              "    <tr>\n",
              "      <th>1849</th>\n",
              "      <td>2021-08-02 23</td>\n",
              "      <td>{searchbackend/recommended-products</td>\n",
              "      <td>6157</td>\n",
              "      <td>28</td>\n",
              "      <td>0.0</td>\n",
              "      <td>None</td>\n",
              "    </tr>\n",
              "    <tr>\n",
              "      <th>1850</th>\n",
              "      <td>2021-08-02 23</td>\n",
              "      <td>{searchbackend/recommended-products</td>\n",
              "      <td>6158</td>\n",
              "      <td>38</td>\n",
              "      <td>2.0</td>\n",
              "      <td>None</td>\n",
              "    </tr>\n",
              "    <tr>\n",
              "      <th>1851</th>\n",
              "      <td>2021-08-02 23</td>\n",
              "      <td>{vip/showV2V3BoxMessages</td>\n",
              "      <td>6430</td>\n",
              "      <td>17</td>\n",
              "      <td>0.0</td>\n",
              "      <td>6430</td>\n",
              "    </tr>\n",
              "  </tbody>\n",
              "</table>\n",
              "<p>1852 rows × 6 columns</p>\n",
              "</div>\n",
              "      <button class=\"colab-df-convert\" onclick=\"convertToInteractive('df-7e58f09e-60ef-4d14-a548-e38c68db5b0a')\"\n",
              "              title=\"Convert this dataframe to an interactive table.\"\n",
              "              style=\"display:none;\">\n",
              "        \n",
              "  <svg xmlns=\"http://www.w3.org/2000/svg\" height=\"24px\"viewBox=\"0 0 24 24\"\n",
              "       width=\"24px\">\n",
              "    <path d=\"M0 0h24v24H0V0z\" fill=\"none\"/>\n",
              "    <path d=\"M18.56 5.44l.94 2.06.94-2.06 2.06-.94-2.06-.94-.94-2.06-.94 2.06-2.06.94zm-11 1L8.5 8.5l.94-2.06 2.06-.94-2.06-.94L8.5 2.5l-.94 2.06-2.06.94zm10 10l.94 2.06.94-2.06 2.06-.94-2.06-.94-.94-2.06-.94 2.06-2.06.94z\"/><path d=\"M17.41 7.96l-1.37-1.37c-.4-.4-.92-.59-1.43-.59-.52 0-1.04.2-1.43.59L10.3 9.45l-7.72 7.72c-.78.78-.78 2.05 0 2.83L4 21.41c.39.39.9.59 1.41.59.51 0 1.02-.2 1.41-.59l7.78-7.78 2.81-2.81c.8-.78.8-2.07 0-2.86zM5.41 20L4 18.59l7.72-7.72 1.47 1.35L5.41 20z\"/>\n",
              "  </svg>\n",
              "      </button>\n",
              "      \n",
              "  <style>\n",
              "    .colab-df-container {\n",
              "      display:flex;\n",
              "      flex-wrap:wrap;\n",
              "      gap: 12px;\n",
              "    }\n",
              "\n",
              "    .colab-df-convert {\n",
              "      background-color: #E8F0FE;\n",
              "      border: none;\n",
              "      border-radius: 50%;\n",
              "      cursor: pointer;\n",
              "      display: none;\n",
              "      fill: #1967D2;\n",
              "      height: 32px;\n",
              "      padding: 0 0 0 0;\n",
              "      width: 32px;\n",
              "    }\n",
              "\n",
              "    .colab-df-convert:hover {\n",
              "      background-color: #E2EBFA;\n",
              "      box-shadow: 0px 1px 2px rgba(60, 64, 67, 0.3), 0px 1px 3px 1px rgba(60, 64, 67, 0.15);\n",
              "      fill: #174EA6;\n",
              "    }\n",
              "\n",
              "    [theme=dark] .colab-df-convert {\n",
              "      background-color: #3B4455;\n",
              "      fill: #D2E3FC;\n",
              "    }\n",
              "\n",
              "    [theme=dark] .colab-df-convert:hover {\n",
              "      background-color: #434B5C;\n",
              "      box-shadow: 0px 1px 3px 1px rgba(0, 0, 0, 0.15);\n",
              "      filter: drop-shadow(0px 1px 2px rgba(0, 0, 0, 0.3));\n",
              "      fill: #FFFFFF;\n",
              "    }\n",
              "  </style>\n",
              "\n",
              "      <script>\n",
              "        const buttonEl =\n",
              "          document.querySelector('#df-7e58f09e-60ef-4d14-a548-e38c68db5b0a button.colab-df-convert');\n",
              "        buttonEl.style.display =\n",
              "          google.colab.kernel.accessAllowed ? 'block' : 'none';\n",
              "\n",
              "        async function convertToInteractive(key) {\n",
              "          const element = document.querySelector('#df-7e58f09e-60ef-4d14-a548-e38c68db5b0a');\n",
              "          const dataTable =\n",
              "            await google.colab.kernel.invokeFunction('convertToInteractive',\n",
              "                                                     [key], {});\n",
              "          if (!dataTable) return;\n",
              "\n",
              "          const docLinkHtml = 'Like what you see? Visit the ' +\n",
              "            '<a target=\"_blank\" href=https://colab.research.google.com/notebooks/data_table.ipynb>data table notebook</a>'\n",
              "            + ' to learn more about interactive tables.';\n",
              "          element.innerHTML = '';\n",
              "          dataTable['output_type'] = 'display_data';\n",
              "          await google.colab.output.renderOutput(dataTable, element);\n",
              "          const docLink = document.createElement('div');\n",
              "          docLink.innerHTML = docLinkHtml;\n",
              "          element.appendChild(docLink);\n",
              "        }\n",
              "      </script>\n",
              "    </div>\n",
              "  </div>\n",
              "  "
            ]
          },
          "metadata": {},
          "execution_count": 42
        }
      ]
    },
    {
      "cell_type": "code",
      "source": [
        "#Instala la biblioteca de cliente de BigQuery para Python\n",
        "!pip install google-cloud-bigquery\n"
      ],
      "metadata": {
        "colab": {
          "base_uri": "https://localhost:8080/"
        },
        "id": "j6iNSQ8QQMkx",
        "outputId": "89f5c318-b9e1-4cdd-c029-f242a66b7d88"
      },
      "execution_count": 44,
      "outputs": [
        {
          "output_type": "stream",
          "name": "stdout",
          "text": [
            "Looking in indexes: https://pypi.org/simple, https://us-python.pkg.dev/colab-wheels/public/simple/\n",
            "Requirement already satisfied: google-cloud-bigquery in /usr/local/lib/python3.9/dist-packages (3.9.0)\n",
            "Requirement already satisfied: google-api-core[grpc]!=2.0.*,!=2.1.*,!=2.2.*,!=2.3.0,<3.0.0dev,>=1.31.5 in /usr/local/lib/python3.9/dist-packages (from google-cloud-bigquery) (2.11.0)\n",
            "Requirement already satisfied: packaging>=20.0.0 in /usr/local/lib/python3.9/dist-packages (from google-cloud-bigquery) (23.0)\n",
            "Requirement already satisfied: protobuf!=3.20.0,!=3.20.1,!=4.21.0,!=4.21.1,!=4.21.2,!=4.21.3,!=4.21.4,!=4.21.5,<5.0.0dev,>=3.19.5 in /usr/local/lib/python3.9/dist-packages (from google-cloud-bigquery) (3.20.3)\n",
            "Requirement already satisfied: google-resumable-media<3.0dev,>=0.6.0 in /usr/local/lib/python3.9/dist-packages (from google-cloud-bigquery) (2.4.1)\n",
            "Requirement already satisfied: grpcio<2.0dev,>=1.47.0 in /usr/local/lib/python3.9/dist-packages (from google-cloud-bigquery) (1.53.0)\n",
            "Requirement already satisfied: requests<3.0.0dev,>=2.21.0 in /usr/local/lib/python3.9/dist-packages (from google-cloud-bigquery) (2.27.1)\n",
            "Requirement already satisfied: proto-plus<2.0.0dev,>=1.15.0 in /usr/local/lib/python3.9/dist-packages (from google-cloud-bigquery) (1.22.2)\n",
            "Requirement already satisfied: google-cloud-core<3.0.0dev,>=1.6.0 in /usr/local/lib/python3.9/dist-packages (from google-cloud-bigquery) (2.3.2)\n",
            "Requirement already satisfied: python-dateutil<3.0dev,>=2.7.2 in /usr/local/lib/python3.9/dist-packages (from google-cloud-bigquery) (2.8.2)\n",
            "Requirement already satisfied: google-auth<3.0dev,>=2.14.1 in /usr/local/lib/python3.9/dist-packages (from google-api-core[grpc]!=2.0.*,!=2.1.*,!=2.2.*,!=2.3.0,<3.0.0dev,>=1.31.5->google-cloud-bigquery) (2.17.2)\n",
            "Requirement already satisfied: googleapis-common-protos<2.0dev,>=1.56.2 in /usr/local/lib/python3.9/dist-packages (from google-api-core[grpc]!=2.0.*,!=2.1.*,!=2.2.*,!=2.3.0,<3.0.0dev,>=1.31.5->google-cloud-bigquery) (1.59.0)\n",
            "Requirement already satisfied: grpcio-status<2.0dev,>=1.33.2 in /usr/local/lib/python3.9/dist-packages (from google-api-core[grpc]!=2.0.*,!=2.1.*,!=2.2.*,!=2.3.0,<3.0.0dev,>=1.31.5->google-cloud-bigquery) (1.48.2)\n",
            "Requirement already satisfied: google-crc32c<2.0dev,>=1.0 in /usr/local/lib/python3.9/dist-packages (from google-resumable-media<3.0dev,>=0.6.0->google-cloud-bigquery) (1.5.0)\n",
            "Requirement already satisfied: six>=1.5 in /usr/local/lib/python3.9/dist-packages (from python-dateutil<3.0dev,>=2.7.2->google-cloud-bigquery) (1.16.0)\n",
            "Requirement already satisfied: urllib3<1.27,>=1.21.1 in /usr/local/lib/python3.9/dist-packages (from requests<3.0.0dev,>=2.21.0->google-cloud-bigquery) (1.26.15)\n",
            "Requirement already satisfied: idna<4,>=2.5 in /usr/local/lib/python3.9/dist-packages (from requests<3.0.0dev,>=2.21.0->google-cloud-bigquery) (3.4)\n",
            "Requirement already satisfied: charset-normalizer~=2.0.0 in /usr/local/lib/python3.9/dist-packages (from requests<3.0.0dev,>=2.21.0->google-cloud-bigquery) (2.0.12)\n",
            "Requirement already satisfied: certifi>=2017.4.17 in /usr/local/lib/python3.9/dist-packages (from requests<3.0.0dev,>=2.21.0->google-cloud-bigquery) (2022.12.7)\n",
            "Requirement already satisfied: pyasn1-modules>=0.2.1 in /usr/local/lib/python3.9/dist-packages (from google-auth<3.0dev,>=2.14.1->google-api-core[grpc]!=2.0.*,!=2.1.*,!=2.2.*,!=2.3.0,<3.0.0dev,>=1.31.5->google-cloud-bigquery) (0.2.8)\n",
            "Requirement already satisfied: rsa<5,>=3.1.4 in /usr/local/lib/python3.9/dist-packages (from google-auth<3.0dev,>=2.14.1->google-api-core[grpc]!=2.0.*,!=2.1.*,!=2.2.*,!=2.3.0,<3.0.0dev,>=1.31.5->google-cloud-bigquery) (4.9)\n",
            "Requirement already satisfied: cachetools<6.0,>=2.0.0 in /usr/local/lib/python3.9/dist-packages (from google-auth<3.0dev,>=2.14.1->google-api-core[grpc]!=2.0.*,!=2.1.*,!=2.2.*,!=2.3.0,<3.0.0dev,>=1.31.5->google-cloud-bigquery) (5.3.0)\n",
            "Requirement already satisfied: pyasn1<0.5.0,>=0.4.6 in /usr/local/lib/python3.9/dist-packages (from pyasn1-modules>=0.2.1->google-auth<3.0dev,>=2.14.1->google-api-core[grpc]!=2.0.*,!=2.1.*,!=2.2.*,!=2.3.0,<3.0.0dev,>=1.31.5->google-cloud-bigquery) (0.4.8)\n"
          ]
        }
      ]
    },
    {
      "cell_type": "code",
      "source": [
        "#Importa las bibliotecas necesarias\n",
        "from google.colab import auth\n",
        "from google.cloud import bigquery\n"
      ],
      "metadata": {
        "id": "mH5uY1_AQsDf"
      },
      "execution_count": 45,
      "outputs": []
    },
    {
      "cell_type": "code",
      "source": [
        "#Autentica tu cuenta de Google en Colab\n",
        "auth.authenticate_user()"
      ],
      "metadata": {
        "id": "h99JNyKoQx7R"
      },
      "execution_count": 46,
      "outputs": []
    },
    {
      "cell_type": "code",
      "source": [
        "#Variables del proyecto\n",
        "project_id = 'prueba-meli-384022'\n",
        "dataset_id = 'abtesting'\n",
        "table_id = 'final_data'\n"
      ],
      "metadata": {
        "id": "Zp2Lqe3ZQ8oy"
      },
      "execution_count": 57,
      "outputs": []
    },
    {
      "cell_type": "code",
      "source": [
        "#Crea una instancia del cliente de BigQuery y un objeto TableReference para la tabla de destino\n",
        "client = bigquery.Client(project=project_id)\n",
        "table_ref = client.dataset(dataset_id).table(table_id)"
      ],
      "metadata": {
        "id": "0e3pjI4uR6PI"
      },
      "execution_count": 58,
      "outputs": []
    },
    {
      "cell_type": "code",
      "source": [
        "#Luego, crea el conjunto de datos si aún no existe\n",
        "dataset = bigquery.Dataset(client.dataset(dataset_id))\n",
        "try:\n",
        "    client.create_dataset(dataset)\n",
        "    print(f\"Dataset {dataset_id} creado.\")\n",
        "except Exception as e:\n",
        "    print(f\"El dataset {dataset_id} ya existe.\")"
      ],
      "metadata": {
        "colab": {
          "base_uri": "https://localhost:8080/"
        },
        "id": "m1Ok1UFNSEwv",
        "outputId": "caf47a41-01c3-44e8-c98b-9a6ddd690e25"
      },
      "execution_count": 59,
      "outputs": [
        {
          "output_type": "stream",
          "name": "stdout",
          "text": [
            "El dataset abtesting ya existe.\n"
          ]
        }
      ]
    },
    {
      "cell_type": "code",
      "source": [
        "import tempfile\n",
        "import pandas as pd\n",
        "\n",
        "# Guardar el DataFrame como un archivo Parquet temporal\n",
        "temp_parquet = tempfile.NamedTemporaryFile(delete=False, suffix='.parquet')\n",
        "final_data.to_parquet(temp_parquet.name)\n",
        "\n",
        "# Cargar el archivo Parquet temporal en BigQuery\n",
        "job_config = bigquery.LoadJobConfig()\n",
        "job_config.source_format = bigquery.SourceFormat.PARQUET\n",
        "job_config.autodetect = True\n",
        "\n",
        "with open(temp_parquet.name, \"rb\") as source_file:\n",
        "    job = client.load_table_from_file(source_file, 'prueba-meli-384022.abtesting.final_data', job_config=job_config)\n",
        "job.result()\n",
        "\n",
        "# Eliminar el archivo Parquet temporal\n",
        "temp_parquet.close()\n",
        "\n"
      ],
      "metadata": {
        "id": "cyOixlzISIUJ"
      },
      "execution_count": 60,
      "outputs": []
    },
    {
      "cell_type": "code",
      "source": [
        "pip install fastapi uvicorn\n"
      ],
      "metadata": {
        "colab": {
          "base_uri": "https://localhost:8080/"
        },
        "id": "6t3wQZXzfOlo",
        "outputId": "e4446573-9f9d-4c9f-9d04-fe61caed0487"
      },
      "execution_count": 61,
      "outputs": [
        {
          "output_type": "stream",
          "name": "stdout",
          "text": [
            "Looking in indexes: https://pypi.org/simple, https://us-python.pkg.dev/colab-wheels/public/simple/\n",
            "Collecting fastapi\n",
            "  Downloading fastapi-0.95.1-py3-none-any.whl (56 kB)\n",
            "\u001b[2K     \u001b[90m━━━━━━━━━━━━━━━━━━━━━━━━━━━━━━━━━━━━━━━━\u001b[0m \u001b[32m57.0/57.0 kB\u001b[0m \u001b[31m2.4 MB/s\u001b[0m eta \u001b[36m0:00:00\u001b[0m\n",
            "\u001b[?25hCollecting uvicorn\n",
            "  Downloading uvicorn-0.21.1-py3-none-any.whl (57 kB)\n",
            "\u001b[2K     \u001b[90m━━━━━━━━━━━━━━━━━━━━━━━━━━━━━━━━━━━━━━━━\u001b[0m \u001b[32m57.8/57.8 kB\u001b[0m \u001b[31m4.0 MB/s\u001b[0m eta \u001b[36m0:00:00\u001b[0m\n",
            "\u001b[?25hRequirement already satisfied: pydantic!=1.7,!=1.7.1,!=1.7.2,!=1.7.3,!=1.8,!=1.8.1,<2.0.0,>=1.6.2 in /usr/local/lib/python3.9/dist-packages (from fastapi) (1.10.7)\n",
            "Collecting starlette<0.27.0,>=0.26.1\n",
            "  Downloading starlette-0.26.1-py3-none-any.whl (66 kB)\n",
            "\u001b[2K     \u001b[90m━━━━━━━━━━━━━━━━━━━━━━━━━━━━━━━━━━━━━━━━\u001b[0m \u001b[32m66.9/66.9 kB\u001b[0m \u001b[31m6.5 MB/s\u001b[0m eta \u001b[36m0:00:00\u001b[0m\n",
            "\u001b[?25hCollecting h11>=0.8\n",
            "  Downloading h11-0.14.0-py3-none-any.whl (58 kB)\n",
            "\u001b[2K     \u001b[90m━━━━━━━━━━━━━━━━━━━━━━━━━━━━━━━━━━━━━━━━\u001b[0m \u001b[32m58.3/58.3 kB\u001b[0m \u001b[31m4.7 MB/s\u001b[0m eta \u001b[36m0:00:00\u001b[0m\n",
            "\u001b[?25hRequirement already satisfied: click>=7.0 in /usr/local/lib/python3.9/dist-packages (from uvicorn) (8.1.3)\n",
            "Requirement already satisfied: typing-extensions>=4.2.0 in /usr/local/lib/python3.9/dist-packages (from pydantic!=1.7,!=1.7.1,!=1.7.2,!=1.7.3,!=1.8,!=1.8.1,<2.0.0,>=1.6.2->fastapi) (4.5.0)\n",
            "Requirement already satisfied: anyio<5,>=3.4.0 in /usr/local/lib/python3.9/dist-packages (from starlette<0.27.0,>=0.26.1->fastapi) (3.6.2)\n",
            "Requirement already satisfied: idna>=2.8 in /usr/local/lib/python3.9/dist-packages (from anyio<5,>=3.4.0->starlette<0.27.0,>=0.26.1->fastapi) (3.4)\n",
            "Requirement already satisfied: sniffio>=1.1 in /usr/local/lib/python3.9/dist-packages (from anyio<5,>=3.4.0->starlette<0.27.0,>=0.26.1->fastapi) (1.3.0)\n",
            "Installing collected packages: h11, uvicorn, starlette, fastapi\n",
            "Successfully installed fastapi-0.95.1 h11-0.14.0 starlette-0.26.1 uvicorn-0.21.1\n"
          ]
        }
      ]
    },
    {
      "cell_type": "code",
      "source": [
        "from fastapi import FastAPI, HTTPException\n",
        "from typing import List\n",
        "import pandas as pd\n",
        "from google.cloud import bigquery\n",
        "\n",
        "app = FastAPI()\n",
        "\n",
        "# Establecer las credenciales del proyecto\n",
        "project_id = 'prueba-meli-384022'\n",
        "dataset_id = 'abtesting'\n",
        "table_id = 'final_data'\n",
        "client = bigquery.Client(project=project_id)\n",
        "\n",
        "@app.get(\"/experiment/{experiment_id}/result\")\n",
        "async def read_experiment_result(experiment_id: str, day: str):\n",
        "    try:\n",
        "        # Consultar los resultados del experimento y día especificados\n",
        "        table = client.get_table(f\"{project_id}.{dataset_id}.{table_id}\")\n",
        "        query_job = client.query(f'''\n",
        "            SELECT Experiment, Variant, Users, Buy, winner_variant\n",
        "            FROM `{project_id}.{dataset_id}.{table_id}`\n",
        "            WHERE Day = \"{day}\" AND Experiment = \"{experiment_id}\"\n",
        "        ''')\n",
        "        results = query_job.to_dataframe()\n",
        "\n",
        "        # Si no hay resultados para el experimento y día especificados, devolver error 404\n",
        "        if results.empty:\n",
        "            raise HTTPException(status_code=404, detail=\"Experimento no encontrado\")\n",
        "\n",
        "        # Crear un diccionario con los resultados\n",
        "        experiment_data = {}\n",
        "        variants = []\n",
        "        for i, row in results.iterrows():\n",
        "            variant_data = {\n",
        "                \"id\": row[\"Variant\"],\n",
        "                \"number_of_purchases\": int(row[\"Buy\"])\n",
        "            }\n",
        "            variants.append(variant_data)\n",
        "        experiment_data[experiment_id] = {\n",
        "            \"number_of_participants\": int(results[\"Users\"].sum()),\n",
        "            \"winner\": str(results[\"winner_variant\"].iloc[0]),\n",
        "            \"variants\": variants\n",
        "        }\n",
        "        response = {\"results\": experiment_data}\n",
        "        return response\n",
        "\n",
        "    except Exception as e:\n",
        "        # Devolver error 500 si ocurre algún error durante la consulta\n",
        "        raise HTTPException(status_code=500, detail=str(e))\n"
      ],
      "metadata": {
        "id": "DEsv8oAbf26l"
      },
      "execution_count": 64,
      "outputs": []
    },
    {
      "cell_type": "code",
      "source": [
        "!pip install uvicorn[standard]\n",
        "!uvicorn app:app --reload\n"
      ],
      "metadata": {
        "colab": {
          "base_uri": "https://localhost:8080/"
        },
        "id": "yQenO_dchowu",
        "outputId": "9e94a539-1b67-4240-d731-8bef76ac969d"
      },
      "execution_count": null,
      "outputs": [
        {
          "output_type": "stream",
          "name": "stdout",
          "text": [
            "Looking in indexes: https://pypi.org/simple, https://us-python.pkg.dev/colab-wheels/public/simple/\n",
            "Requirement already satisfied: uvicorn[standard] in /usr/local/lib/python3.9/dist-packages (0.21.1)\n",
            "Requirement already satisfied: h11>=0.8 in /usr/local/lib/python3.9/dist-packages (from uvicorn[standard]) (0.14.0)\n",
            "Requirement already satisfied: click>=7.0 in /usr/local/lib/python3.9/dist-packages (from uvicorn[standard]) (8.1.3)\n",
            "Collecting python-dotenv>=0.13\n",
            "  Downloading python_dotenv-1.0.0-py3-none-any.whl (19 kB)\n",
            "Collecting httptools>=0.5.0\n",
            "  Downloading httptools-0.5.0-cp39-cp39-manylinux_2_5_x86_64.manylinux1_x86_64.manylinux_2_17_x86_64.manylinux2014_x86_64.whl (417 kB)\n",
            "\u001b[2K     \u001b[90m━━━━━━━━━━━━━━━━━━━━━━━━━━━━━━━━━━━━━━━\u001b[0m \u001b[32m417.9/417.9 kB\u001b[0m \u001b[31m8.1 MB/s\u001b[0m eta \u001b[36m0:00:00\u001b[0m\n",
            "\u001b[?25hRequirement already satisfied: pyyaml>=5.1 in /usr/local/lib/python3.9/dist-packages (from uvicorn[standard]) (6.0)\n",
            "Collecting websockets>=10.4\n",
            "  Downloading websockets-11.0.1-cp39-cp39-manylinux_2_5_x86_64.manylinux1_x86_64.manylinux_2_17_x86_64.manylinux2014_x86_64.whl (129 kB)\n",
            "\u001b[2K     \u001b[90m━━━━━━━━━━━━━━━━━━━━━━━━━━━━━━━━━━━━━━\u001b[0m \u001b[32m129.5/129.5 kB\u001b[0m \u001b[31m10.8 MB/s\u001b[0m eta \u001b[36m0:00:00\u001b[0m\n",
            "\u001b[?25hCollecting uvloop!=0.15.0,!=0.15.1,>=0.14.0\n",
            "  Downloading uvloop-0.17.0-cp39-cp39-manylinux_2_17_x86_64.manylinux2014_x86_64.whl (4.2 MB)\n",
            "\u001b[2K     \u001b[90m━━━━━━━━━━━━━━━━━━━━━━━━━━━━━━━━━━━━━━━━\u001b[0m \u001b[32m4.2/4.2 MB\u001b[0m \u001b[31m51.0 MB/s\u001b[0m eta \u001b[36m0:00:00\u001b[0m\n",
            "\u001b[?25hCollecting watchfiles>=0.13\n",
            "  Downloading watchfiles-0.19.0-cp37-abi3-manylinux_2_17_x86_64.manylinux2014_x86_64.whl (1.3 MB)\n",
            "\u001b[2K     \u001b[90m━━━━━━━━━━━━━━━━━━━━━━━━━━━━━━━━━━━━━━━━\u001b[0m \u001b[32m1.3/1.3 MB\u001b[0m \u001b[31m61.8 MB/s\u001b[0m eta \u001b[36m0:00:00\u001b[0m\n",
            "\u001b[?25hRequirement already satisfied: anyio>=3.0.0 in /usr/local/lib/python3.9/dist-packages (from watchfiles>=0.13->uvicorn[standard]) (3.6.2)\n",
            "Requirement already satisfied: sniffio>=1.1 in /usr/local/lib/python3.9/dist-packages (from anyio>=3.0.0->watchfiles>=0.13->uvicorn[standard]) (1.3.0)\n",
            "Requirement already satisfied: idna>=2.8 in /usr/local/lib/python3.9/dist-packages (from anyio>=3.0.0->watchfiles>=0.13->uvicorn[standard]) (3.4)\n",
            "Installing collected packages: websockets, uvloop, python-dotenv, httptools, watchfiles\n",
            "Successfully installed httptools-0.5.0 python-dotenv-1.0.0 uvloop-0.17.0 watchfiles-0.19.0 websockets-11.0.1\n",
            "\u001b[32mINFO\u001b[0m:     Will watch for changes in these directories: ['/content']\n",
            "\u001b[32mINFO\u001b[0m:     Uvicorn running on \u001b[1mhttp://127.0.0.1:8000\u001b[0m (Press CTRL+C to quit)\n",
            "\u001b[32mINFO\u001b[0m:     Started reloader process [\u001b[36m\u001b[1m86177\u001b[0m] using \u001b[36m\u001b[1mWatchFiles\u001b[0m\n",
            "\u001b[31mERROR\u001b[0m:    Error loading ASGI app. Could not import module \"app\".\n",
            "\u001b[33mWARNING\u001b[0m:  WatchFiles detected changes in 'drive/MyDrive/Colab Notebooks/main.py'. Reloading...\n",
            "\u001b[31mERROR\u001b[0m:    Error loading ASGI app. Could not import module \"app\".\n",
            "\u001b[33mWARNING\u001b[0m:  WatchFiles detected changes in 'drive/MyDrive/Colab Notebooks/main.py'. Reloading...\n",
            "\u001b[31mERROR\u001b[0m:    Error loading ASGI app. Could not import module \"app\".\n",
            "\u001b[33mWARNING\u001b[0m:  WatchFiles detected changes in 'drive/MyDrive/Colab Notebooks/main.py'. Reloading...\n",
            "\u001b[31mERROR\u001b[0m:    Error loading ASGI app. Could not import module \"app\".\n",
            "\u001b[33mWARNING\u001b[0m:  WatchFiles detected changes in 'drive/MyDrive/Colab Notebooks/main.py'. Reloading...\n",
            "\u001b[31mERROR\u001b[0m:    Error loading ASGI app. Could not import module \"app\".\n"
          ]
        }
      ]
    }
  ]
}